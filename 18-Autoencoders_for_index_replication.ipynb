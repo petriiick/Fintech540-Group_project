{
 "cells": [
  {
   "cell_type": "markdown",
   "metadata": {
    "jp-MarkdownHeadingCollapsed": true,
    "tags": []
   },
   "source": [
    "# Autoencoders for Index Replication\n",
    "\n",
    "*Passive investing is a buy-and-hold strategy that involves buying an asset (or set of assets) to hold it for a long-term horizon. Index replication or index tracking is one of the most popular methods belonging to this group. It is aimed at matching the performance of the benchmark index while minimizing the error.* Hands-On Deep Learning for Finance - Troiano et al. (2020)\n",
    "\n",
    "In this lecture we will try to replicate an existing index just by using a small subset of stocks included in it. We want to minimize the tracking difference, which is the difference in return between the two series of prices, the one of the original index and the one of the replicated index.\n",
    "\n",
    "Great! But...*how do we identify the subset of stocks to use*?\n",
    "\n",
    "We will use a specific neural network architecture called **Autoencoder (AE)**. There are several AE variants in the literature. We will starrt applying a vanilla AE, the simplest, to minimize the reconstruction error of the index. Before doing that, we need to introduce a little bit of context.\n",
    "\n",
    "## Replicate an index \n",
    "\n",
    "As said, index investing is a popular passive investment strategy. Usually you cannot trade a market index directly, i.e. you cannot buys S$\\&$P500, so it is common to create portfolios that are able to replicates the index performance. This mechanism is referred to as **index replication**. The Exchange Traded Fund (ETF) industry is exactly doing this by providing investors with low management fees and high liquidity in the equity market.\n",
    "\n",
    "An index is a measurement that represents the aggregated value of a collection of assets describing a specific market segment. The value (price) of the index is calculated from the asset prices included in it according to a certain **weighting schema**. Such schema is very important because it defines the exposure of the index to each specific asset. Some common schema are\n",
    "\n",
    "- Price-weighting: It is computed as a weighted average of the stock prices, such as in the case of Dow Jones Industrial Average (DJIA).\n",
    "- Capitalization-weighting: Here, stocks are weighted based on their total market capitalization, which refers to the total number of common shares outstanding multiplied by the price per share, such as SP500 and NASDAQ Composite.\n",
    "- Equal-weighting, which assigns the same weight to all components in the portfolio.\n",
    "\n",
    "Index tracking is useful to invest in an index that has not associated any index fund or ETF. Also, a tracking portfolio is not as limited as the alternatives since we can adjust its performance.\n",
    "There are several methods to replicate an index. We can distinguish the following two groups:\n",
    "- Physical replication: It consists of indirectly investing in the asset. It can be done via full replication, buying all the asset belonging to the index, or partial replication, buying a small subset of stocks. **What are pros and cons of both?**\n",
    "- Synthetic index replication: It is based on using derivatives with the assets as underlying.\n",
    "\n",
    "*A derivative is a contract between two or more parties whose price derives from fluctuations in the underlying financial asset (such as security) or group of assets (such as an index).*\n",
    "\n",
    "\n"
   ]
  },
  {
   "cell_type": "markdown",
   "metadata": {},
   "source": [
    "# Data Collection\n",
    "\n",
    "The first step it to collect data of a specific index we want to replicate together with the price series of the constituents. We will collect all the NASDAQ constitutents together with the corresponding index price series."
   ]
  },
  {
   "cell_type": "code",
   "execution_count": 1,
   "metadata": {},
   "outputs": [],
   "source": [
    "import pandas as pd \n",
    "from pandas_datareader import data as pdr \n",
    "import numpy as np\n",
    "\n",
    "\n",
    "import matplotlib.pyplot as plt\n",
    "%matplotlib inline"
   ]
  },
  {
   "cell_type": "code",
   "execution_count": 10,
   "metadata": {},
   "outputs": [],
   "source": [
    "# Stocks symbols \n",
    "symbols = list(pd.read_excel(r\"C:\\Users\\Moneybag Mike\\Documents\\ML_540_Project\\data\\tech_symbols.xlsx\").values.reshape(-1,))\n",
    "index_symbol = '^NDX'"
   ]
  },
  {
   "cell_type": "code",
   "execution_count": 8,
   "metadata": {},
   "outputs": [
    {
     "ename": "NameError",
     "evalue": "name 'symbols' is not defined",
     "output_type": "error",
     "traceback": [
      "\u001b[1;31m---------------------------------------------------------------------------\u001b[0m",
      "\u001b[1;31mNameError\u001b[0m                                 Traceback (most recent call last)",
      "\u001b[1;32m<ipython-input-8-349a1a2b8366>\u001b[0m in \u001b[0;36m<module>\u001b[1;34m\u001b[0m\n\u001b[1;32m----> 1\u001b[1;33m \u001b[0msymbols\u001b[0m\u001b[1;33m\u001b[0m\u001b[1;33m\u001b[0m\u001b[0m\n\u001b[0m",
      "\u001b[1;31mNameError\u001b[0m: name 'symbols' is not defined"
     ]
    }
   ],
   "source": [
    " #symbols"
   ]
  },
  {
   "cell_type": "code",
   "execution_count": 11,
   "metadata": {},
   "outputs": [],
   "source": [
    "# Dates \n",
    "start_date = '2012-01-01' \n",
    "end_date = '2022-07-01'"
   ]
  },
  {
   "cell_type": "code",
   "execution_count": 12,
   "metadata": {},
   "outputs": [],
   "source": [
    "# Download index data \n",
    "data = pd.DataFrame()\n",
    "# Empty dataframe \n",
    "data[index_symbol] = pdr.DataReader(index_symbol, 'yahoo', start_date, end_date)['Adj Close']"
   ]
  },
  {
   "cell_type": "code",
   "execution_count": 13,
   "metadata": {},
   "outputs": [
    {
     "data": {
      "text/plain": [
       "<AxesSubplot:xlabel='Date'>"
      ]
     },
     "execution_count": 13,
     "metadata": {},
     "output_type": "execute_result"
    },
    {
     "data": {
      "image/png": "[encoded data removed]",
      "text/plain": [
       "<Figure size 432x288 with 1 Axes>"
      ]
     },
     "metadata": {
      "needs_background": "light"
     },
     "output_type": "display_data"
    }
   ],
   "source": [
    "data.plot()"
   ]
  },
  {
   "cell_type": "code",
   "execution_count": 14,
   "metadata": {},
   "outputs": [
    {
     "name": "stdout",
     "output_type": "stream",
     "text": [
      "Downloading....  0 AAPL\n",
      "Downloading....  1 ABNB\n",
      "Downloading....  2 ADBE\n",
      "Downloading....  3 ADI\n",
      "Downloading....  4 ADP\n",
      "Downloading....  5 ADSK\n",
      "Downloading....  6 AEP\n",
      "Downloading....  7 ALGN\n",
      "Downloading....  8 AMAT\n",
      "Downloading....  9 AMD\n",
      "Downloading....  10 AMGN\n",
      "Downloading....  11 AMZN\n",
      "Downloading....  12 ANSS\n",
      "Downloading....  13 ASML\n",
      "Downloading....  14 ATVI\n",
      "Downloading....  15 AVGO\n",
      "Downloading....  16 AZN\n",
      "Downloading....  17 BIDU\n",
      "Downloading....  18 BIIB\n",
      "Downloading....  19 BKNG\n",
      "Downloading....  20 CDNS\n",
      "Downloading....  21 CEG\n",
      "Downloading....  22 CHTR\n",
      "Downloading....  23 CMCSA\n",
      "Downloading....  24 COST\n",
      "Downloading....  25 CPRT\n",
      "Downloading....  26 CRWD\n",
      "Downloading....  27 CSCO\n",
      "Downloading....  28 CSX\n",
      "Downloading....  29 CTAS\n",
      "Downloading....  30 CTSH\n",
      "Downloading....  31 DDOG\n",
      "Downloading....  32 DLTR\n",
      "Downloading....  33 DOCU\n",
      "Downloading....  34 DXCM\n",
      "Downloading....  35 EA\n",
      "Downloading....  36 EBAY\n",
      "Downloading....  37 EXC\n",
      "Downloading....  38 FAST\n",
      "Downloading....  39 FISV\n",
      "Downloading....  40 FTNT\n",
      "Downloading....  41 GILD\n",
      "Downloading....  42 GOOG\n",
      "Downloading....  43 GOOGL\n",
      "Downloading....  44 HON\n",
      "Downloading....  45 IDXX\n",
      "Downloading....  46 ILMN\n",
      "Downloading....  47 INTC\n",
      "Downloading....  48 INTU\n",
      "Downloading....  49 ISRG\n",
      "Downloading....  50 JD\n",
      "Downloading....  51 KDP\n",
      "Downloading....  52 KHC\n",
      "Downloading....  53 KLAC\n",
      "Downloading....  54 LCID\n",
      "Downloading....  55 LRCX\n",
      "Downloading....  56 LULU\n",
      "Downloading....  57 MAR\n",
      "Downloading....  58 MCHP\n",
      "Downloading....  59 MDLZ\n",
      "Downloading....  60 MELI\n",
      "Downloading....  61 META\n",
      "Downloading....  62 MNST\n",
      "Downloading....  63 MRNA\n",
      "Downloading....  64 MRVL\n",
      "Downloading....  65 MSFT\n",
      "Downloading....  66 MTCH\n",
      "Downloading....  67 MU\n",
      "Downloading....  68 NFLX\n",
      "Downloading....  69 NTES\n",
      "Downloading....  70 NVDA\n",
      "Downloading....  71 NXPI\n",
      "Downloading....  72 ODFL\n",
      "Downloading....  73 OKTA\n",
      "Downloading....  74 ORLY\n",
      "Downloading....  75 PANW\n",
      "Downloading....  76 PAYX\n",
      "Downloading....  77 PCAR\n",
      "Downloading....  78 PDD\n",
      "Downloading....  79 PEP\n",
      "Downloading....  80 PYPL\n",
      "Downloading....  81 QCOM\n",
      "Downloading....  82 REGN\n",
      "Downloading....  83 ROST\n",
      "Downloading....  84 SBUX\n",
      "Downloading....  85 SGEN\n",
      "Downloading....  86 SIRI\n",
      "Downloading....  87 SNPS\n",
      "Downloading....  88 SPLK\n",
      "Downloading....  89 SWKS\n",
      "Downloading....  90 TEAM\n",
      "Downloading....  91 TMUS\n",
      "Downloading....  92 TSLA\n",
      "Downloading....  93 TXN\n",
      "Downloading....  94 VRSK\n",
      "Downloading....  95 VRSN\n",
      "Downloading....  96 VRTX\n",
      "Downloading....  97 WBA\n",
      "Downloading....  98 WDAY\n",
      "Downloading....  99 XEL\n",
      "Downloading....  100 ZM\n",
      "Downloading....  101 ZS\n"
     ]
    }
   ],
   "source": [
    "i = 0\n",
    "while i < len(symbols):\n",
    "    print('Downloading.... ', i, symbols[i])\n",
    "\n",
    "    try:\n",
    "        # Use pandas_datareader.data.DataReader to extract the desired data from Yahoo!\n",
    "        data[symbols[i]] = pdr.DataReader(symbols[i], 'yahoo', start_date, end_date)['Adj Close']\n",
    "        i +=1\n",
    "        \n",
    "    except:\n",
    "        print ('Error with connection. Wait for 1 minute to try again...')\n",
    "        # Wait for 30 seconds\n",
    "        time.sleep(30)\n",
    "        continue     "
   ]
  },
  {
   "cell_type": "code",
   "execution_count": 15,
   "metadata": {},
   "outputs": [
    {
     "data": {
      "text/plain": [
       "(2642, 103)"
      ]
     },
     "execution_count": 15,
     "metadata": {},
     "output_type": "execute_result"
    }
   ],
   "source": [
    "data.shape"
   ]
  },
  {
   "cell_type": "code",
   "execution_count": 16,
   "metadata": {},
   "outputs": [
    {
     "data": {
      "text/plain": [
       "(2642, 83)"
      ]
     },
     "execution_count": 16,
     "metadata": {},
     "output_type": "execute_result"
    }
   ],
   "source": [
    "data.dropna(axis=1).shape"
   ]
  },
  {
   "cell_type": "code",
   "execution_count": 17,
   "metadata": {},
   "outputs": [],
   "source": [
    "# Remove the missing values from dataframe\n",
    "data = data.dropna(axis=1)"
   ]
  },
  {
   "cell_type": "code",
   "execution_count": 18,
   "metadata": {},
   "outputs": [],
   "source": [
    "# Save data\n",
    "data.to_csv('data/NASDAQ_idx_and_const.csv')"
   ]
  },
  {
   "cell_type": "markdown",
   "metadata": {},
   "source": [
    "# Load data"
   ]
  },
  {
   "cell_type": "code",
   "execution_count": 19,
   "metadata": {},
   "outputs": [],
   "source": [
    "data = pd.read_csv('data/NASDAQ_idx_and_const.csv',index_col=0)"
   ]
  },
  {
   "cell_type": "code",
   "execution_count": 20,
   "metadata": {},
   "outputs": [
    {
     "data": {
      "text/html": [
       "<div>\n",
       "<style scoped>\n",
       "    .dataframe tbody tr th:only-of-type {\n",
       "        vertical-align: middle;\n",
       "    }\n",
       "\n",
       "    .dataframe tbody tr th {\n",
       "        vertical-align: top;\n",
       "    }\n",
       "\n",
       "    .dataframe thead th {\n",
       "        text-align: right;\n",
       "    }\n",
       "</style>\n",
       "<table border=\"1\" class=\"dataframe\">\n",
       "  <thead>\n",
       "    <tr style=\"text-align: right;\">\n",
       "      <th></th>\n",
       "      <th>^NDX</th>\n",
       "      <th>AAPL</th>\n",
       "      <th>ADBE</th>\n",
       "      <th>ADI</th>\n",
       "      <th>ADP</th>\n",
       "      <th>ADSK</th>\n",
       "      <th>AEP</th>\n",
       "      <th>ALGN</th>\n",
       "      <th>AMAT</th>\n",
       "      <th>AMD</th>\n",
       "      <th>...</th>\n",
       "      <th>SNPS</th>\n",
       "      <th>SWKS</th>\n",
       "      <th>TMUS</th>\n",
       "      <th>TSLA</th>\n",
       "      <th>TXN</th>\n",
       "      <th>VRSK</th>\n",
       "      <th>VRSN</th>\n",
       "      <th>VRTX</th>\n",
       "      <th>WBA</th>\n",
       "      <th>XEL</th>\n",
       "    </tr>\n",
       "    <tr>\n",
       "      <th>Date</th>\n",
       "      <th></th>\n",
       "      <th></th>\n",
       "      <th></th>\n",
       "      <th></th>\n",
       "      <th></th>\n",
       "      <th></th>\n",
       "      <th></th>\n",
       "      <th></th>\n",
       "      <th></th>\n",
       "      <th></th>\n",
       "      <th></th>\n",
       "      <th></th>\n",
       "      <th></th>\n",
       "      <th></th>\n",
       "      <th></th>\n",
       "      <th></th>\n",
       "      <th></th>\n",
       "      <th></th>\n",
       "      <th></th>\n",
       "      <th></th>\n",
       "      <th></th>\n",
       "    </tr>\n",
       "  </thead>\n",
       "  <tbody>\n",
       "    <tr>\n",
       "      <th>2012-01-03</th>\n",
       "      <td>2321.959961</td>\n",
       "      <td>12.519280</td>\n",
       "      <td>28.570000</td>\n",
       "      <td>27.857830</td>\n",
       "      <td>37.355495</td>\n",
       "      <td>30.809999</td>\n",
       "      <td>27.491365</td>\n",
       "      <td>23.950001</td>\n",
       "      <td>8.905311</td>\n",
       "      <td>5.48</td>\n",
       "      <td>...</td>\n",
       "      <td>26.990000</td>\n",
       "      <td>14.872286</td>\n",
       "      <td>15.560119</td>\n",
       "      <td>1.872000</td>\n",
       "      <td>22.259821</td>\n",
       "      <td>38.402340</td>\n",
       "      <td>35.820000</td>\n",
       "      <td>32.230000</td>\n",
       "      <td>24.575787</td>\n",
       "      <td>19.223839</td>\n",
       "    </tr>\n",
       "    <tr>\n",
       "      <th>2012-01-04</th>\n",
       "      <td>2329.709961</td>\n",
       "      <td>12.586556</td>\n",
       "      <td>28.280001</td>\n",
       "      <td>27.819162</td>\n",
       "      <td>37.314327</td>\n",
       "      <td>30.209999</td>\n",
       "      <td>27.579020</td>\n",
       "      <td>24.410000</td>\n",
       "      <td>8.955244</td>\n",
       "      <td>5.46</td>\n",
       "      <td>...</td>\n",
       "      <td>26.490000</td>\n",
       "      <td>14.836922</td>\n",
       "      <td>14.565862</td>\n",
       "      <td>1.847333</td>\n",
       "      <td>22.117706</td>\n",
       "      <td>38.031578</td>\n",
       "      <td>35.820000</td>\n",
       "      <td>32.200001</td>\n",
       "      <td>24.404818</td>\n",
       "      <td>19.097269</td>\n",
       "    </tr>\n",
       "    <tr>\n",
       "      <th>2012-01-05</th>\n",
       "      <td>2348.979980</td>\n",
       "      <td>12.726296</td>\n",
       "      <td>28.480000</td>\n",
       "      <td>27.942881</td>\n",
       "      <td>37.588696</td>\n",
       "      <td>30.820000</td>\n",
       "      <td>27.612736</td>\n",
       "      <td>24.190001</td>\n",
       "      <td>9.013505</td>\n",
       "      <td>5.46</td>\n",
       "      <td>...</td>\n",
       "      <td>26.850000</td>\n",
       "      <td>15.279023</td>\n",
       "      <td>13.273328</td>\n",
       "      <td>1.808000</td>\n",
       "      <td>22.274776</td>\n",
       "      <td>38.177933</td>\n",
       "      <td>35.740002</td>\n",
       "      <td>33.119999</td>\n",
       "      <td>24.323042</td>\n",
       "      <td>19.181652</td>\n",
       "    </tr>\n",
       "    <tr>\n",
       "      <th>2012-01-06</th>\n",
       "      <td>2356.169922</td>\n",
       "      <td>12.859336</td>\n",
       "      <td>28.719999</td>\n",
       "      <td>27.757317</td>\n",
       "      <td>37.643566</td>\n",
       "      <td>30.959999</td>\n",
       "      <td>27.504852</td>\n",
       "      <td>23.709999</td>\n",
       "      <td>9.163312</td>\n",
       "      <td>5.43</td>\n",
       "      <td>...</td>\n",
       "      <td>26.870001</td>\n",
       "      <td>15.164075</td>\n",
       "      <td>13.289900</td>\n",
       "      <td>1.794000</td>\n",
       "      <td>22.274776</td>\n",
       "      <td>38.412090</td>\n",
       "      <td>35.400002</td>\n",
       "      <td>34.049999</td>\n",
       "      <td>24.590662</td>\n",
       "      <td>19.125395</td>\n",
       "    </tr>\n",
       "    <tr>\n",
       "      <th>2012-01-09</th>\n",
       "      <td>2350.649902</td>\n",
       "      <td>12.838937</td>\n",
       "      <td>28.530001</td>\n",
       "      <td>28.298542</td>\n",
       "      <td>37.499531</td>\n",
       "      <td>31.080000</td>\n",
       "      <td>27.632969</td>\n",
       "      <td>22.670000</td>\n",
       "      <td>9.437966</td>\n",
       "      <td>5.59</td>\n",
       "      <td>...</td>\n",
       "      <td>27.040001</td>\n",
       "      <td>15.747651</td>\n",
       "      <td>13.588176</td>\n",
       "      <td>1.816667</td>\n",
       "      <td>22.559010</td>\n",
       "      <td>38.421856</td>\n",
       "      <td>35.020000</td>\n",
       "      <td>35.680000</td>\n",
       "      <td>24.902863</td>\n",
       "      <td>19.139460</td>\n",
       "    </tr>\n",
       "  </tbody>\n",
       "</table>\n",
       "<p>5 rows × 83 columns</p>\n",
       "</div>"
      ],
      "text/plain": [
       "                   ^NDX       AAPL       ADBE        ADI        ADP  \\\n",
       "Date                                                                  \n",
       "2012-01-03  2321.959961  12.519280  28.570000  27.857830  37.355495   \n",
       "2012-01-04  2329.709961  12.586556  28.280001  27.819162  37.314327   \n",
       "2012-01-05  2348.979980  12.726296  28.480000  27.942881  37.588696   \n",
       "2012-01-06  2356.169922  12.859336  28.719999  27.757317  37.643566   \n",
       "2012-01-09  2350.649902  12.838937  28.530001  28.298542  37.499531   \n",
       "\n",
       "                 ADSK        AEP       ALGN      AMAT   AMD  ...       SNPS  \\\n",
       "Date                                                         ...              \n",
       "2012-01-03  30.809999  27.491365  23.950001  8.905311  5.48  ...  26.990000   \n",
       "2012-01-04  30.209999  27.579020  24.410000  8.955244  5.46  ...  26.490000   \n",
       "2012-01-05  30.820000  27.612736  24.190001  9.013505  5.46  ...  26.850000   \n",
       "2012-01-06  30.959999  27.504852  23.709999  9.163312  5.43  ...  26.870001   \n",
       "2012-01-09  31.080000  27.632969  22.670000  9.437966  5.59  ...  27.040001   \n",
       "\n",
       "                 SWKS       TMUS      TSLA        TXN       VRSK       VRSN  \\\n",
       "Date                                                                          \n",
       "2012-01-03  14.872286  15.560119  1.872000  22.259821  38.402340  35.820000   \n",
       "2012-01-04  14.836922  14.565862  1.847333  22.117706  38.031578  35.820000   \n",
       "2012-01-05  15.279023  13.273328  1.808000  22.274776  38.177933  35.740002   \n",
       "2012-01-06  15.164075  13.289900  1.794000  22.274776  38.412090  35.400002   \n",
       "2012-01-09  15.747651  13.588176  1.816667  22.559010  38.421856  35.020000   \n",
       "\n",
       "                 VRTX        WBA        XEL  \n",
       "Date                                         \n",
       "2012-01-03  32.230000  24.575787  19.223839  \n",
       "2012-01-04  32.200001  24.404818  19.097269  \n",
       "2012-01-05  33.119999  24.323042  19.181652  \n",
       "2012-01-06  34.049999  24.590662  19.125395  \n",
       "2012-01-09  35.680000  24.902863  19.139460  \n",
       "\n",
       "[5 rows x 83 columns]"
      ]
     },
     "execution_count": 20,
     "metadata": {},
     "output_type": "execute_result"
    }
   ],
   "source": [
    "data.head()"
   ]
  },
  {
   "cell_type": "markdown",
   "metadata": {},
   "source": [
    "# Vanilla Autoencoder\n",
    "\n",
    "We implement a **vanilla Autoencoder (AE)**. The vanilla AE is the simplest form of AE, *which is a neural network with one hidden layer*. The model will take as input\n",
    "the price of every stock at each time step and will give as output the same values (an approximation). \n",
    "\n",
    "An autoencoder is an unsupervised learning model that consists of two parts, **the encoder** and **the decoder**. The encoder maps the input data to a lower-dimensional space (*sound familiar?*) to extract the most robust features from data, and then the decoder interprets these features and uses them to reconstruct the original input.\n",
    "\n",
    "The encoder will learn a latent lower-dimensional representation from the stock's price series while the decoder will try to reconstruct them from the encoded features.\n",
    "\n",
    "<img src=\"images/ae.png\"  style=\"width: 900px;\"/>"
   ]
  },
  {
   "cell_type": "code",
   "execution_count": 21,
   "metadata": {},
   "outputs": [],
   "source": [
    "from sklearn.preprocessing import MinMaxScaler\n",
    "\n",
    "import tensorflow as tf\n",
    "from tensorflow.keras import Model\n",
    "from tensorflow.keras.models import Sequential\n",
    "from tensorflow.keras.layers import Dense, Activation, Input"
   ]
  },
  {
   "cell_type": "code",
   "execution_count": 22,
   "metadata": {},
   "outputs": [
    {
     "data": {
      "text/html": [
       "<div>\n",
       "<style scoped>\n",
       "    .dataframe tbody tr th:only-of-type {\n",
       "        vertical-align: middle;\n",
       "    }\n",
       "\n",
       "    .dataframe tbody tr th {\n",
       "        vertical-align: top;\n",
       "    }\n",
       "\n",
       "    .dataframe thead th {\n",
       "        text-align: right;\n",
       "    }\n",
       "</style>\n",
       "<table border=\"1\" class=\"dataframe\">\n",
       "  <thead>\n",
       "    <tr style=\"text-align: right;\">\n",
       "      <th></th>\n",
       "      <th>^NDX</th>\n",
       "      <th>AAPL</th>\n",
       "      <th>ADBE</th>\n",
       "      <th>ADI</th>\n",
       "      <th>ADP</th>\n",
       "      <th>ADSK</th>\n",
       "      <th>AEP</th>\n",
       "      <th>ALGN</th>\n",
       "      <th>AMAT</th>\n",
       "      <th>AMD</th>\n",
       "      <th>...</th>\n",
       "      <th>SNPS</th>\n",
       "      <th>SWKS</th>\n",
       "      <th>TMUS</th>\n",
       "      <th>TSLA</th>\n",
       "      <th>TXN</th>\n",
       "      <th>VRSK</th>\n",
       "      <th>VRSN</th>\n",
       "      <th>VRTX</th>\n",
       "      <th>WBA</th>\n",
       "      <th>XEL</th>\n",
       "    </tr>\n",
       "    <tr>\n",
       "      <th>Date</th>\n",
       "      <th></th>\n",
       "      <th></th>\n",
       "      <th></th>\n",
       "      <th></th>\n",
       "      <th></th>\n",
       "      <th></th>\n",
       "      <th></th>\n",
       "      <th></th>\n",
       "      <th></th>\n",
       "      <th></th>\n",
       "      <th></th>\n",
       "      <th></th>\n",
       "      <th></th>\n",
       "      <th></th>\n",
       "      <th></th>\n",
       "      <th></th>\n",
       "      <th></th>\n",
       "      <th></th>\n",
       "      <th></th>\n",
       "      <th></th>\n",
       "      <th></th>\n",
       "    </tr>\n",
       "  </thead>\n",
       "  <tbody>\n",
       "    <tr>\n",
       "      <th>2012-01-03</th>\n",
       "      <td>2321.959961</td>\n",
       "      <td>12.519280</td>\n",
       "      <td>28.570000</td>\n",
       "      <td>27.857830</td>\n",
       "      <td>37.355495</td>\n",
       "      <td>30.809999</td>\n",
       "      <td>27.491365</td>\n",
       "      <td>23.950001</td>\n",
       "      <td>8.905311</td>\n",
       "      <td>5.48</td>\n",
       "      <td>...</td>\n",
       "      <td>26.990000</td>\n",
       "      <td>14.872286</td>\n",
       "      <td>15.560119</td>\n",
       "      <td>1.872000</td>\n",
       "      <td>22.259821</td>\n",
       "      <td>38.402340</td>\n",
       "      <td>35.820000</td>\n",
       "      <td>32.230000</td>\n",
       "      <td>24.575787</td>\n",
       "      <td>19.223839</td>\n",
       "    </tr>\n",
       "    <tr>\n",
       "      <th>2012-01-04</th>\n",
       "      <td>2329.709961</td>\n",
       "      <td>12.586556</td>\n",
       "      <td>28.280001</td>\n",
       "      <td>27.819162</td>\n",
       "      <td>37.314327</td>\n",
       "      <td>30.209999</td>\n",
       "      <td>27.579020</td>\n",
       "      <td>24.410000</td>\n",
       "      <td>8.955244</td>\n",
       "      <td>5.46</td>\n",
       "      <td>...</td>\n",
       "      <td>26.490000</td>\n",
       "      <td>14.836922</td>\n",
       "      <td>14.565862</td>\n",
       "      <td>1.847333</td>\n",
       "      <td>22.117706</td>\n",
       "      <td>38.031578</td>\n",
       "      <td>35.820000</td>\n",
       "      <td>32.200001</td>\n",
       "      <td>24.404818</td>\n",
       "      <td>19.097269</td>\n",
       "    </tr>\n",
       "    <tr>\n",
       "      <th>2012-01-05</th>\n",
       "      <td>2348.979980</td>\n",
       "      <td>12.726296</td>\n",
       "      <td>28.480000</td>\n",
       "      <td>27.942881</td>\n",
       "      <td>37.588696</td>\n",
       "      <td>30.820000</td>\n",
       "      <td>27.612736</td>\n",
       "      <td>24.190001</td>\n",
       "      <td>9.013505</td>\n",
       "      <td>5.46</td>\n",
       "      <td>...</td>\n",
       "      <td>26.850000</td>\n",
       "      <td>15.279023</td>\n",
       "      <td>13.273328</td>\n",
       "      <td>1.808000</td>\n",
       "      <td>22.274776</td>\n",
       "      <td>38.177933</td>\n",
       "      <td>35.740002</td>\n",
       "      <td>33.119999</td>\n",
       "      <td>24.323042</td>\n",
       "      <td>19.181652</td>\n",
       "    </tr>\n",
       "    <tr>\n",
       "      <th>2012-01-06</th>\n",
       "      <td>2356.169922</td>\n",
       "      <td>12.859336</td>\n",
       "      <td>28.719999</td>\n",
       "      <td>27.757317</td>\n",
       "      <td>37.643566</td>\n",
       "      <td>30.959999</td>\n",
       "      <td>27.504852</td>\n",
       "      <td>23.709999</td>\n",
       "      <td>9.163312</td>\n",
       "      <td>5.43</td>\n",
       "      <td>...</td>\n",
       "      <td>26.870001</td>\n",
       "      <td>15.164075</td>\n",
       "      <td>13.289900</td>\n",
       "      <td>1.794000</td>\n",
       "      <td>22.274776</td>\n",
       "      <td>38.412090</td>\n",
       "      <td>35.400002</td>\n",
       "      <td>34.049999</td>\n",
       "      <td>24.590662</td>\n",
       "      <td>19.125395</td>\n",
       "    </tr>\n",
       "    <tr>\n",
       "      <th>2012-01-09</th>\n",
       "      <td>2350.649902</td>\n",
       "      <td>12.838937</td>\n",
       "      <td>28.530001</td>\n",
       "      <td>28.298542</td>\n",
       "      <td>37.499531</td>\n",
       "      <td>31.080000</td>\n",
       "      <td>27.632969</td>\n",
       "      <td>22.670000</td>\n",
       "      <td>9.437966</td>\n",
       "      <td>5.59</td>\n",
       "      <td>...</td>\n",
       "      <td>27.040001</td>\n",
       "      <td>15.747651</td>\n",
       "      <td>13.588176</td>\n",
       "      <td>1.816667</td>\n",
       "      <td>22.559010</td>\n",
       "      <td>38.421856</td>\n",
       "      <td>35.020000</td>\n",
       "      <td>35.680000</td>\n",
       "      <td>24.902863</td>\n",
       "      <td>19.139460</td>\n",
       "    </tr>\n",
       "  </tbody>\n",
       "</table>\n",
       "<p>5 rows × 83 columns</p>\n",
       "</div>"
      ],
      "text/plain": [
       "                   ^NDX       AAPL       ADBE        ADI        ADP  \\\n",
       "Date                                                                  \n",
       "2012-01-03  2321.959961  12.519280  28.570000  27.857830  37.355495   \n",
       "2012-01-04  2329.709961  12.586556  28.280001  27.819162  37.314327   \n",
       "2012-01-05  2348.979980  12.726296  28.480000  27.942881  37.588696   \n",
       "2012-01-06  2356.169922  12.859336  28.719999  27.757317  37.643566   \n",
       "2012-01-09  2350.649902  12.838937  28.530001  28.298542  37.499531   \n",
       "\n",
       "                 ADSK        AEP       ALGN      AMAT   AMD  ...       SNPS  \\\n",
       "Date                                                         ...              \n",
       "2012-01-03  30.809999  27.491365  23.950001  8.905311  5.48  ...  26.990000   \n",
       "2012-01-04  30.209999  27.579020  24.410000  8.955244  5.46  ...  26.490000   \n",
       "2012-01-05  30.820000  27.612736  24.190001  9.013505  5.46  ...  26.850000   \n",
       "2012-01-06  30.959999  27.504852  23.709999  9.163312  5.43  ...  26.870001   \n",
       "2012-01-09  31.080000  27.632969  22.670000  9.437966  5.59  ...  27.040001   \n",
       "\n",
       "                 SWKS       TMUS      TSLA        TXN       VRSK       VRSN  \\\n",
       "Date                                                                          \n",
       "2012-01-03  14.872286  15.560119  1.872000  22.259821  38.402340  35.820000   \n",
       "2012-01-04  14.836922  14.565862  1.847333  22.117706  38.031578  35.820000   \n",
       "2012-01-05  15.279023  13.273328  1.808000  22.274776  38.177933  35.740002   \n",
       "2012-01-06  15.164075  13.289900  1.794000  22.274776  38.412090  35.400002   \n",
       "2012-01-09  15.747651  13.588176  1.816667  22.559010  38.421856  35.020000   \n",
       "\n",
       "                 VRTX        WBA        XEL  \n",
       "Date                                         \n",
       "2012-01-03  32.230000  24.575787  19.223839  \n",
       "2012-01-04  32.200001  24.404818  19.097269  \n",
       "2012-01-05  33.119999  24.323042  19.181652  \n",
       "2012-01-06  34.049999  24.590662  19.125395  \n",
       "2012-01-09  35.680000  24.902863  19.139460  \n",
       "\n",
       "[5 rows x 83 columns]"
      ]
     },
     "execution_count": 22,
     "metadata": {},
     "output_type": "execute_result"
    }
   ],
   "source": [
    "data.head()"
   ]
  },
  {
   "cell_type": "code",
   "execution_count": 23,
   "metadata": {
    "collapsed": false,
    "jupyter": {
     "outputs_hidden": false
    }
   },
   "outputs": [
    {
     "name": "stdout",
     "output_type": "stream",
     "text": [
      "Stocks data (time series) shape: (2642, 82)\n",
      "Index data (time series) shape: (2642,)\n"
     ]
    },
    {
     "data": {
      "text/html": [
       "<div>\n",
       "<style scoped>\n",
       "    .dataframe tbody tr th:only-of-type {\n",
       "        vertical-align: middle;\n",
       "    }\n",
       "\n",
       "    .dataframe tbody tr th {\n",
       "        vertical-align: top;\n",
       "    }\n",
       "\n",
       "    .dataframe thead th {\n",
       "        text-align: right;\n",
       "    }\n",
       "</style>\n",
       "<table border=\"1\" class=\"dataframe\">\n",
       "  <thead>\n",
       "    <tr style=\"text-align: right;\">\n",
       "      <th></th>\n",
       "      <th>AAPL</th>\n",
       "      <th>ADBE</th>\n",
       "      <th>ADI</th>\n",
       "      <th>ADP</th>\n",
       "      <th>ADSK</th>\n",
       "      <th>AEP</th>\n",
       "      <th>ALGN</th>\n",
       "      <th>AMAT</th>\n",
       "      <th>AMD</th>\n",
       "      <th>AMGN</th>\n",
       "      <th>...</th>\n",
       "      <th>SNPS</th>\n",
       "      <th>SWKS</th>\n",
       "      <th>TMUS</th>\n",
       "      <th>TSLA</th>\n",
       "      <th>TXN</th>\n",
       "      <th>VRSK</th>\n",
       "      <th>VRSN</th>\n",
       "      <th>VRTX</th>\n",
       "      <th>WBA</th>\n",
       "      <th>XEL</th>\n",
       "    </tr>\n",
       "    <tr>\n",
       "      <th>Date</th>\n",
       "      <th></th>\n",
       "      <th></th>\n",
       "      <th></th>\n",
       "      <th></th>\n",
       "      <th></th>\n",
       "      <th></th>\n",
       "      <th></th>\n",
       "      <th></th>\n",
       "      <th></th>\n",
       "      <th></th>\n",
       "      <th></th>\n",
       "      <th></th>\n",
       "      <th></th>\n",
       "      <th></th>\n",
       "      <th></th>\n",
       "      <th></th>\n",
       "      <th></th>\n",
       "      <th></th>\n",
       "      <th></th>\n",
       "      <th></th>\n",
       "      <th></th>\n",
       "    </tr>\n",
       "  </thead>\n",
       "  <tbody>\n",
       "    <tr>\n",
       "      <th>2012-01-03</th>\n",
       "      <td>12.519280</td>\n",
       "      <td>28.570000</td>\n",
       "      <td>27.857830</td>\n",
       "      <td>37.355495</td>\n",
       "      <td>30.809999</td>\n",
       "      <td>27.491365</td>\n",
       "      <td>23.950001</td>\n",
       "      <td>8.905311</td>\n",
       "      <td>5.48</td>\n",
       "      <td>48.890930</td>\n",
       "      <td>...</td>\n",
       "      <td>26.990000</td>\n",
       "      <td>14.872286</td>\n",
       "      <td>15.560119</td>\n",
       "      <td>1.872000</td>\n",
       "      <td>22.259821</td>\n",
       "      <td>38.402340</td>\n",
       "      <td>35.820000</td>\n",
       "      <td>32.230000</td>\n",
       "      <td>24.575787</td>\n",
       "      <td>19.223839</td>\n",
       "    </tr>\n",
       "    <tr>\n",
       "      <th>2012-01-04</th>\n",
       "      <td>12.586556</td>\n",
       "      <td>28.280001</td>\n",
       "      <td>27.819162</td>\n",
       "      <td>37.314327</td>\n",
       "      <td>30.209999</td>\n",
       "      <td>27.579020</td>\n",
       "      <td>24.410000</td>\n",
       "      <td>8.955244</td>\n",
       "      <td>5.46</td>\n",
       "      <td>48.624027</td>\n",
       "      <td>...</td>\n",
       "      <td>26.490000</td>\n",
       "      <td>14.836922</td>\n",
       "      <td>14.565862</td>\n",
       "      <td>1.847333</td>\n",
       "      <td>22.117706</td>\n",
       "      <td>38.031578</td>\n",
       "      <td>35.820000</td>\n",
       "      <td>32.200001</td>\n",
       "      <td>24.404818</td>\n",
       "      <td>19.097269</td>\n",
       "    </tr>\n",
       "    <tr>\n",
       "      <th>2012-01-05</th>\n",
       "      <td>12.726296</td>\n",
       "      <td>28.480000</td>\n",
       "      <td>27.942881</td>\n",
       "      <td>37.588696</td>\n",
       "      <td>30.820000</td>\n",
       "      <td>27.612736</td>\n",
       "      <td>24.190001</td>\n",
       "      <td>9.013505</td>\n",
       "      <td>5.46</td>\n",
       "      <td>49.119728</td>\n",
       "      <td>...</td>\n",
       "      <td>26.850000</td>\n",
       "      <td>15.279023</td>\n",
       "      <td>13.273328</td>\n",
       "      <td>1.808000</td>\n",
       "      <td>22.274776</td>\n",
       "      <td>38.177933</td>\n",
       "      <td>35.740002</td>\n",
       "      <td>33.119999</td>\n",
       "      <td>24.323042</td>\n",
       "      <td>19.181652</td>\n",
       "    </tr>\n",
       "    <tr>\n",
       "      <th>2012-01-06</th>\n",
       "      <td>12.859336</td>\n",
       "      <td>28.719999</td>\n",
       "      <td>27.757317</td>\n",
       "      <td>37.643566</td>\n",
       "      <td>30.959999</td>\n",
       "      <td>27.504852</td>\n",
       "      <td>23.709999</td>\n",
       "      <td>9.163312</td>\n",
       "      <td>5.43</td>\n",
       "      <td>49.386650</td>\n",
       "      <td>...</td>\n",
       "      <td>26.870001</td>\n",
       "      <td>15.164075</td>\n",
       "      <td>13.289900</td>\n",
       "      <td>1.794000</td>\n",
       "      <td>22.274776</td>\n",
       "      <td>38.412090</td>\n",
       "      <td>35.400002</td>\n",
       "      <td>34.049999</td>\n",
       "      <td>24.590662</td>\n",
       "      <td>19.125395</td>\n",
       "    </tr>\n",
       "    <tr>\n",
       "      <th>2012-01-09</th>\n",
       "      <td>12.838937</td>\n",
       "      <td>28.530001</td>\n",
       "      <td>28.298542</td>\n",
       "      <td>37.499531</td>\n",
       "      <td>31.080000</td>\n",
       "      <td>27.632969</td>\n",
       "      <td>22.670000</td>\n",
       "      <td>9.437966</td>\n",
       "      <td>5.59</td>\n",
       "      <td>48.959595</td>\n",
       "      <td>...</td>\n",
       "      <td>27.040001</td>\n",
       "      <td>15.747651</td>\n",
       "      <td>13.588176</td>\n",
       "      <td>1.816667</td>\n",
       "      <td>22.559010</td>\n",
       "      <td>38.421856</td>\n",
       "      <td>35.020000</td>\n",
       "      <td>35.680000</td>\n",
       "      <td>24.902863</td>\n",
       "      <td>19.139460</td>\n",
       "    </tr>\n",
       "  </tbody>\n",
       "</table>\n",
       "<p>5 rows × 82 columns</p>\n",
       "</div>"
      ],
      "text/plain": [
       "                 AAPL       ADBE        ADI        ADP       ADSK        AEP  \\\n",
       "Date                                                                           \n",
       "2012-01-03  12.519280  28.570000  27.857830  37.355495  30.809999  27.491365   \n",
       "2012-01-04  12.586556  28.280001  27.819162  37.314327  30.209999  27.579020   \n",
       "2012-01-05  12.726296  28.480000  27.942881  37.588696  30.820000  27.612736   \n",
       "2012-01-06  12.859336  28.719999  27.757317  37.643566  30.959999  27.504852   \n",
       "2012-01-09  12.838937  28.530001  28.298542  37.499531  31.080000  27.632969   \n",
       "\n",
       "                 ALGN      AMAT   AMD       AMGN  ...       SNPS       SWKS  \\\n",
       "Date                                              ...                         \n",
       "2012-01-03  23.950001  8.905311  5.48  48.890930  ...  26.990000  14.872286   \n",
       "2012-01-04  24.410000  8.955244  5.46  48.624027  ...  26.490000  14.836922   \n",
       "2012-01-05  24.190001  9.013505  5.46  49.119728  ...  26.850000  15.279023   \n",
       "2012-01-06  23.709999  9.163312  5.43  49.386650  ...  26.870001  15.164075   \n",
       "2012-01-09  22.670000  9.437966  5.59  48.959595  ...  27.040001  15.747651   \n",
       "\n",
       "                 TMUS      TSLA        TXN       VRSK       VRSN       VRTX  \\\n",
       "Date                                                                          \n",
       "2012-01-03  15.560119  1.872000  22.259821  38.402340  35.820000  32.230000   \n",
       "2012-01-04  14.565862  1.847333  22.117706  38.031578  35.820000  32.200001   \n",
       "2012-01-05  13.273328  1.808000  22.274776  38.177933  35.740002  33.119999   \n",
       "2012-01-06  13.289900  1.794000  22.274776  38.412090  35.400002  34.049999   \n",
       "2012-01-09  13.588176  1.816667  22.559010  38.421856  35.020000  35.680000   \n",
       "\n",
       "                  WBA        XEL  \n",
       "Date                              \n",
       "2012-01-03  24.575787  19.223839  \n",
       "2012-01-04  24.404818  19.097269  \n",
       "2012-01-05  24.323042  19.181652  \n",
       "2012-01-06  24.590662  19.125395  \n",
       "2012-01-09  24.902863  19.139460  \n",
       "\n",
       "[5 rows x 82 columns]"
      ]
     },
     "execution_count": 23,
     "metadata": {},
     "output_type": "execute_result"
    }
   ],
   "source": [
    "# Load data\n",
    "stocks_data = data.iloc[:,1:]\n",
    "index_data = data.iloc[:,0]\n",
    "assets_names = data.iloc[:,1:].columns\n",
    "\n",
    "print(\"Stocks data (time series) shape: {shape}\".format(shape=stocks_data.shape))\n",
    "print(\"Index data (time series) shape: {shape}\".format(shape=index_data.shape))\n",
    "\n",
    "stocks_data.head()"
   ]
  },
  {
   "cell_type": "code",
   "execution_count": 24,
   "metadata": {},
   "outputs": [
    {
     "data": {
      "text/plain": [
       "array([[ 12.51928043,  28.56999969,  27.85783005, ...,  32.22999954,\n",
       "         24.57578659,  19.22383881],\n",
       "       [ 12.58655643,  28.28000069,  27.81916237, ...,  32.20000076,\n",
       "         24.40481758,  19.09726906],\n",
       "       [ 12.72629642,  28.47999954,  27.94288063, ...,  33.11999893,\n",
       "         24.32304192,  19.18165207],\n",
       "       ...,\n",
       "       [138.80661011, 368.5       , 146.56460571, ..., 280.3500061 ,\n",
       "         40.38999939,  69.75365448],\n",
       "       [136.304245  , 366.05999756, 145.39024353, ..., 281.79000854,\n",
       "         37.45488358,  70.30007935],\n",
       "       [138.50750732, 368.48001099, 142.22549438, ..., 287.32000732,\n",
       "         38.10713196,  72.15792084]])"
      ]
     },
     "execution_count": 24,
     "metadata": {},
     "output_type": "execute_result"
    }
   ],
   "source": [
    "stocks_data.values"
   ]
  },
  {
   "cell_type": "code",
   "execution_count": 25,
   "metadata": {
    "tags": []
   },
   "outputs": [],
   "source": [
    "# Split data\n",
    "n_train = int(stocks_data.shape[0]*0.8)\n",
    "\n",
    "# Stocks data\n",
    "X_train = stocks_data.values[:n_train, :]\n",
    "X_test = stocks_data.values[n_train:, :]\n",
    "\n",
    "# Index data\n",
    "index_train = index_data[:n_train]\n",
    "index_test = index_data[n_train:]"
   ]
  },
  {
   "cell_type": "code",
   "execution_count": 26,
   "metadata": {},
   "outputs": [
    {
     "name": "stdout",
     "output_type": "stream",
     "text": [
      "(2113, 82)\n",
      "(529, 82)\n"
     ]
    }
   ],
   "source": [
    "print(X_train.shape)\n",
    "print(X_test.shape)"
   ]
  },
  {
   "cell_type": "code",
   "execution_count": 27,
   "metadata": {
    "tags": []
   },
   "outputs": [],
   "source": [
    "# Normalize data\n",
    "scaler = MinMaxScaler([0, 1])\n",
    "# Stocks data\n",
    "X_train = scaler.fit_transform(X_train)\n",
    "X_test = scaler.fit_transform(X_test)\n",
    "# Index data\n",
    "scaler_index = MinMaxScaler([0, 1])\n",
    "index_train = scaler_index.fit_transform(index_train.values.reshape(-1, 1))\n",
    "index_test = scaler_index.fit_transform(index_test.values.reshape(-1, 1))"
   ]
  },
  {
   "cell_type": "markdown",
   "metadata": {},
   "source": [
    "See here how the [Functional API](https://www.tensorflow.org/api_docs/python/tf/keras/Model) of Tensorflow works"
   ]
  },
  {
   "cell_type": "code",
   "execution_count": 30,
   "metadata": {},
   "outputs": [
    {
     "data": {
      "text/plain": [
       "82"
      ]
     },
     "execution_count": 30,
     "metadata": {},
     "output_type": "execute_result"
    }
   ],
   "source": [
    "n_inputs"
   ]
  },
  {
   "cell_type": "code",
   "execution_count": 29,
   "metadata": {
    "collapsed": false,
    "jupyter": {
     "outputs_hidden": false
    }
   },
   "outputs": [
    {
     "name": "stdout",
     "output_type": "stream",
     "text": [
      "WARNING:tensorflow:From c:\\Users\\Moneybag Mike\\AppData\\Local\\Programs\\Python\\Python37\\lib\\site-packages\\tensorflow_core\\python\\ops\\resource_variable_ops.py:1630: calling BaseResourceVariable.__init__ (from tensorflow.python.ops.resource_variable_ops) with constraint is deprecated and will be removed in a future version.\n",
      "Instructions for updating:\n",
      "If using Keras pass *_constraint arguments to layers.\n",
      "Model: \"model_1\"\n",
      "_________________________________________________________________\n",
      "Layer (type)                 Output Shape              Param #   \n",
      "=================================================================\n",
      "input_1 (InputLayer)         [(None, 82)]              0         \n",
      "_________________________________________________________________\n",
      "dense (Dense)                (None, 4)                 332       \n",
      "_________________________________________________________________\n",
      "dense_1 (Dense)              (None, 82)                410       \n",
      "=================================================================\n",
      "Total params: 742\n",
      "Trainable params: 742\n",
      "Non-trainable params: 0\n",
      "_________________________________________________________________\n"
     ]
    }
   ],
   "source": [
    "## Autoencoder - Tensorflow\n",
    "\n",
    "# Network hyperparameters\n",
    "n_inputs = X_train.shape[1]\n",
    "\n",
    "# Training hyperparameters\n",
    "epochs = 25\n",
    "batch_size = 1\n",
    "\n",
    "# Define model\n",
    "input_l = Input(shape=(n_inputs,))\n",
    "# Encoder Layers\n",
    "encoded = Dense(4, input_shape=(n_inputs,), activation='relu')(input_l)\n",
    "decoded = Dense(n_inputs, activation='sigmoid')(encoded)\n",
    "\n",
    "# Encoder\n",
    "encoder = Model(input_l, encoded)\n",
    "\n",
    "# Autoencoder\n",
    "model = Model(input_l, decoded)\n",
    "\n",
    "model.summary()"
   ]
  },
  {
   "cell_type": "code",
   "execution_count": 31,
   "metadata": {
    "tags": []
   },
   "outputs": [],
   "source": [
    "# Compile the model\n",
    "model.compile(loss='mse', optimizer='adam')"
   ]
  },
  {
   "cell_type": "markdown",
   "metadata": {},
   "source": [
    "We use `X_train` for both the input and the target data, as we are interested in reconstructing the original data."
   ]
  },
  {
   "cell_type": "code",
   "execution_count": 32,
   "metadata": {
    "tags": []
   },
   "outputs": [
    {
     "name": "stdout",
     "output_type": "stream",
     "text": [
      "Train on 2113 samples\n",
      "Epoch 1/25\n",
      "2113/2113 [==============================] - 1s 527us/sample - loss: 0.0452\n",
      "Epoch 2/25\n",
      "2113/2113 [==============================] - 1s 471us/sample - loss: 0.0202\n",
      "Epoch 3/25\n",
      "2113/2113 [==============================] - 1s 476us/sample - loss: 0.0138\n",
      "Epoch 4/25\n",
      "2113/2113 [==============================] - 1s 459us/sample - loss: 0.0114\n",
      "Epoch 5/25\n",
      "2113/2113 [==============================] - 1s 466us/sample - loss: 0.0102\n",
      "Epoch 6/25\n",
      "2113/2113 [==============================] - 1s 465us/sample - loss: 0.0096\n",
      "Epoch 7/25\n",
      "2113/2113 [==============================] - 1s 468us/sample - loss: 0.0093\n",
      "Epoch 8/25\n",
      "2113/2113 [==============================] - 1s 462us/sample - loss: 0.0091\n",
      "Epoch 9/25\n",
      "2113/2113 [==============================] - 1s 459us/sample - loss: 0.0090\n",
      "Epoch 10/25\n",
      "2113/2113 [==============================] - 1s 455us/sample - loss: 0.0088\n",
      "Epoch 11/25\n",
      "2113/2113 [==============================] - 1s 466us/sample - loss: 0.0087\n",
      "Epoch 12/25\n",
      "2113/2113 [==============================] - 1s 476us/sample - loss: 0.0087\n",
      "Epoch 13/25\n",
      "2113/2113 [==============================] - 1s 493us/sample - loss: 0.0086\n",
      "Epoch 14/25\n",
      "2113/2113 [==============================] - 1s 472us/sample - loss: 0.0085\n",
      "Epoch 15/25\n",
      "2113/2113 [==============================] - 1s 465us/sample - loss: 0.0085\n",
      "Epoch 16/25\n",
      "2113/2113 [==============================] - 1s 479us/sample - loss: 0.0085\n",
      "Epoch 17/25\n",
      "2113/2113 [==============================] - 1s 474us/sample - loss: 0.0084\n",
      "Epoch 18/25\n",
      "2113/2113 [==============================] - 1s 477us/sample - loss: 0.0084\n",
      "Epoch 19/25\n",
      "2113/2113 [==============================] - 1s 473us/sample - loss: 0.0084\n",
      "Epoch 20/25\n",
      "2113/2113 [==============================] - 1s 476us/sample - loss: 0.0084\n",
      "Epoch 21/25\n",
      "2113/2113 [==============================] - 1s 474us/sample - loss: 0.0084\n",
      "Epoch 22/25\n",
      "2113/2113 [==============================] - 1s 473us/sample - loss: 0.0083\n",
      "Epoch 23/25\n",
      "2113/2113 [==============================] - 1s 469us/sample - loss: 0.0083\n",
      "Epoch 24/25\n",
      "2113/2113 [==============================] - 1s 463us/sample - loss: 0.0083\n",
      "Epoch 25/25\n",
      "2113/2113 [==============================] - 1s 471us/sample - loss: 0.0083\n"
     ]
    }
   ],
   "source": [
    "# Fit the model\n",
    "history = model.fit(X_train,\n",
    "                    X_train,\n",
    "                    epochs=epochs,\n",
    "                    batch_size=batch_size,\n",
    "                    shuffle=True,\n",
    "                    verbose=1\n",
    "                    )"
   ]
  },
  {
   "cell_type": "code",
   "execution_count": 33,
   "metadata": {
    "collapsed": false,
    "jupyter": {
     "outputs_hidden": false
    }
   },
   "outputs": [
    {
     "name": "stdout",
     "output_type": "stream",
     "text": [
      "dict_keys(['loss'])\n"
     ]
    }
   ],
   "source": [
    "# List all data recorded in history\n",
    "print(history.history.keys())"
   ]
  },
  {
   "cell_type": "code",
   "execution_count": 34,
   "metadata": {
    "collapsed": false,
    "jupyter": {
     "outputs_hidden": false
    }
   },
   "outputs": [
    {
     "data": {
      "image/png": "[encoded data removed]",
      "text/plain": [
       "<Figure size 432x288 with 1 Axes>"
      ]
     },
     "metadata": {
      "needs_background": "light"
     },
     "output_type": "display_data"
    }
   ],
   "source": [
    "# Visualize training loss\n",
    "plt.figure()\n",
    "plt.plot(history.history['loss'])\n",
    "plt.ylabel('Loss')\n",
    "plt.xlabel('Epoch')\n",
    "plt.show()\n",
    "#plt.savefig('images/vanillaAE_loss.png', bbox_inches='tight')"
   ]
  },
  {
   "cell_type": "code",
   "execution_count": 38,
   "metadata": {
    "tags": []
   },
   "outputs": [],
   "source": [
    "from tensorflow.keras.models import model_from_json\n",
    "\n",
    "# Save model\n",
    "# serialize model to JSON\n",
    "model_json = model.to_json()\n",
    "with open(\"models/vanillaAE_model.json\", \"w\") as json_file:\n",
    "    json_file.write(model_json)\n",
    "# serialize weights to HDF5\n",
    "model.save_weights(r\"C:\\Users\\Moneybag Mike\\Documents\\ML_540_Project\\models\\vanillaAE_model.h5\")"
   ]
  },
  {
   "cell_type": "code",
   "execution_count": 43,
   "metadata": {
    "tags": []
   },
   "outputs": [
    {
     "ename": "AttributeError",
     "evalue": "'str' object has no attribute 'decode'",
     "output_type": "error",
     "traceback": [
      "\u001b[1;31m---------------------------------------------------------------------------\u001b[0m",
      "\u001b[1;31mAttributeError\u001b[0m                            Traceback (most recent call last)",
      "\u001b[1;32m<ipython-input-43-b8e35e97f687>\u001b[0m in \u001b[0;36m<module>\u001b[1;34m\u001b[0m\n\u001b[0;32m      6\u001b[0m \u001b[0mmodel\u001b[0m \u001b[1;33m=\u001b[0m \u001b[0mmodel_from_json\u001b[0m\u001b[1;33m(\u001b[0m\u001b[0mloaded_model_json\u001b[0m\u001b[1;33m)\u001b[0m\u001b[1;33m\u001b[0m\u001b[1;33m\u001b[0m\u001b[0m\n\u001b[0;32m      7\u001b[0m \u001b[1;31m# load weights into new model\u001b[0m\u001b[1;33m\u001b[0m\u001b[1;33m\u001b[0m\u001b[1;33m\u001b[0m\u001b[0m\n\u001b[1;32m----> 8\u001b[1;33m \u001b[0mmodel\u001b[0m\u001b[1;33m.\u001b[0m\u001b[0mload_weights\u001b[0m\u001b[1;33m(\u001b[0m\u001b[1;34m\"models/vanillaAE_model.h5\"\u001b[0m\u001b[1;33m)\u001b[0m\u001b[1;33m\u001b[0m\u001b[1;33m\u001b[0m\u001b[0m\n\u001b[0m\u001b[0;32m      9\u001b[0m \u001b[1;33m\u001b[0m\u001b[0m\n\u001b[0;32m     10\u001b[0m \u001b[1;31m# Compile the model\u001b[0m\u001b[1;33m\u001b[0m\u001b[1;33m\u001b[0m\u001b[1;33m\u001b[0m\u001b[0m\n",
      "\u001b[1;32mc:\\Users\\Moneybag Mike\\AppData\\Local\\Programs\\Python\\Python37\\lib\\site-packages\\tensorflow_core\\python\\keras\\engine\\training.py\u001b[0m in \u001b[0;36mload_weights\u001b[1;34m(self, filepath, by_name)\u001b[0m\n\u001b[0;32m    180\u001b[0m         raise ValueError('Load weights is not yet supported with TPUStrategy '\n\u001b[0;32m    181\u001b[0m                          'with steps_per_run greater than 1.')\n\u001b[1;32m--> 182\u001b[1;33m     \u001b[1;32mreturn\u001b[0m \u001b[0msuper\u001b[0m\u001b[1;33m(\u001b[0m\u001b[0mModel\u001b[0m\u001b[1;33m,\u001b[0m \u001b[0mself\u001b[0m\u001b[1;33m)\u001b[0m\u001b[1;33m.\u001b[0m\u001b[0mload_weights\u001b[0m\u001b[1;33m(\u001b[0m\u001b[0mfilepath\u001b[0m\u001b[1;33m,\u001b[0m \u001b[0mby_name\u001b[0m\u001b[1;33m)\u001b[0m\u001b[1;33m\u001b[0m\u001b[1;33m\u001b[0m\u001b[0m\n\u001b[0m\u001b[0;32m    183\u001b[0m \u001b[1;33m\u001b[0m\u001b[0m\n\u001b[0;32m    184\u001b[0m   \u001b[1;33m@\u001b[0m\u001b[0mtrackable\u001b[0m\u001b[1;33m.\u001b[0m\u001b[0mno_automatic_dependency_tracking\u001b[0m\u001b[1;33m\u001b[0m\u001b[1;33m\u001b[0m\u001b[0m\n",
      "\u001b[1;32mc:\\Users\\Moneybag Mike\\AppData\\Local\\Programs\\Python\\Python37\\lib\\site-packages\\tensorflow_core\\python\\keras\\engine\\network.py\u001b[0m in \u001b[0;36mload_weights\u001b[1;34m(self, filepath, by_name)\u001b[0m\n\u001b[0;32m   1371\u001b[0m         \u001b[0msaving\u001b[0m\u001b[1;33m.\u001b[0m\u001b[0mload_weights_from_hdf5_group_by_name\u001b[0m\u001b[1;33m(\u001b[0m\u001b[0mf\u001b[0m\u001b[1;33m,\u001b[0m \u001b[0mself\u001b[0m\u001b[1;33m.\u001b[0m\u001b[0mlayers\u001b[0m\u001b[1;33m)\u001b[0m\u001b[1;33m\u001b[0m\u001b[1;33m\u001b[0m\u001b[0m\n\u001b[0;32m   1372\u001b[0m       \u001b[1;32melse\u001b[0m\u001b[1;33m:\u001b[0m\u001b[1;33m\u001b[0m\u001b[1;33m\u001b[0m\u001b[0m\n\u001b[1;32m-> 1373\u001b[1;33m         \u001b[0msaving\u001b[0m\u001b[1;33m.\u001b[0m\u001b[0mload_weights_from_hdf5_group\u001b[0m\u001b[1;33m(\u001b[0m\u001b[0mf\u001b[0m\u001b[1;33m,\u001b[0m \u001b[0mself\u001b[0m\u001b[1;33m.\u001b[0m\u001b[0mlayers\u001b[0m\u001b[1;33m)\u001b[0m\u001b[1;33m\u001b[0m\u001b[1;33m\u001b[0m\u001b[0m\n\u001b[0m\u001b[0;32m   1374\u001b[0m \u001b[1;33m\u001b[0m\u001b[0m\n\u001b[0;32m   1375\u001b[0m   \u001b[1;32mdef\u001b[0m \u001b[0m_updated_config\u001b[0m\u001b[1;33m(\u001b[0m\u001b[0mself\u001b[0m\u001b[1;33m)\u001b[0m\u001b[1;33m:\u001b[0m\u001b[1;33m\u001b[0m\u001b[1;33m\u001b[0m\u001b[0m\n",
      "\u001b[1;32mc:\\Users\\Moneybag Mike\\AppData\\Local\\Programs\\Python\\Python37\\lib\\site-packages\\tensorflow_core\\python\\keras\\saving\\hdf5_format.py\u001b[0m in \u001b[0;36mload_weights_from_hdf5_group\u001b[1;34m(f, layers)\u001b[0m\n\u001b[0;32m    643\u001b[0m   \"\"\"\n\u001b[0;32m    644\u001b[0m   \u001b[1;32mif\u001b[0m \u001b[1;34m'keras_version'\u001b[0m \u001b[1;32min\u001b[0m \u001b[0mf\u001b[0m\u001b[1;33m.\u001b[0m\u001b[0mattrs\u001b[0m\u001b[1;33m:\u001b[0m\u001b[1;33m\u001b[0m\u001b[1;33m\u001b[0m\u001b[0m\n\u001b[1;32m--> 645\u001b[1;33m     \u001b[0moriginal_keras_version\u001b[0m \u001b[1;33m=\u001b[0m \u001b[0mf\u001b[0m\u001b[1;33m.\u001b[0m\u001b[0mattrs\u001b[0m\u001b[1;33m[\u001b[0m\u001b[1;34m'keras_version'\u001b[0m\u001b[1;33m]\u001b[0m\u001b[1;33m.\u001b[0m\u001b[0mdecode\u001b[0m\u001b[1;33m(\u001b[0m\u001b[1;34m'utf8'\u001b[0m\u001b[1;33m)\u001b[0m\u001b[1;33m\u001b[0m\u001b[1;33m\u001b[0m\u001b[0m\n\u001b[0m\u001b[0;32m    646\u001b[0m   \u001b[1;32melse\u001b[0m\u001b[1;33m:\u001b[0m\u001b[1;33m\u001b[0m\u001b[1;33m\u001b[0m\u001b[0m\n\u001b[0;32m    647\u001b[0m     \u001b[0moriginal_keras_version\u001b[0m \u001b[1;33m=\u001b[0m \u001b[1;34m'1'\u001b[0m\u001b[1;33m\u001b[0m\u001b[1;33m\u001b[0m\u001b[0m\n",
      "\u001b[1;31mAttributeError\u001b[0m: 'str' object has no attribute 'decode'"
     ]
    }
   ],
   "source": [
    "## Load model\n",
    "## load json and create model\n",
    "json_file = open('models/vanillaAE_model.json', 'r')\n",
    "loaded_model_json = json_file.read()\n",
    "json_file.close()\n",
    "model = model_from_json(loaded_model_json)\n",
    "# load weights into new model\n",
    "model.load_weights(\"models/vanillaAE_model.h5\")\n",
    "\n",
    "# Compile the model\n",
    "model.compile(loss='mse', optimizer='adam')"
   ]
  },
  {
   "cell_type": "code",
   "execution_count": 24,
   "metadata": {
    "collapsed": false,
    "jupyter": {
     "outputs_hidden": false
    }
   },
   "outputs": [
    {
     "name": "stdout",
     "output_type": "stream",
     "text": [
      "2113/2113 [==============================] - 4s 2ms/step - loss: 0.0033\n",
      "529/529 [==============================] - 1s 2ms/step - loss: 0.0398\n",
      "Training MSE: 0.00332955\n",
      "Training MSE: 0.03977745\n"
     ]
    }
   ],
   "source": [
    "# Evaluate model\n",
    "score_train = model.evaluate(X_train, X_train, batch_size=batch_size)\n",
    "score_test = model.evaluate(X_test, X_test, batch_size=batch_size)\n",
    "\n",
    "print('Training MSE: %.8f' %score_train)\n",
    "print('Testing MSE: %.8f' %score_test)"
   ]
  },
  {
   "cell_type": "code",
   "execution_count": 25,
   "metadata": {
    "collapsed": false,
    "jupyter": {
     "outputs_hidden": false
    }
   },
   "outputs": [
    {
     "name": "stdout",
     "output_type": "stream",
     "text": [
      "Training MSE: 0.00332955\n",
      "Testing MSE: 0.03977743\n"
     ]
    }
   ],
   "source": [
    "# Obtain reconstruction of the stocks\n",
    "X_train_pred = model.predict(X_train)\n",
    "X_test_pred = model.predict(X_test)\n",
    "\n",
    "# Reconstruction error\n",
    "error_train = np.mean(np.abs(X_train - X_train_pred)**2, axis=0)\n",
    "print('Training MSE: %.8f' %np.mean(error_train))\n",
    "\n",
    "error_test = np.mean(np.abs(X_test - X_test_pred)**2, axis=0)\n",
    "print('Testing MSE: %.8f' %np.mean(error_test))"
   ]
  },
  {
   "cell_type": "code",
   "execution_count": 114,
   "metadata": {},
   "outputs": [
    {
     "data": {
      "text/plain": [
       "array([0.00203573, 0.00095798, 0.00132015, 0.0011062 , 0.00166133,\n",
       "       0.00178529, 0.00348791, 0.00440489, 0.00209963, 0.00222455,\n",
       "       0.00324096, 0.00090608, 0.00170777, 0.00676024, 0.00207756,\n",
       "       0.00349561, 0.00663315, 0.01040996, 0.00426019, 0.0014657 ,\n",
       "       0.0032264 , 0.00309831, 0.001289  , 0.00084288, 0.00226302,\n",
       "       0.003702  , 0.00086216, 0.00475151, 0.00648227, 0.00169589,\n",
       "       0.00401581, 0.00686552, 0.00525098, 0.00403813, 0.00077126,\n",
       "       0.00320597, 0.00926902, 0.00157897, 0.00172455, 0.00149501,\n",
       "       0.0019848 , 0.00918147, 0.00321187, 0.00076736, 0.00297073,\n",
       "       0.00252089, 0.00262468, 0.00183387, 0.00203678, 0.00272987,\n",
       "       0.00271595, 0.0017903 , 0.00205453, 0.00482755, 0.00732074,\n",
       "       0.00050157, 0.00262581, 0.00877188, 0.00497737, 0.00688471,\n",
       "       0.00265254, 0.00368453, 0.00138207, 0.00288738, 0.00124167,\n",
       "       0.0066886 , 0.00170825, 0.01477278, 0.00549664, 0.00200296,\n",
       "       0.0017129 , 0.00214562, 0.00409846, 0.00078276, 0.00378283,\n",
       "       0.00253589, 0.00186923, 0.00099591, 0.00114553, 0.00152135,\n",
       "       0.00420083, 0.00632507, 0.00191673])"
      ]
     },
     "execution_count": 114,
     "metadata": {},
     "output_type": "execute_result"
    }
   ],
   "source": [
    "error_train"
   ]
  },
  {
   "cell_type": "code",
   "execution_count": 26,
   "metadata": {
    "tags": []
   },
   "outputs": [],
   "source": [
    "# Sort stocks by reconstruction error\n",
    "ind = np.argsort(error_train)\n",
    "sort_error = error_train[ind]\n",
    "sort_assets_names = assets_names[ind]"
   ]
  },
  {
   "cell_type": "code",
   "execution_count": 116,
   "metadata": {},
   "outputs": [
    {
     "data": {
      "text/plain": [
       "Index(['TXN', 'ADBE', 'CTAS', 'SNPS', 'MSFT', 'FISV', 'CPRT', 'ODFL', 'ADI',\n",
       "       'GOOG', 'GOOGL', 'IDXX', 'INTU', 'ADSK', 'CDNS', 'ANSS', 'HON', 'MELI',\n",
       "       'ADP', 'TMUS', 'AVGO', 'AMGN', 'AMZN', 'PEP', 'LRCX', 'PAYX', 'INTC',\n",
       "       'AEP', 'KLAC', 'ASML', 'ROST', 'XEL', 'AAPL', 'CMCSA', 'FTNT', 'COST',\n",
       "       'VRSN', 'AMD', 'CHTR', 'ISRG', 'MTCH', 'AZN', 'VRSK', 'CSCO', 'VRTX',\n",
       "       'DXCM', 'NFLX', 'CSX', 'SGEN', 'MDLZ', 'MCHP', 'PCAR', 'KDP', 'SIRI',\n",
       "       'SBUX', 'LULU', 'ILMN', 'MAR', 'TSLA', 'MNST', 'BKNG', 'EBAY', 'AMAT',\n",
       "       'ORLY', 'FAST', 'NVDA', 'NTES', 'EA', 'NXPI', 'MRVL', 'DLTR', 'ALGN',\n",
       "       'EXC', 'CTSH', 'ATVI', 'SWKS', 'MU', 'QCOM', 'BIIB', 'REGN', 'GILD',\n",
       "       'WBA', 'BIDU'],\n",
       "      dtype='object')"
      ]
     },
     "execution_count": 116,
     "metadata": {},
     "output_type": "execute_result"
    }
   ],
   "source": [
    "sort_assets_names"
   ]
  },
  {
   "cell_type": "code",
   "execution_count": 27,
   "metadata": {
    "collapsed": false,
    "jupyter": {
     "outputs_hidden": false
    }
   },
   "outputs": [
    {
     "data": {
      "image/png": "[encoded data removed]",
      "text/plain": [
       "<Figure size 432x288 with 1 Axes>"
      ]
     },
     "metadata": {
      "needs_background": "light"
     },
     "output_type": "display_data"
    }
   ],
   "source": [
    "# Barplot\n",
    "plt.figure()\n",
    "plt.barh(2*np.arange(len(error_train[:20])), error_train[ind[:20]], tick_label=assets_names[ind[:20]])\n",
    "plt.xlabel('MSE')\n",
    "plt.show()\n",
    "#plt.savefig('images/vanillaAE_MSEbar.png', bbox_inches='tight')"
   ]
  },
  {
   "cell_type": "code",
   "execution_count": 118,
   "metadata": {
    "collapsed": false,
    "jupyter": {
     "outputs_hidden": false
    }
   },
   "outputs": [
    {
     "data": {
      "image/png": "[encoded data removed]",
      "text/plain": [
       "<Figure size 432x288 with 1 Axes>"
      ]
     },
     "metadata": {
      "needs_background": "light"
     },
     "output_type": "display_data"
    }
   ],
   "source": [
    "# Plot stock\n",
    "i = 50\n",
    "plt.figure()\n",
    "plt.plot(X_train[:, ind[i]], label=assets_names[ind[i]] + ' Stock')\n",
    "plt.plot(X_train_pred[:, ind[i]], label=assets_names[ind[i]] + ' AE')\n",
    "plt.legend()\n",
    "plt.xlabel('Time (days)')\n",
    "plt.ylabel('Normalized price')\n",
    "plt.show()\n",
    "#plt.savefig('images/vanillaAE_' + assets_names[ind[i]] + '.png', bbox_inches='tight')"
   ]
  },
  {
   "cell_type": "code",
   "execution_count": 29,
   "metadata": {
    "tags": []
   },
   "outputs": [],
   "source": [
    "# Identify stocks\n",
    "n = 5\n",
    "\n",
    "portfolio_train = X_train_pred[:, ind[:n]]\n",
    "portfolio_test = X_test_pred[:, ind[:n]]\n",
    "\n",
    "# Create portfolio in-sample\n",
    "tracked_index_insample = np.mean(portfolio_train, axis=1)\n",
    "\n",
    "# Create portfolio out-sample\n",
    "tracked_index_outofsample = np.mean(portfolio_test, axis=1)"
   ]
  },
  {
   "cell_type": "code",
   "execution_count": 30,
   "metadata": {
    "collapsed": false,
    "jupyter": {
     "outputs_hidden": false
    }
   },
   "outputs": [
    {
     "data": {
      "image/png": "[encoded data removed]",
      "text/plain": [
       "<Figure size 432x288 with 1 Axes>"
      ]
     },
     "metadata": {
      "needs_background": "light"
     },
     "output_type": "display_data"
    }
   ],
   "source": [
    "# In-sample\n",
    "plt.figure()\n",
    "plt.plot(index_train, label='Nasdaq100 Index')\n",
    "plt.plot(tracked_index_insample, label='Tracked Index')\n",
    "plt.legend()\n",
    "plt.xlabel('Time (days)')\n",
    "plt.ylabel('Normalized price')\n",
    "plt.show()\n",
    "#plt.savefig('images/vanillaAE_insample.png', bbox_inches='tight')"
   ]
  },
  {
   "cell_type": "code",
   "execution_count": 31,
   "metadata": {
    "collapsed": false,
    "jupyter": {
     "outputs_hidden": false
    }
   },
   "outputs": [
    {
     "name": "stdout",
     "output_type": "stream",
     "text": [
      "Correlation coefficient (in-sample): 0.97716155\n"
     ]
    }
   ],
   "source": [
    "# Correlation coefficient (in-sample)\n",
    "corr_train = np.corrcoef(index_train.squeeze(), tracked_index_insample)[0, 1]\n",
    "print('Correlation coefficient (in-sample): %.8f' %corr_train)"
   ]
  },
  {
   "cell_type": "code",
   "execution_count": 32,
   "metadata": {
    "collapsed": false,
    "jupyter": {
     "outputs_hidden": false
    }
   },
   "outputs": [
    {
     "data": {
      "image/png": "[encoded data removed]",
      "text/plain": [
       "<Figure size 432x288 with 1 Axes>"
      ]
     },
     "metadata": {
      "needs_background": "light"
     },
     "output_type": "display_data"
    }
   ],
   "source": [
    "# Plot tracked index (out-of-sample)\n",
    "plt.figure()\n",
    "plt.plot(index_test, label='Nasdaq100 Index')\n",
    "plt.plot(tracked_index_outofsample, label='Tracked Index')\n",
    "plt.legend()\n",
    "plt.xlabel('Time (days)')\n",
    "plt.ylabel('Normalized price')\n",
    "plt.show()\n",
    "#plt.savefig('images/vanillaAE_outofsample.png', bbox_inches='tight')"
   ]
  },
  {
   "cell_type": "code",
   "execution_count": 33,
   "metadata": {
    "collapsed": false,
    "jupyter": {
     "outputs_hidden": false
    }
   },
   "outputs": [
    {
     "name": "stdout",
     "output_type": "stream",
     "text": [
      "Correlation coefficient: 0.95269881\n"
     ]
    }
   ],
   "source": [
    "# Correlation coefficient (out-of-sample)\n",
    "corr_test = np.corrcoef(index_test.squeeze(), tracked_index_outofsample)[0, 1]\n",
    "print('Correlation coefficient: %.8f' %corr_test)"
   ]
  },
  {
   "cell_type": "code",
   "execution_count": 34,
   "metadata": {
    "collapsed": false,
    "jupyter": {
     "outputs_hidden": false
    }
   },
   "outputs": [
    {
     "name": "stdout",
     "output_type": "stream",
     "text": [
      "Mean of code values for vanilla AE: 2.21515989\n"
     ]
    }
   ],
   "source": [
    "# Predict code values\n",
    "code_values = encoder.predict(X_test)\n",
    "np.save('models/vanillaAE_code.npy',code_values)\n",
    "\n",
    "# Compute mean\n",
    "mean_code = np.mean(code_values, axis=(0, 1))\n",
    "print('Mean of code values for vanilla AE: %.8f' %mean_code)"
   ]
  },
  {
   "cell_type": "markdown",
   "metadata": {},
   "source": [
    "# Deep Autoencoder"
   ]
  },
  {
   "cell_type": "code",
   "execution_count": 35,
   "metadata": {
    "tags": []
   },
   "outputs": [],
   "source": [
    "## Deep Autoencoder - Tensorflow\n",
    "\n",
    "# Network hyperparameters\n",
    "n_inputs = X_train.shape[1]\n",
    "\n",
    "# Training hyperparameters\n",
    "epochs = 25\n",
    "batch_size = 1\n",
    "\n",
    "# Define model\n",
    "input = Input(shape=(n_inputs,)) # input\n",
    "# Encoder Layers\n",
    "encoded = Dense(16, input_shape=(n_inputs,), activation='relu')(input) # hidden layer\n",
    "encoded = Dense(8, input_shape=(n_inputs,), activation='relu')(encoded) # hidden layer\n",
    "encoded = Dense(4, activation='relu')(encoded) # code\n",
    "decoded = Dense(8, activation='relu')(encoded) # hidden layer\n",
    "decoded = Dense(16, activation='relu')(decoded) # hidden layer\n",
    "decoded = Dense(n_inputs, activation='sigmoid')(decoded) # output\n",
    "\n",
    "# Encoder\n",
    "encoder = Model(input, encoded)\n",
    "\n",
    "# Autoencoder\n",
    "model = Model(input, decoded)"
   ]
  },
  {
   "cell_type": "code",
   "execution_count": 36,
   "metadata": {
    "collapsed": false,
    "jupyter": {
     "outputs_hidden": false
    }
   },
   "outputs": [
    {
     "name": "stdout",
     "output_type": "stream",
     "text": [
      "Model: \"model_3\"\n",
      "_________________________________________________________________\n",
      " Layer (type)                Output Shape              Param #   \n",
      "=================================================================\n",
      " input_2 (InputLayer)        [(None, 83)]              0         \n",
      "                                                                 \n",
      " dense_2 (Dense)             (None, 8)                 672       \n",
      "                                                                 \n",
      " dense_3 (Dense)             (None, 4)                 36        \n",
      "                                                                 \n",
      " dense_4 (Dense)             (None, 8)                 40        \n",
      "                                                                 \n",
      " dense_5 (Dense)             (None, 83)                747       \n",
      "                                                                 \n",
      "=================================================================\n",
      "Total params: 1,495\n",
      "Trainable params: 1,495\n",
      "Non-trainable params: 0\n",
      "_________________________________________________________________\n"
     ]
    }
   ],
   "source": [
    "# Compile autoencoder\n",
    "model.compile(loss='mse', optimizer='adam')\n",
    "model.summary()"
   ]
  },
  {
   "cell_type": "code",
   "execution_count": 37,
   "metadata": {
    "collapsed": false,
    "jupyter": {
     "outputs_hidden": false
    }
   },
   "outputs": [
    {
     "name": "stdout",
     "output_type": "stream",
     "text": [
      "Epoch 1/25\n",
      "2113/2113 [==============================] - 5s 2ms/step - loss: 0.0226\n",
      "Epoch 2/25\n",
      "2113/2113 [==============================] - 4s 2ms/step - loss: 0.0072\n",
      "Epoch 3/25\n",
      "2113/2113 [==============================] - 4s 2ms/step - loss: 0.0063\n",
      "Epoch 4/25\n",
      "2113/2113 [==============================] - 4s 2ms/step - loss: 0.0060\n",
      "Epoch 5/25\n",
      "2113/2113 [==============================] - 4s 2ms/step - loss: 0.0058\n",
      "Epoch 6/25\n",
      "2113/2113 [==============================] - 4s 2ms/step - loss: 0.0056\n",
      "Epoch 7/25\n",
      "2113/2113 [==============================] - 4s 2ms/step - loss: 0.0052\n",
      "Epoch 8/25\n",
      "2113/2113 [==============================] - 4s 2ms/step - loss: 0.0049\n",
      "Epoch 9/25\n",
      "2113/2113 [==============================] - 4s 2ms/step - loss: 0.0045\n",
      "Epoch 10/25\n",
      "2113/2113 [==============================] - 5s 2ms/step - loss: 0.0043\n",
      "Epoch 11/25\n",
      "2113/2113 [==============================] - 5s 2ms/step - loss: 0.0043\n",
      "Epoch 12/25\n",
      "2113/2113 [==============================] - 4s 2ms/step - loss: 0.0042\n",
      "Epoch 13/25\n",
      "2113/2113 [==============================] - 4s 2ms/step - loss: 0.0042\n",
      "Epoch 14/25\n",
      "2113/2113 [==============================] - 4s 2ms/step - loss: 0.0041\n",
      "Epoch 15/25\n",
      "2113/2113 [==============================] - 4s 2ms/step - loss: 0.0041\n",
      "Epoch 16/25\n",
      "2113/2113 [==============================] - 4s 2ms/step - loss: 0.0041\n",
      "Epoch 17/25\n",
      "2113/2113 [==============================] - 4s 2ms/step - loss: 0.0041\n",
      "Epoch 18/25\n",
      "2113/2113 [==============================] - 4s 2ms/step - loss: 0.0040\n",
      "Epoch 19/25\n",
      "2113/2113 [==============================] - 4s 2ms/step - loss: 0.0040\n",
      "Epoch 20/25\n",
      "2113/2113 [==============================] - 4s 2ms/step - loss: 0.0040\n",
      "Epoch 21/25\n",
      "2113/2113 [==============================] - 4s 2ms/step - loss: 0.0040\n",
      "Epoch 22/25\n",
      "2113/2113 [==============================] - 4s 2ms/step - loss: 0.0039\n",
      "Epoch 23/25\n",
      "2113/2113 [==============================] - 5s 2ms/step - loss: 0.0039\n",
      "Epoch 24/25\n",
      "2113/2113 [==============================] - 5s 2ms/step - loss: 0.0038\n",
      "Epoch 25/25\n",
      "2113/2113 [==============================] - 4s 2ms/step - loss: 0.0038\n"
     ]
    }
   ],
   "source": [
    "# Fit the model\n",
    "history = model.fit(X_train,\n",
    "                    X_train,\n",
    "                    epochs=epochs,\n",
    "                    batch_size=batch_size,\n",
    "                    shuffle=True,\n",
    "                    verbose=1\n",
    "                    )"
   ]
  },
  {
   "cell_type": "code",
   "execution_count": 38,
   "metadata": {
    "collapsed": false,
    "jupyter": {
     "outputs_hidden": false
    }
   },
   "outputs": [
    {
     "data": {
      "image/png": "[encoded data removed]",
      "text/plain": [
       "<Figure size 432x288 with 1 Axes>"
      ]
     },
     "metadata": {
      "needs_background": "light"
     },
     "output_type": "display_data"
    }
   ],
   "source": [
    "# Visualize loss history\n",
    "plt.figure()\n",
    "plt.plot(history.history['loss'])\n",
    "plt.ylabel('Loss')\n",
    "plt.xlabel('Epoch')\n",
    "plt.show()\n",
    "#plt.savefig('images/DAE_loss.eps', bbox_inches='tight')"
   ]
  },
  {
   "cell_type": "code",
   "execution_count": 39,
   "metadata": {},
   "outputs": [],
   "source": [
    "from keras.models import model_from_json\n",
    "#\n",
    "## Save model\n",
    "## serialize model to JSON\n",
    "model_json = model.to_json()\n",
    "with open(\"models/DAE_model.json\", \"w\") as json_file:\n",
    "    json_file.write(model_json)\n",
    "# serialize weights to HDF5\n",
    "model.save_weights(\"models/DAE_model.h5\")"
   ]
  },
  {
   "cell_type": "code",
   "execution_count": 40,
   "metadata": {},
   "outputs": [],
   "source": [
    "# load json and create model\n",
    "json_file = open('models/DAE_model.json', 'r')\n",
    "loaded_model_json = json_file.read()\n",
    "json_file.close()\n",
    "model = model_from_json(loaded_model_json)\n",
    "# load weights into new model\n",
    "model.load_weights(\"models/DAE_model.h5\")\n",
    "\n",
    "# Compile the model (otherwise you get an error)\n",
    "model.compile(loss='mse', optimizer='adam')"
   ]
  },
  {
   "cell_type": "code",
   "execution_count": 41,
   "metadata": {
    "collapsed": false,
    "jupyter": {
     "outputs_hidden": false
    }
   },
   "outputs": [
    {
     "name": "stdout",
     "output_type": "stream",
     "text": [
      "2113/2113 [==============================] - 4s 2ms/step - loss: 0.0038\n",
      "529/529 [==============================] - 1s 2ms/step - loss: 0.0420\n",
      "Training MSE: 0.00376222\n",
      "Training MSE: 0.04196302\n"
     ]
    }
   ],
   "source": [
    "# Evaluate model\n",
    "score_train = model.evaluate(X_train, X_train, batch_size=batch_size)\n",
    "score_test = model.evaluate(X_test, X_test, batch_size=batch_size)\n",
    "\n",
    "print('Training MSE: %.8f' %score_train)\n",
    "print('Testing MSE: %.8f' %score_test)"
   ]
  },
  {
   "cell_type": "code",
   "execution_count": 42,
   "metadata": {
    "collapsed": false,
    "jupyter": {
     "outputs_hidden": false
    }
   },
   "outputs": [
    {
     "name": "stdout",
     "output_type": "stream",
     "text": [
      "Training MSE: 0.00376222\n",
      "Testing MSE: 0.04196305\n"
     ]
    }
   ],
   "source": [
    "# Obtain reconstruction of the stocks\n",
    "X_train_pred = model.predict(X_train)\n",
    "X_test_pred = model.predict(X_test)\n",
    "\n",
    "error = np.mean(np.abs(X_train - X_train_pred)**2, axis=0)\n",
    "print('Training MSE: %.8f' %np.mean(error))\n",
    "\n",
    "error_test = np.mean(np.abs(X_test - X_test_pred)**2, axis=0)\n",
    "print('Testing MSE: %.8f' %np.mean(error_test))"
   ]
  },
  {
   "cell_type": "code",
   "execution_count": 43,
   "metadata": {
    "tags": []
   },
   "outputs": [],
   "source": [
    "# Sort stocks by reconstruction error\n",
    "ind = np.argsort(error)\n",
    "sort_error = error[ind]\n",
    "sort_assets_names = assets_names[ind]"
   ]
  },
  {
   "cell_type": "code",
   "execution_count": 44,
   "metadata": {
    "collapsed": false,
    "jupyter": {
     "outputs_hidden": false
    }
   },
   "outputs": [
    {
     "data": {
      "image/png": "[encoded data removed]",
      "text/plain": [
       "<Figure size 432x288 with 1 Axes>"
      ]
     },
     "metadata": {
      "needs_background": "light"
     },
     "output_type": "display_data"
    }
   ],
   "source": [
    "# Barplot\n",
    "plt.figure()\n",
    "plt.barh(2*np.arange(len(error[:20])), error[ind[:20]], tick_label=assets_names[ind[:20]])\n",
    "plt.xlabel('MSE')\n",
    "plt.show()\n",
    "#plt.savefig('images/DAE_MSEbar.eps', bbox_inches='tight')"
   ]
  },
  {
   "cell_type": "code",
   "execution_count": 45,
   "metadata": {
    "collapsed": false,
    "jupyter": {
     "outputs_hidden": false
    }
   },
   "outputs": [
    {
     "data": {
      "image/png": "[encoded data removed]",
      "text/plain": [
       "<Figure size 432x288 with 1 Axes>"
      ]
     },
     "metadata": {
      "needs_background": "light"
     },
     "output_type": "display_data"
    }
   ],
   "source": [
    "# Plot stock\n",
    "i=0\n",
    "plt.figure()\n",
    "plt.plot(X_train[:, ind[i]], label=assets_names[ind[i]] + ' Stock')\n",
    "plt.plot(X_train_pred[:, ind[i]], label=assets_names[ind[i]] + ' AE')\n",
    "plt.legend()\n",
    "plt.xlabel('Time (days)')\n",
    "plt.ylabel('Normalized price')\n",
    "plt.show()\n",
    "#plt.savefig('images/DAE_' + assets_names[ind[i]] + '.eps', bbox_inches='tight')"
   ]
  },
  {
   "cell_type": "code",
   "execution_count": 46,
   "metadata": {
    "tags": []
   },
   "outputs": [],
   "source": [
    "# Identify stocks\n",
    "n = 5\n",
    "\n",
    "portfolio_train = X_train_pred[:, ind[:n]]\n",
    "portfolio_test = X_test_pred[:, ind[:n]]\n",
    "\n",
    "# Create portfolio in-sample\n",
    "tracked_index_insample = np.mean(portfolio_train, axis=1)\n",
    "\n",
    "# Create portfolio out-sample\n",
    "tracked_index_outofsample = np.mean(portfolio_test, axis=1)"
   ]
  },
  {
   "cell_type": "code",
   "execution_count": 47,
   "metadata": {
    "collapsed": false,
    "jupyter": {
     "outputs_hidden": false
    }
   },
   "outputs": [
    {
     "data": {
      "image/png": "[encoded data removed]",
      "text/plain": [
       "<Figure size 432x288 with 1 Axes>"
      ]
     },
     "metadata": {
      "needs_background": "light"
     },
     "output_type": "display_data"
    }
   ],
   "source": [
    "# In-sample\n",
    "plt.figure()\n",
    "plt.plot(index_train, label='Nasdaq100 Index')\n",
    "plt.plot(tracked_index_insample, label='Tracked Index')\n",
    "plt.legend()\n",
    "plt.xlabel('Time (days)')\n",
    "plt.ylabel('Normalized price')\n",
    "plt.show()\n",
    "#plt.savefig('images/DAE_insample.png', bbox_inches='tight')"
   ]
  },
  {
   "cell_type": "code",
   "execution_count": 48,
   "metadata": {
    "collapsed": false,
    "jupyter": {
     "outputs_hidden": false
    }
   },
   "outputs": [
    {
     "name": "stdout",
     "output_type": "stream",
     "text": [
      "Correlation coefficient (in-sample): 0.98068652\n"
     ]
    }
   ],
   "source": [
    "# Correlation coefficient (in-sample)\n",
    "corr_train = np.corrcoef(index_train.squeeze(), tracked_index_insample)[0, 1]\n",
    "print('Correlation coefficient (in-sample): %.8f' %corr_train)"
   ]
  },
  {
   "cell_type": "code",
   "execution_count": 49,
   "metadata": {
    "collapsed": false,
    "jupyter": {
     "outputs_hidden": false
    }
   },
   "outputs": [
    {
     "data": {
      "image/png": "[encoded data removed]",
      "text/plain": [
       "<Figure size 432x288 with 1 Axes>"
      ]
     },
     "metadata": {
      "needs_background": "light"
     },
     "output_type": "display_data"
    }
   ],
   "source": [
    "# Plot tracked index (out-of-sample)\n",
    "plt.figure()\n",
    "plt.plot(index_test, label='Nasdaq100 Index')\n",
    "plt.plot(tracked_index_outofsample, label='Tracked Index')\n",
    "plt.legend()\n",
    "plt.xlabel('Time (days)')\n",
    "plt.ylabel('Normalized price')\n",
    "plt.show()\n",
    "#plt.savefig('images/DAE_outofsample.png', bbox_inches='tight')"
   ]
  },
  {
   "cell_type": "code",
   "execution_count": 50,
   "metadata": {
    "collapsed": false,
    "jupyter": {
     "outputs_hidden": false
    }
   },
   "outputs": [
    {
     "name": "stdout",
     "output_type": "stream",
     "text": [
      "Correlation coefficient: 0.97491261\n"
     ]
    }
   ],
   "source": [
    "# Correlation coefficient (out-of-sample)\n",
    "corr_test = np.corrcoef(index_test.squeeze(), tracked_index_outofsample)[0, 1]\n",
    "print('Correlation coefficient: %.8f' %corr_test)"
   ]
  },
  {
   "cell_type": "markdown",
   "metadata": {},
   "source": [
    "# Denoising Autoencoder\n",
    "By using the vanilla AE implemented so far, where the only constraint is the size of the code layer, usually the hidden layer learns just an approximation of Principal Component Analysis (PCA).\n",
    "\n",
    "\n",
    "Corrupting the input data is one strategy to make the learned features in the latent space more robust. \n",
    "\n",
    "The idea is to train the autoencoder to reconstruct the clean data from its corrupted version. This is known as the **denoising autoencoder**.\n",
    "\n",
    "\n",
    "How can we corrupt our data? The simplest way is by adding **Gaussian noise**. "
   ]
  },
  {
   "cell_type": "code",
   "execution_count": 51,
   "metadata": {},
   "outputs": [
    {
     "name": "stdout",
     "output_type": "stream",
     "text": [
      "Stocks data (time series) shape: (2642, 83)\n",
      "Index data (time series) shape: (2642,)\n"
     ]
    },
    {
     "data": {
      "text/html": [
       "<div>\n",
       "<style scoped>\n",
       "    .dataframe tbody tr th:only-of-type {\n",
       "        vertical-align: middle;\n",
       "    }\n",
       "\n",
       "    .dataframe tbody tr th {\n",
       "        vertical-align: top;\n",
       "    }\n",
       "\n",
       "    .dataframe thead th {\n",
       "        text-align: right;\n",
       "    }\n",
       "</style>\n",
       "<table border=\"1\" class=\"dataframe\">\n",
       "  <thead>\n",
       "    <tr style=\"text-align: right;\">\n",
       "      <th></th>\n",
       "      <th>AAPL</th>\n",
       "      <th>ADBE</th>\n",
       "      <th>ADI</th>\n",
       "      <th>ADP</th>\n",
       "      <th>ADSK</th>\n",
       "      <th>AEP</th>\n",
       "      <th>ALGN</th>\n",
       "      <th>AMAT</th>\n",
       "      <th>AMD</th>\n",
       "      <th>AMGN</th>\n",
       "      <th>...</th>\n",
       "      <th>SNPS</th>\n",
       "      <th>SWKS</th>\n",
       "      <th>TMUS</th>\n",
       "      <th>TSLA</th>\n",
       "      <th>TXN</th>\n",
       "      <th>VRSK</th>\n",
       "      <th>VRSN</th>\n",
       "      <th>VRTX</th>\n",
       "      <th>WBA</th>\n",
       "      <th>XEL</th>\n",
       "    </tr>\n",
       "    <tr>\n",
       "      <th>Date</th>\n",
       "      <th></th>\n",
       "      <th></th>\n",
       "      <th></th>\n",
       "      <th></th>\n",
       "      <th></th>\n",
       "      <th></th>\n",
       "      <th></th>\n",
       "      <th></th>\n",
       "      <th></th>\n",
       "      <th></th>\n",
       "      <th></th>\n",
       "      <th></th>\n",
       "      <th></th>\n",
       "      <th></th>\n",
       "      <th></th>\n",
       "      <th></th>\n",
       "      <th></th>\n",
       "      <th></th>\n",
       "      <th></th>\n",
       "      <th></th>\n",
       "      <th></th>\n",
       "    </tr>\n",
       "  </thead>\n",
       "  <tbody>\n",
       "    <tr>\n",
       "      <th>2012-01-03</th>\n",
       "      <td>12.540044</td>\n",
       "      <td>28.570000</td>\n",
       "      <td>27.857821</td>\n",
       "      <td>37.355480</td>\n",
       "      <td>30.809999</td>\n",
       "      <td>27.491381</td>\n",
       "      <td>23.950001</td>\n",
       "      <td>8.905310</td>\n",
       "      <td>5.48</td>\n",
       "      <td>48.890965</td>\n",
       "      <td>...</td>\n",
       "      <td>26.990000</td>\n",
       "      <td>14.872287</td>\n",
       "      <td>15.560119</td>\n",
       "      <td>1.872000</td>\n",
       "      <td>22.259815</td>\n",
       "      <td>38.402344</td>\n",
       "      <td>35.820000</td>\n",
       "      <td>32.230000</td>\n",
       "      <td>24.575785</td>\n",
       "      <td>19.223831</td>\n",
       "    </tr>\n",
       "    <tr>\n",
       "      <th>2012-01-04</th>\n",
       "      <td>12.607440</td>\n",
       "      <td>28.280001</td>\n",
       "      <td>27.819164</td>\n",
       "      <td>37.314316</td>\n",
       "      <td>30.209999</td>\n",
       "      <td>27.579029</td>\n",
       "      <td>24.410000</td>\n",
       "      <td>8.955247</td>\n",
       "      <td>5.46</td>\n",
       "      <td>48.624035</td>\n",
       "      <td>...</td>\n",
       "      <td>26.490000</td>\n",
       "      <td>14.836918</td>\n",
       "      <td>14.565862</td>\n",
       "      <td>1.847333</td>\n",
       "      <td>22.117708</td>\n",
       "      <td>38.031590</td>\n",
       "      <td>35.820000</td>\n",
       "      <td>32.200001</td>\n",
       "      <td>24.404806</td>\n",
       "      <td>19.097265</td>\n",
       "    </tr>\n",
       "    <tr>\n",
       "      <th>2012-01-05</th>\n",
       "      <td>12.747406</td>\n",
       "      <td>28.480000</td>\n",
       "      <td>27.942873</td>\n",
       "      <td>37.588699</td>\n",
       "      <td>30.820000</td>\n",
       "      <td>27.612740</td>\n",
       "      <td>24.190001</td>\n",
       "      <td>9.013505</td>\n",
       "      <td>5.46</td>\n",
       "      <td>49.119732</td>\n",
       "      <td>...</td>\n",
       "      <td>26.850000</td>\n",
       "      <td>15.279026</td>\n",
       "      <td>13.273328</td>\n",
       "      <td>1.808000</td>\n",
       "      <td>22.274776</td>\n",
       "      <td>38.177933</td>\n",
       "      <td>35.740002</td>\n",
       "      <td>33.119999</td>\n",
       "      <td>24.323038</td>\n",
       "      <td>19.181652</td>\n",
       "    </tr>\n",
       "    <tr>\n",
       "      <th>2012-01-06</th>\n",
       "      <td>12.880666</td>\n",
       "      <td>28.719999</td>\n",
       "      <td>27.757313</td>\n",
       "      <td>37.643581</td>\n",
       "      <td>30.959999</td>\n",
       "      <td>27.504858</td>\n",
       "      <td>23.709999</td>\n",
       "      <td>9.163314</td>\n",
       "      <td>5.43</td>\n",
       "      <td>49.386665</td>\n",
       "      <td>...</td>\n",
       "      <td>26.870001</td>\n",
       "      <td>15.164070</td>\n",
       "      <td>13.289900</td>\n",
       "      <td>1.794000</td>\n",
       "      <td>22.274776</td>\n",
       "      <td>38.412086</td>\n",
       "      <td>35.400002</td>\n",
       "      <td>34.049999</td>\n",
       "      <td>24.590658</td>\n",
       "      <td>19.125391</td>\n",
       "    </tr>\n",
       "    <tr>\n",
       "      <th>2012-01-09</th>\n",
       "      <td>12.860233</td>\n",
       "      <td>28.530001</td>\n",
       "      <td>28.298538</td>\n",
       "      <td>37.499523</td>\n",
       "      <td>31.080000</td>\n",
       "      <td>27.632967</td>\n",
       "      <td>22.670000</td>\n",
       "      <td>9.437964</td>\n",
       "      <td>5.59</td>\n",
       "      <td>48.959583</td>\n",
       "      <td>...</td>\n",
       "      <td>27.040001</td>\n",
       "      <td>15.747650</td>\n",
       "      <td>13.588176</td>\n",
       "      <td>1.816667</td>\n",
       "      <td>22.559011</td>\n",
       "      <td>38.421852</td>\n",
       "      <td>35.020000</td>\n",
       "      <td>35.680000</td>\n",
       "      <td>24.902863</td>\n",
       "      <td>19.139462</td>\n",
       "    </tr>\n",
       "  </tbody>\n",
       "</table>\n",
       "<p>5 rows × 83 columns</p>\n",
       "</div>"
      ],
      "text/plain": [
       "                 AAPL       ADBE        ADI        ADP       ADSK        AEP  \\\n",
       "Date                                                                           \n",
       "2012-01-03  12.540044  28.570000  27.857821  37.355480  30.809999  27.491381   \n",
       "2012-01-04  12.607440  28.280001  27.819164  37.314316  30.209999  27.579029   \n",
       "2012-01-05  12.747406  28.480000  27.942873  37.588699  30.820000  27.612740   \n",
       "2012-01-06  12.880666  28.719999  27.757313  37.643581  30.959999  27.504858   \n",
       "2012-01-09  12.860233  28.530001  28.298538  37.499523  31.080000  27.632967   \n",
       "\n",
       "                 ALGN      AMAT   AMD       AMGN  ...       SNPS       SWKS  \\\n",
       "Date                                              ...                         \n",
       "2012-01-03  23.950001  8.905310  5.48  48.890965  ...  26.990000  14.872287   \n",
       "2012-01-04  24.410000  8.955247  5.46  48.624035  ...  26.490000  14.836918   \n",
       "2012-01-05  24.190001  9.013505  5.46  49.119732  ...  26.850000  15.279026   \n",
       "2012-01-06  23.709999  9.163314  5.43  49.386665  ...  26.870001  15.164070   \n",
       "2012-01-09  22.670000  9.437964  5.59  48.959583  ...  27.040001  15.747650   \n",
       "\n",
       "                 TMUS      TSLA        TXN       VRSK       VRSN       VRTX  \\\n",
       "Date                                                                          \n",
       "2012-01-03  15.560119  1.872000  22.259815  38.402344  35.820000  32.230000   \n",
       "2012-01-04  14.565862  1.847333  22.117708  38.031590  35.820000  32.200001   \n",
       "2012-01-05  13.273328  1.808000  22.274776  38.177933  35.740002  33.119999   \n",
       "2012-01-06  13.289900  1.794000  22.274776  38.412086  35.400002  34.049999   \n",
       "2012-01-09  13.588176  1.816667  22.559011  38.421852  35.020000  35.680000   \n",
       "\n",
       "                  WBA        XEL  \n",
       "Date                              \n",
       "2012-01-03  24.575785  19.223831  \n",
       "2012-01-04  24.404806  19.097265  \n",
       "2012-01-05  24.323038  19.181652  \n",
       "2012-01-06  24.590658  19.125391  \n",
       "2012-01-09  24.902863  19.139462  \n",
       "\n",
       "[5 rows x 83 columns]"
      ]
     },
     "execution_count": 51,
     "metadata": {},
     "output_type": "execute_result"
    }
   ],
   "source": [
    "# Load data\n",
    "stocks_data = data.iloc[:,1:]\n",
    "index_data = data.iloc[:,0]\n",
    "assets_names = data.iloc[:,1:].columns\n",
    "\n",
    "print(\"Stocks data (time series) shape: {shape}\".format(shape=stocks_data.shape))\n",
    "print(\"Index data (time series) shape: {shape}\".format(shape=index_data.shape))\n",
    "\n",
    "stocks_data.head()"
   ]
  },
  {
   "cell_type": "code",
   "execution_count": 52,
   "metadata": {
    "tags": []
   },
   "outputs": [],
   "source": [
    "# Split data\n",
    "n_train = int(stocks_data.shape[0]*0.8)\n",
    "\n",
    "# Stocks data\n",
    "X_train = stocks_data.values[:n_train, :]\n",
    "X_test = stocks_data.values[n_train:, :]\n",
    "\n",
    "# Index data\n",
    "index_train = index_data[:n_train]\n",
    "index_test = index_data[n_train:]"
   ]
  },
  {
   "cell_type": "code",
   "execution_count": 53,
   "metadata": {
    "tags": []
   },
   "outputs": [],
   "source": [
    "# Normalize data\n",
    "scaler = MinMaxScaler([0, 1])\n",
    "# Stocks data\n",
    "X_train = scaler.fit_transform(X_train)\n",
    "X_test = scaler.fit_transform(X_test)\n",
    "# Index data\n",
    "scaler_index = MinMaxScaler([0, 1])\n",
    "index_train = scaler_index.fit_transform(index_train.values.reshape(-1,1))\n",
    "index_test = scaler_index.fit_transform(index_test.values.reshape(-1,1))"
   ]
  },
  {
   "cell_type": "code",
   "execution_count": 54,
   "metadata": {
    "tags": []
   },
   "outputs": [],
   "source": [
    "# Generate corrupted series by adding noise with normal distribution\n",
    "noise_factor = 0.05\n",
    "X_train_noisy = X_train + noise_factor * np.random.normal(loc=0.0, scale=1.0, size=X_train.shape)\n",
    "X_test_noisy = X_test + noise_factor * np.random.normal(loc=0.0, scale=1.0, size=X_test.shape)\n",
    "\n",
    "# Clip corrupted data\n",
    "X_train_noisy = np.clip(X_train_noisy, 0., 1.)\n",
    "X_test_noisy = np.clip(X_test_noisy, 0., 1.)"
   ]
  },
  {
   "cell_type": "code",
   "execution_count": 55,
   "metadata": {
    "collapsed": false,
    "jupyter": {
     "outputs_hidden": false
    }
   },
   "outputs": [
    {
     "data": {
      "image/png": "[encoded data removed]",
      "text/plain": [
       "<Figure size 1080x504 with 6 Axes>"
      ]
     },
     "metadata": {
      "needs_background": "light"
     },
     "output_type": "display_data"
    }
   ],
   "source": [
    "# Visualize corrupted data\n",
    "f, axarr = plt.subplots(2, 3, sharex=True, sharey=True, figsize=(15,7))\n",
    "\n",
    "# Asset 1\n",
    "axarr[0,0].plot(X_train[:, 0])\n",
    "axarr[0,0].set_title(assets_names[0])\n",
    "axarr[1,0].plot(X_train_noisy[:, 0])\n",
    "\n",
    "# Asset 2\n",
    "axarr[0,1].plot(X_train[:, 1])\n",
    "axarr[0,1].set_title(assets_names[1])\n",
    "axarr[1,1].plot(X_train_noisy[:, 1])\n",
    "\n",
    "# Asset 3\n",
    "axarr[0,2].plot(X_train[:, 2])\n",
    "axarr[0,2].set_title(assets_names[2])\n",
    "axarr[1,2].plot(X_train_noisy[:, 2])\n",
    "\n",
    "plt.show()\n",
    "#plt.savefig('denoisingAE_noisydata.png', bbox_inches='tight')"
   ]
  },
  {
   "cell_type": "code",
   "execution_count": 56,
   "metadata": {
    "tags": []
   },
   "outputs": [],
   "source": [
    "## Autoencoder - Tensorflow\n",
    "\n",
    "# Network hyperparameters\n",
    "n_inputs = X_train.shape[1]\n",
    "\n",
    "# Training hyperparameters\n",
    "epochs = 25\n",
    "batch_size = 1\n",
    "\n",
    "# Define model\n",
    "input = Input(shape=(n_inputs,))\n",
    "# Encoder Layers\n",
    "encoded = Dense(4, input_shape=(n_inputs,), activation='relu')(input)\n",
    "decoded = Dense(n_inputs, activation='sigmoid')(encoded)\n",
    "\n",
    "# Encoder\n",
    "encoder = Model(input, encoded)\n",
    "\n",
    "# Autoencoder\n",
    "model = Model(input, decoded)"
   ]
  },
  {
   "cell_type": "code",
   "execution_count": 57,
   "metadata": {
    "collapsed": false,
    "jupyter": {
     "outputs_hidden": false
    }
   },
   "outputs": [
    {
     "name": "stdout",
     "output_type": "stream",
     "text": [
      "Model: \"model_5\"\n",
      "_________________________________________________________________\n",
      " Layer (type)                Output Shape              Param #   \n",
      "=================================================================\n",
      " input_3 (InputLayer)        [(None, 83)]              0         \n",
      "                                                                 \n",
      " dense_6 (Dense)             (None, 4)                 336       \n",
      "                                                                 \n",
      " dense_7 (Dense)             (None, 83)                415       \n",
      "                                                                 \n",
      "=================================================================\n",
      "Total params: 751\n",
      "Trainable params: 751\n",
      "Non-trainable params: 0\n",
      "_________________________________________________________________\n"
     ]
    }
   ],
   "source": [
    "# Compile autoencoder\n",
    "model.compile(loss='mse', optimizer='adam')\n",
    "model.summary()"
   ]
  },
  {
   "cell_type": "code",
   "execution_count": 58,
   "metadata": {
    "collapsed": false,
    "jupyter": {
     "outputs_hidden": false
    }
   },
   "outputs": [
    {
     "name": "stdout",
     "output_type": "stream",
     "text": [
      "Epoch 1/25\n",
      "2113/2113 [==============================] - 4s 2ms/step - loss: 0.0406\n",
      "Epoch 2/25\n",
      "2113/2113 [==============================] - 4s 2ms/step - loss: 0.0131\n",
      "Epoch 3/25\n",
      "2113/2113 [==============================] - 4s 2ms/step - loss: 0.0079\n",
      "Epoch 4/25\n",
      "2113/2113 [==============================] - 4s 2ms/step - loss: 0.0063\n",
      "Epoch 5/25\n",
      "2113/2113 [==============================] - 4s 2ms/step - loss: 0.0053\n",
      "Epoch 6/25\n",
      "2113/2113 [==============================] - 4s 2ms/step - loss: 0.0046\n",
      "Epoch 7/25\n",
      "2113/2113 [==============================] - 4s 2ms/step - loss: 0.0043\n",
      "Epoch 8/25\n",
      "2113/2113 [==============================] - 4s 2ms/step - loss: 0.0041\n",
      "Epoch 9/25\n",
      "2113/2113 [==============================] - 4s 2ms/step - loss: 0.0040\n",
      "Epoch 10/25\n",
      "2113/2113 [==============================] - 5s 2ms/step - loss: 0.0039\n",
      "Epoch 11/25\n",
      "2113/2113 [==============================] - 4s 2ms/step - loss: 0.0038\n",
      "Epoch 12/25\n",
      "2113/2113 [==============================] - 4s 2ms/step - loss: 0.0037\n",
      "Epoch 13/25\n",
      "2113/2113 [==============================] - 4s 2ms/step - loss: 0.0037\n",
      "Epoch 14/25\n",
      "2113/2113 [==============================] - 4s 2ms/step - loss: 0.0036\n",
      "Epoch 15/25\n",
      "2113/2113 [==============================] - 4s 2ms/step - loss: 0.0036\n",
      "Epoch 16/25\n",
      "2113/2113 [==============================] - 4s 2ms/step - loss: 0.0036\n",
      "Epoch 17/25\n",
      "2113/2113 [==============================] - 4s 2ms/step - loss: 0.0036\n",
      "Epoch 18/25\n",
      "2113/2113 [==============================] - 4s 2ms/step - loss: 0.0035\n",
      "Epoch 19/25\n",
      "2113/2113 [==============================] - 4s 2ms/step - loss: 0.0035\n",
      "Epoch 20/25\n",
      "2113/2113 [==============================] - 4s 2ms/step - loss: 0.0035\n",
      "Epoch 21/25\n",
      "2113/2113 [==============================] - 4s 2ms/step - loss: 0.0035\n",
      "Epoch 22/25\n",
      "2113/2113 [==============================] - 4s 2ms/step - loss: 0.0035\n",
      "Epoch 23/25\n",
      "2113/2113 [==============================] - 4s 2ms/step - loss: 0.0035\n",
      "Epoch 24/25\n",
      "2113/2113 [==============================] - 4s 2ms/step - loss: 0.0035\n",
      "Epoch 25/25\n",
      "2113/2113 [==============================] - 4s 2ms/step - loss: 0.0035\n"
     ]
    }
   ],
   "source": [
    "# Fit the model\n",
    "history = model.fit(X_train_noisy,\n",
    "                    X_train,\n",
    "                    epochs=epochs,\n",
    "                    batch_size=batch_size,\n",
    "                    shuffle=True,\n",
    "                    verbose=1\n",
    "                    )"
   ]
  },
  {
   "cell_type": "code",
   "execution_count": 59,
   "metadata": {
    "collapsed": false,
    "jupyter": {
     "outputs_hidden": false
    }
   },
   "outputs": [
    {
     "data": {
      "image/png": "[encoded data removed]",
      "text/plain": [
       "<Figure size 432x288 with 1 Axes>"
      ]
     },
     "metadata": {
      "needs_background": "light"
     },
     "output_type": "display_data"
    }
   ],
   "source": [
    "# Visualize loss history\n",
    "plt.figure()\n",
    "plt.plot(history.history['loss'])\n",
    "plt.ylabel('Loss')\n",
    "plt.xlabel('Epoch')\n",
    "plt.show()\n",
    "#plt.savefig('images/denoisingAE_loss.png', bbox_inches='tight')"
   ]
  },
  {
   "cell_type": "code",
   "execution_count": 60,
   "metadata": {},
   "outputs": [],
   "source": [
    "#from keras.models import model_from_json\n",
    "#\n",
    "## Save model\n",
    "## serialize model to JSON\n",
    "#model_json = model.to_json()\n",
    "#with open(\"models/denoisingAE_model.json\", \"w\") as json_file:\n",
    "#    json_file.write(model_json)\n",
    "## serialize weights to HDF5\n",
    "#model.save_weights(\"models/denoisingAE_model.h5\")"
   ]
  },
  {
   "cell_type": "code",
   "execution_count": 61,
   "metadata": {
    "collapsed": false,
    "jupyter": {
     "outputs_hidden": false
    }
   },
   "outputs": [],
   "source": [
    "## Load model\n",
    "## load json and create model\n",
    "#json_file = open('models/denoisingAE_model.json', 'r')\n",
    "#loaded_model_json = json_file.read()\n",
    "#json_file.close()\n",
    "#model = model_from_json(loaded_model_json)\n",
    "## load weights into new model\n",
    "#model.load_weights(\"models/denoisingAE_model.h5\")"
   ]
  },
  {
   "cell_type": "code",
   "execution_count": 62,
   "metadata": {
    "collapsed": false,
    "jupyter": {
     "outputs_hidden": false
    }
   },
   "outputs": [
    {
     "name": "stdout",
     "output_type": "stream",
     "text": [
      "2113/2113 [==============================] - 4s 2ms/step - loss: 0.0034\n",
      "529/529 [==============================] - 1s 2ms/step - loss: 0.0413\n",
      "Training MSE: 0.00339711\n",
      "Training MSE: 0.04130471\n"
     ]
    }
   ],
   "source": [
    "# Evaluate model\n",
    "score_train = model.evaluate(X_train_noisy, X_train, batch_size=batch_size)\n",
    "score_test = model.evaluate(X_test_noisy, X_test, batch_size=batch_size)\n",
    "\n",
    "print('Training MSE: %.8f' %score_train)\n",
    "print('Training MSE: %.8f' %score_test)"
   ]
  },
  {
   "cell_type": "code",
   "execution_count": 63,
   "metadata": {
    "collapsed": false,
    "jupyter": {
     "outputs_hidden": false
    }
   },
   "outputs": [
    {
     "name": "stdout",
     "output_type": "stream",
     "text": [
      "Training MSE: 0.00339711\n",
      "Testing MSE: 0.04130471\n"
     ]
    }
   ],
   "source": [
    "# Obtain reconstruction of the stocks\n",
    "X_train_pred = model.predict(X_train_noisy)\n",
    "X_test_pred = model.predict(X_test_noisy)\n",
    "\n",
    "error = np.mean(np.abs(X_train - X_train_pred)**2, axis=0)\n",
    "print('Training MSE: %.8f' %np.mean(error))\n",
    "\n",
    "error_test = np.mean(np.abs(X_test - X_test_pred)**2, axis=0)\n",
    "print('Testing MSE: %.8f' %np.mean(error_test))"
   ]
  },
  {
   "cell_type": "code",
   "execution_count": 64,
   "metadata": {
    "tags": []
   },
   "outputs": [],
   "source": [
    "# Sort stocks by reconstruction error\n",
    "ind = np.argsort(error)\n",
    "sort_error = error[ind]\n",
    "sort_assets_names = assets_names[ind]"
   ]
  },
  {
   "cell_type": "code",
   "execution_count": 65,
   "metadata": {
    "collapsed": false,
    "jupyter": {
     "outputs_hidden": false
    }
   },
   "outputs": [
    {
     "data": {
      "image/png": "[encoded data removed]",
      "text/plain": [
       "<Figure size 432x288 with 1 Axes>"
      ]
     },
     "metadata": {
      "needs_background": "light"
     },
     "output_type": "display_data"
    }
   ],
   "source": [
    "# Plot\n",
    "i = 0\n",
    "plt.figure()\n",
    "plt.plot(X_train[:, ind[i]], label=assets_names[ind[i]] + ' Stock')\n",
    "plt.plot(X_train_pred[:, ind[i]], label=assets_names[ind[i]] + ' AE')\n",
    "plt.legend()\n",
    "plt.xlabel('Time (days)')\n",
    "plt.ylabel('Normalized price')\n",
    "plt.show()\n",
    "#plt.savefig('images/denoisingAE_' + assets_names[ind[i]] + '.eps', bbox_inches='tight')"
   ]
  },
  {
   "cell_type": "code",
   "execution_count": 66,
   "metadata": {
    "collapsed": false,
    "jupyter": {
     "outputs_hidden": false
    }
   },
   "outputs": [
    {
     "data": {
      "image/png": "[encoded data removed]",
      "text/plain": [
       "<Figure size 432x288 with 1 Axes>"
      ]
     },
     "metadata": {
      "needs_background": "light"
     },
     "output_type": "display_data"
    }
   ],
   "source": [
    "# Barplot\n",
    "plt.figure()\n",
    "plt.barh(2*np.arange(len(error[:20])), error[ind[:20]], tick_label=assets_names[ind[:20]])\n",
    "plt.xlabel('MSE')\n",
    "#plt.xticks(rotation=25)\n",
    "plt.show()\n",
    "#plt.savefig('images/denoisingAE_MSEbar.png', bbox_inches='tight')"
   ]
  },
  {
   "cell_type": "code",
   "execution_count": 67,
   "metadata": {
    "tags": []
   },
   "outputs": [],
   "source": [
    "# Identify stocks\n",
    "n = 5\n",
    "\n",
    "portfolio_train = X_train_pred[:, ind[:n]]\n",
    "portfolio_test = X_test_pred[:, ind[:n]]\n",
    "\n",
    "# Create portfolio in-sample\n",
    "tracked_index_insample = np.mean(portfolio_train, axis=1)\n",
    "\n",
    "# Create portfolio out-sample\n",
    "tracked_index_outofsample = np.mean(portfolio_test, axis=1)"
   ]
  },
  {
   "cell_type": "code",
   "execution_count": 68,
   "metadata": {
    "collapsed": false,
    "jupyter": {
     "outputs_hidden": false
    }
   },
   "outputs": [
    {
     "data": {
      "image/png": "[encoded data removed]",
      "text/plain": [
       "<Figure size 432x288 with 1 Axes>"
      ]
     },
     "metadata": {
      "needs_background": "light"
     },
     "output_type": "display_data"
    }
   ],
   "source": [
    "# In-sample\n",
    "plt.figure()\n",
    "plt.plot(index_train, label='Nasdaq100 Index')\n",
    "plt.plot(tracked_index_insample, label='Tracked Index')\n",
    "plt.legend()\n",
    "plt.xlabel('Time (days)')\n",
    "plt.ylabel('Normalized price')\n",
    "plt.show()\n",
    "#plt.savefig('images/denoisingAE_insample.png', bbox_inches='tight')"
   ]
  },
  {
   "cell_type": "code",
   "execution_count": 69,
   "metadata": {
    "collapsed": false,
    "jupyter": {
     "outputs_hidden": false
    }
   },
   "outputs": [
    {
     "name": "stdout",
     "output_type": "stream",
     "text": [
      "Correlation coefficient (in-sample): 0.97804621\n"
     ]
    }
   ],
   "source": [
    "# Correlation coefficient (in-sample)\n",
    "corr_train = np.corrcoef(index_train.squeeze(), tracked_index_insample)[0, 1]\n",
    "print('Correlation coefficient (in-sample): %.8f' %corr_train)"
   ]
  },
  {
   "cell_type": "code",
   "execution_count": 70,
   "metadata": {
    "collapsed": false,
    "jupyter": {
     "outputs_hidden": false
    }
   },
   "outputs": [
    {
     "data": {
      "image/png": "[encoded data removed]",
      "text/plain": [
       "<Figure size 432x288 with 1 Axes>"
      ]
     },
     "metadata": {
      "needs_background": "light"
     },
     "output_type": "display_data"
    }
   ],
   "source": [
    "# Plot tracked index (out-of-sample)\n",
    "plt.figure()\n",
    "plt.plot(index_test, label='Nasdaq100 Index')\n",
    "plt.plot(tracked_index_outofsample, label='Tracked Index')\n",
    "plt.legend()\n",
    "plt.xlabel('Time (days)')\n",
    "plt.ylabel('Normalized price')\n",
    "plt.show()\n",
    "#plt.savefig('images/denoisingAE_outofsample.png', bbox_inches='tight')"
   ]
  },
  {
   "cell_type": "code",
   "execution_count": 71,
   "metadata": {
    "collapsed": false,
    "jupyter": {
     "outputs_hidden": false
    }
   },
   "outputs": [
    {
     "name": "stdout",
     "output_type": "stream",
     "text": [
      "Correlation coefficient: 0.95239575\n"
     ]
    }
   ],
   "source": [
    "# Correlation coefficient (out-of-sample)\n",
    "corr_test = np.corrcoef(index_test.squeeze(), tracked_index_outofsample)[0, 1]\n",
    "print('Correlation coefficient: %.8f' %corr_test)"
   ]
  },
  {
   "cell_type": "markdown",
   "metadata": {},
   "source": [
    "# Sparse Autoencoder\n",
    "\n",
    "Another way to facilitate the learning of more interesting and useful features for the autoencoder is by imposing the sparsity constraint on the output of the code layer. The idea is to switch off different connections at each timestep to learn a code representation that minimizes the reconstruction error by using a small combination of code features.\n",
    "\n",
    "We achieve this by adding a **penalty term** to the optimization objective. In TF, this can be done by adding `activity_regularizer` to the `Dense` layer to apply a penalty on layer activity during training, which is included in the loss function. For more info check this [article](https://analyticsindiamag.com/what-is-activity-regularization-in-neural-networks/)."
   ]
  },
  {
   "cell_type": "code",
   "execution_count": 72,
   "metadata": {
    "tags": []
   },
   "outputs": [],
   "source": [
    "## Autoencoder - Keras\n",
    "\n",
    "# Network hyperparameters\n",
    "n_inputs = X_train.shape[1]\n",
    "\n",
    "# Training hyperparameters\n",
    "epochs = 25\n",
    "batch_size = 1\n",
    "\n",
    "# Define model\n",
    "input = Input(shape=(n_inputs,))\n",
    "# Encoder Layers\n",
    "encoded = Dense(4, input_shape=(n_inputs,), activation='relu', activity_regularizer=tf.keras.regularizers.l1(10e-5))(input)\n",
    "decoded = Dense(n_inputs, activation='sigmoid')(encoded)\n",
    "\n",
    "# Encoder\n",
    "encoder = Model(input, encoded)\n",
    "\n",
    "# Autoencoder\n",
    "model = Model(input, decoded)"
   ]
  },
  {
   "cell_type": "code",
   "execution_count": 73,
   "metadata": {
    "collapsed": false,
    "jupyter": {
     "outputs_hidden": false
    }
   },
   "outputs": [
    {
     "name": "stdout",
     "output_type": "stream",
     "text": [
      "Model: \"model_7\"\n",
      "_________________________________________________________________\n",
      " Layer (type)                Output Shape              Param #   \n",
      "=================================================================\n",
      " input_4 (InputLayer)        [(None, 83)]              0         \n",
      "                                                                 \n",
      " dense_8 (Dense)             (None, 4)                 336       \n",
      "                                                                 \n",
      " dense_9 (Dense)             (None, 83)                415       \n",
      "                                                                 \n",
      "=================================================================\n",
      "Total params: 751\n",
      "Trainable params: 751\n",
      "Non-trainable params: 0\n",
      "_________________________________________________________________\n"
     ]
    }
   ],
   "source": [
    "# Compile autoencoder\n",
    "model.compile(loss='mse', optimizer='adam')\n",
    "model.summary()"
   ]
  },
  {
   "cell_type": "code",
   "execution_count": 74,
   "metadata": {
    "collapsed": false,
    "jupyter": {
     "outputs_hidden": false
    }
   },
   "outputs": [
    {
     "name": "stdout",
     "output_type": "stream",
     "text": [
      "Epoch 1/25\n",
      "2113/2113 [==============================] - 5s 2ms/step - loss: 0.0486\n",
      "Epoch 2/25\n",
      "2113/2113 [==============================] - 4s 2ms/step - loss: 0.0223\n",
      "Epoch 3/25\n",
      "2113/2113 [==============================] - 3s 2ms/step - loss: 0.0144\n",
      "Epoch 4/25\n",
      "2113/2113 [==============================] - 4s 2ms/step - loss: 0.0117\n",
      "Epoch 5/25\n",
      "2113/2113 [==============================] - 4s 2ms/step - loss: 0.0105\n",
      "Epoch 6/25\n",
      "2113/2113 [==============================] - 4s 2ms/step - loss: 0.0098\n",
      "Epoch 7/25\n",
      "2113/2113 [==============================] - 4s 2ms/step - loss: 0.0096\n",
      "Epoch 8/25\n",
      "2113/2113 [==============================] - 4s 2ms/step - loss: 0.0094\n",
      "Epoch 9/25\n",
      "2113/2113 [==============================] - 4s 2ms/step - loss: 0.0092\n",
      "Epoch 10/25\n",
      "2113/2113 [==============================] - 4s 2ms/step - loss: 0.0091\n",
      "Epoch 11/25\n",
      "2113/2113 [==============================] - 3s 1ms/step - loss: 0.0090\n",
      "Epoch 12/25\n",
      "2113/2113 [==============================] - 4s 2ms/step - loss: 0.0088\n",
      "Epoch 13/25\n",
      "2113/2113 [==============================] - 4s 2ms/step - loss: 0.0088\n",
      "Epoch 14/25\n",
      "2113/2113 [==============================] - 4s 2ms/step - loss: 0.0087\n",
      "Epoch 15/25\n",
      "2113/2113 [==============================] - 4s 2ms/step - loss: 0.0087\n",
      "Epoch 16/25\n",
      "2113/2113 [==============================] - 4s 2ms/step - loss: 0.0086\n",
      "Epoch 17/25\n",
      "2113/2113 [==============================] - 4s 2ms/step - loss: 0.0086\n",
      "Epoch 18/25\n",
      "2113/2113 [==============================] - 4s 2ms/step - loss: 0.0085\n",
      "Epoch 19/25\n",
      "2113/2113 [==============================] - 4s 2ms/step - loss: 0.0085\n",
      "Epoch 20/25\n",
      "2113/2113 [==============================] - 4s 2ms/step - loss: 0.0084\n",
      "Epoch 21/25\n",
      "2113/2113 [==============================] - 5s 2ms/step - loss: 0.0084\n",
      "Epoch 22/25\n",
      "2113/2113 [==============================] - 4s 2ms/step - loss: 0.0084\n",
      "Epoch 23/25\n",
      "2113/2113 [==============================] - 4s 2ms/step - loss: 0.0084\n",
      "Epoch 24/25\n",
      "2113/2113 [==============================] - 4s 2ms/step - loss: 0.0084\n",
      "Epoch 25/25\n",
      "2113/2113 [==============================] - 4s 2ms/step - loss: 0.0084\n"
     ]
    }
   ],
   "source": [
    "# Fit the model\n",
    "history = model.fit(X_train,\n",
    "                    X_train,\n",
    "                    epochs=epochs,\n",
    "                    batch_size=batch_size,\n",
    "                    shuffle=True,\n",
    "                    verbose=1\n",
    "                    )"
   ]
  },
  {
   "cell_type": "code",
   "execution_count": 75,
   "metadata": {},
   "outputs": [],
   "source": [
    "#from keras.models import model_from_json\n",
    "#\n",
    "## Save model\n",
    "## serialize model to JSON\n",
    "#model_json = model.to_json()\n",
    "#with open(\"models/sparseAE_model.json\", \"w\") as json_file:\n",
    "#    json_file.write(model_json)\n",
    "## serialize weights to HDF5\n",
    "#model.save_weights(\"models/sparseAE_model.h5\")"
   ]
  },
  {
   "cell_type": "code",
   "execution_count": 76,
   "metadata": {},
   "outputs": [],
   "source": [
    "## Load model\n",
    "## load json and create model\n",
    "#json_file = open('models/sparseAE_model.json', 'r')\n",
    "#loaded_model_json = json_file.read()\n",
    "#json_file.close()\n",
    "#model = model_from_json(loaded_model_json)\n",
    "# load weights into new model\n",
    "#model.load_weights(\"models/sparseAE_model.h5\")"
   ]
  },
  {
   "cell_type": "code",
   "execution_count": 77,
   "metadata": {
    "collapsed": false,
    "jupyter": {
     "outputs_hidden": false
    }
   },
   "outputs": [
    {
     "name": "stdout",
     "output_type": "stream",
     "text": [
      "Training MSE: 0.00818343\n",
      "Testing MSE: 0.05906497\n"
     ]
    }
   ],
   "source": [
    "# Obtain reconstruction of the stocks\n",
    "X_train_pred = model.predict(X_train)\n",
    "X_test_pred = model.predict(X_test)\n",
    "\n",
    "error = np.mean(np.abs(X_train - X_train_pred)**2, axis=0)\n",
    "print('Training MSE: %.8f' %np.mean(error))\n",
    "\n",
    "error_test = np.mean(np.abs(X_test - X_test_pred)**2, axis=0)\n",
    "print('Testing MSE: %.8f' %np.mean(error_test))"
   ]
  },
  {
   "cell_type": "code",
   "execution_count": 78,
   "metadata": {
    "tags": []
   },
   "outputs": [],
   "source": [
    "# Sort stocks by reconstruction error (increasing order)\n",
    "ind = np.argsort(error) \n",
    "sort_error = error[ind]\n",
    "sort_assets_names = assets_names[ind]"
   ]
  },
  {
   "cell_type": "code",
   "execution_count": 79,
   "metadata": {
    "collapsed": false,
    "jupyter": {
     "outputs_hidden": false
    }
   },
   "outputs": [
    {
     "data": {
      "image/png": "[encoded data removed]",
      "text/plain": [
       "<Figure size 432x288 with 1 Axes>"
      ]
     },
     "metadata": {
      "needs_background": "light"
     },
     "output_type": "display_data"
    }
   ],
   "source": [
    "# Barplotplt.figure()\n",
    "plt.barh(2*np.arange(len(error[:20])), error[ind[:20]], tick_label=assets_names[ind[:20]])\n",
    "plt.xlabel('MSE')\n",
    "plt.show()\n",
    "#plt.savefig('images/sparseAE_MSEbar.eps', bbox_inches='tight')"
   ]
  },
  {
   "cell_type": "code",
   "execution_count": 80,
   "metadata": {
    "collapsed": false,
    "jupyter": {
     "outputs_hidden": false
    }
   },
   "outputs": [
    {
     "data": {
      "image/png": "[encoded data removed]",
      "text/plain": [
       "<Figure size 432x288 with 1 Axes>"
      ]
     },
     "metadata": {
      "needs_background": "light"
     },
     "output_type": "display_data"
    }
   ],
   "source": [
    "# Plot stock\n",
    "i = 0\n",
    "plt.figure()\n",
    "plt.plot(X_train[:, ind[i]], label=assets_names[ind[i]] + ' Stock')\n",
    "plt.plot(X_train_pred[:, ind[i]], label=assets_names[ind[i]] + ' AE')\n",
    "#plt.plot(index_train, label='Nasdaq100')\n",
    "plt.legend()\n",
    "plt.xlabel('Time (days)')\n",
    "plt.ylabel('Normalized price')\n",
    "plt.show()\n",
    "#plt.savefig('images/sparseAE_' + assets_names[ind[i]] + '.eps', bbox_inches='tight')"
   ]
  },
  {
   "cell_type": "code",
   "execution_count": 81,
   "metadata": {
    "tags": []
   },
   "outputs": [],
   "source": [
    "# Identify stocks\n",
    "n = 5\n",
    "\n",
    "portfolio_train = X_train_pred[:, ind[:n]]\n",
    "portfolio_test = X_test_pred[:, ind[:n]]\n",
    "\n",
    "# Create portfolio in-sample\n",
    "tracked_index_insample = np.mean(portfolio_train, axis=1)\n",
    "\n",
    "# Create portfolio out-sample\n",
    "tracked_index_outofsample = np.mean(portfolio_test, axis=1)"
   ]
  },
  {
   "cell_type": "code",
   "execution_count": 82,
   "metadata": {
    "collapsed": false,
    "jupyter": {
     "outputs_hidden": false
    }
   },
   "outputs": [
    {
     "data": {
      "image/png": "[encoded data removed]",
      "text/plain": [
       "<Figure size 432x288 with 1 Axes>"
      ]
     },
     "metadata": {
      "needs_background": "light"
     },
     "output_type": "display_data"
    }
   ],
   "source": [
    "# In-sample\n",
    "plt.figure()\n",
    "plt.plot(index_train, label='Nasdaq100 Index')\n",
    "plt.plot(tracked_index_insample, label='Tracked Index')\n",
    "plt.legend()\n",
    "plt.xlabel('Time (days)')\n",
    "plt.ylabel('Normalized price')\n",
    "plt.show()\n",
    "#plt.savefig('images/sparseAE_insample.png', bbox_inches='tight')"
   ]
  },
  {
   "cell_type": "code",
   "execution_count": 83,
   "metadata": {
    "collapsed": false,
    "jupyter": {
     "outputs_hidden": false
    }
   },
   "outputs": [
    {
     "name": "stdout",
     "output_type": "stream",
     "text": [
      "Correlation coefficient (in-sample): 0.99060674\n"
     ]
    }
   ],
   "source": [
    "# Correlation coefficient (in-sample)\n",
    "corr_train = np.corrcoef(index_train.squeeze(), tracked_index_insample)[0, 1]\n",
    "print('Correlation coefficient (in-sample): %.8f' %corr_train)"
   ]
  },
  {
   "cell_type": "code",
   "execution_count": 84,
   "metadata": {
    "collapsed": false,
    "jupyter": {
     "outputs_hidden": false
    }
   },
   "outputs": [
    {
     "data": {
      "image/png": "[encoded data removed]",
      "text/plain": [
       "<Figure size 432x288 with 1 Axes>"
      ]
     },
     "metadata": {
      "needs_background": "light"
     },
     "output_type": "display_data"
    }
   ],
   "source": [
    "# Plot tracked index (out-of-sample)\n",
    "plt.figure()\n",
    "plt.plot(index_test, label='Nasdaq100 Index')\n",
    "plt.plot(tracked_index_outofsample, label='Tracked Index')\n",
    "plt.legend()\n",
    "plt.xlabel('Time (days)')\n",
    "plt.ylabel('Normalized price')\n",
    "plt.show()\n",
    "#plt.savefig('images/sparseAE_outofsample.png', bbox_inches='tight')"
   ]
  },
  {
   "cell_type": "code",
   "execution_count": 85,
   "metadata": {
    "collapsed": false,
    "jupyter": {
     "outputs_hidden": false
    }
   },
   "outputs": [
    {
     "name": "stdout",
     "output_type": "stream",
     "text": [
      "Correlation coefficient: 0.85087710\n"
     ]
    }
   ],
   "source": [
    "# Correlation coefficient (out-of-sample)\n",
    "corr_test = np.corrcoef(index_test.squeeze(), tracked_index_outofsample)[0, 1]\n",
    "print('Correlation coefficient: %.8f' %corr_test)"
   ]
  },
  {
   "cell_type": "code",
   "execution_count": 86,
   "metadata": {
    "collapsed": false,
    "jupyter": {
     "outputs_hidden": false
    }
   },
   "outputs": [
    {
     "name": "stdout",
     "output_type": "stream",
     "text": [
      "Mean of code values for sparse AE: 0.20349212\n"
     ]
    }
   ],
   "source": [
    "# Predict code values\n",
    "code_values = encoder.predict(X_test)\n",
    "\n",
    "# Compute mean\n",
    "mean_code = np.mean(code_values, axis=(0, 1))\n",
    "\n",
    "print('Mean of code values for sparse AE: %.8f' %mean_code)"
   ]
  },
  {
   "cell_type": "code",
   "execution_count": 87,
   "metadata": {
    "collapsed": false,
    "jupyter": {
     "outputs_hidden": false
    }
   },
   "outputs": [
    {
     "name": "stdout",
     "output_type": "stream",
     "text": [
      "Mean of code values for vanilla AE: 2.21515989\n"
     ]
    }
   ],
   "source": [
    "# Compute mean for Vanilla AE\n",
    "code_vanillaAE = np.load('models/vanillaAE_code.npy')\n",
    "mean_code_vanillaAE = np.mean(code_vanillaAE, axis=(0, 1))\n",
    "\n",
    "print('Mean of code values for vanilla AE: %.8f' %mean_code_vanillaAE)"
   ]
  },
  {
   "cell_type": "code",
   "execution_count": 88,
   "metadata": {},
   "outputs": [
    {
     "name": "stderr",
     "output_type": "stream",
     "text": [
      "C:\\Users\\ab978\\Anaconda3\\lib\\site-packages\\seaborn\\distributions.py:2619: FutureWarning: `distplot` is a deprecated function and will be removed in a future version. Please adapt your code to use either `displot` (a figure-level function with similar flexibility) or `kdeplot` (an axes-level function for kernel density plots).\n",
      "  warnings.warn(msg, FutureWarning)\n",
      "C:\\Users\\ab978\\Anaconda3\\lib\\site-packages\\seaborn\\distributions.py:2619: FutureWarning: `distplot` is a deprecated function and will be removed in a future version. Please adapt your code to use either `displot` (a figure-level function with similar flexibility) or `kdeplot` (an axes-level function for kernel density plots).\n",
      "  warnings.warn(msg, FutureWarning)\n"
     ]
    },
    {
     "data": {
      "text/plain": [
       "<matplotlib.legend.Legend at 0x1fd50dbcdc0>"
      ]
     },
     "execution_count": 88,
     "metadata": {},
     "output_type": "execute_result"
    },
    {
     "data": {
      "image/png": "[encoded data removed]",
      "text/plain": [
       "<Figure size 432x288 with 1 Axes>"
      ]
     },
     "metadata": {
      "needs_background": "light"
     },
     "output_type": "display_data"
    }
   ],
   "source": [
    "import seaborn as sns\n",
    "from scipy.stats import norm\n",
    "\n",
    "# Density Plot - Sparse AE code Vs. Vanilla AE code\n",
    "fig,ax = plt.subplots()\n",
    "sns.distplot(code_vanillaAE, hist=False,  kde=True, fit_kws={\"color\":\"green\"}, label = 'Vanilla AE',ax=ax)\n",
    "sns.distplot(code_values, hist=False,  kde=True, fit_kws={\"color\":\"red\"}, label = 'Sparse AE',ax=ax)\n",
    "ax.set_xlabel('Code values distribution')\n",
    "ax.set_ylabel('Density')\n",
    "ax.legend()\n",
    "\n",
    "#plt.savefig('images/sparseAE_code.png', bbox_inches='tight')"
   ]
  },
  {
   "cell_type": "code",
   "execution_count": null,
   "metadata": {},
   "outputs": [],
   "source": []
  }
 ],
 "metadata": {
  "kernelspec": {
   "display_name": "Python 3.7.9 64-bit",
   "language": "python",
   "name": "python3"
  },
  "language_info": {
   "codemirror_mode": {
    "name": "ipython",
    "version": 3
   },
   "file_extension": ".py",
   "mimetype": "text/x-python",
   "name": "python",
   "nbconvert_exporter": "python",
   "pygments_lexer": "ipython3",
   "version": "3.7.9"
  },
  "vscode": {
   "interpreter": {
    "hash": "60a2eb1cc2948f8ab71ca2023f5261e175d5c6419ce9c9ef47a75011b152794c"
   }
  }
 },
 "nbformat": 4,
 "nbformat_minor": 4
}
