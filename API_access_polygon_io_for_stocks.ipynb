{
 "cells": [
  {
   "cell_type": "markdown",
   "id": "d8ed63b9-d668-4e15-9306-943181f15bc8",
   "metadata": {},
   "source": [
    "# IEX Cloud\n",
    "\n",
    "https://algotrading101.com/learn/iex-api-guide/\n",
    "\n",
    "Guide for getting data"
   ]
  },
  {
   "cell_type": "code",
   "execution_count": null,
   "id": "538b4ece-3a42-48e7-9d65-7ad09e402ee5",
   "metadata": {},
   "outputs": [],
   "source": [
    "import os\n",
    "import requests\n",
    "\n",
    "base_url = 'https://workspace.iex.cloud/v1'\n",
    "API_KEY = 'sk_b1349c1a99d7473aa22b6142a112ef3c'\n",
    "token = os.environ.get(API_KEY)\n",
    "params = {'token': token}\n",
    "\n"
   ]
  },
  {
   "cell_type": "code",
   "execution_count": null,
   "id": "0a85a13e-4f9b-49d6-bd23-7f2488837d72",
   "metadata": {},
   "outputs": [],
   "source": [
    "resp = requests.get(base_url + '/status')"
   ]
  },
  {
   "cell_type": "markdown",
   "id": "1b793fb2-3391-4467-9ce4-4509f3196309",
   "metadata": {},
   "source": [
    "GET /stock/{symbol}/intraday-prices"
   ]
  },
  {
   "cell_type": "code",
   "execution_count": null,
   "id": "0cb412af-1b44-4412-b168-1d27e5e405fa",
   "metadata": {},
   "outputs": [],
   "source": [
    "# endpoint = '/data/CORE/MINUTEBAR/AAPL/??from=2022-10-22??to=2022-10-23??token={}'.format(API_KEY)\n",
    "# endpoint = '/data/CORE/MINUTEBAR/AAPL/??from=2022-10-22??to=2022-10-23??token={}'.format(API_KEY)\n",
    "endpoint = '/stock/twtr/chart/{range}/{date}'\n",
    "resp = requests.get(base_url+endpoint)"
   ]
  },
  {
   "cell_type": "code",
   "execution_count": null,
   "id": "fc63d3ac-efb3-4ddf-844c-cc7ef3813b77",
   "metadata": {},
   "outputs": [],
   "source": [
    "resp.raise_for_status()"
   ]
  },
  {
   "cell_type": "code",
   "execution_count": null,
   "id": "8ab4be43-6326-4a15-a70c-3ee7084426dc",
   "metadata": {},
   "outputs": [],
   "source": [
    "resp"
   ]
  },
  {
   "cell_type": "code",
   "execution_count": null,
   "id": "97efca34-e1e9-4527-ac18-c26e4f416263",
   "metadata": {},
   "outputs": [],
   "source": [
    "import pandas as pd\n",
    "df = pd.DataFrame(resp.json())"
   ]
  },
  {
   "cell_type": "code",
   "execution_count": null,
   "id": "e9bfb9f4-c70e-4f23-be85-a0d3f102ed04",
   "metadata": {},
   "outputs": [],
   "source": [
    "resp.json()"
   ]
  },
  {
   "cell_type": "code",
   "execution_count": null,
   "id": "4f65b545-493c-41e1-97f0-f681354fe742",
   "metadata": {},
   "outputs": [],
   "source": [
    "df.head()"
   ]
  },
  {
   "cell_type": "markdown",
   "id": "ff2740ef-f5c2-407e-862a-877f843c5509",
   "metadata": {},
   "source": [
    "# Polygon\n",
    "\n",
    "https://polygon.io/dashboard\n",
    "\n",
    "The aggregates endpoint has a max limit of 50,000. If querying 5 minute bars, it uses one minute as its base limit. This means that querying 5 minute bars with a max limit of 50k, will return 50k minutes worth of 5 minute bars. This is roughly 1-2 months. I recommend breaking up your aggregate requests into one to two month time frames."
   ]
  },
  {
   "cell_type": "code",
   "execution_count": 2,
   "id": "fb76d7bd-cc0a-465f-afa4-c79a8c6eff98",
   "metadata": {},
   "outputs": [],
   "source": [
    "import os\n",
    "import time\n",
    "import requests\n",
    "import pandas as pd\n",
    "from datetime import datetime\n",
    "from dateutil.relativedelta import relativedelta\n",
    "from tqdm import tqdm\n",
    "\n",
    "API_KEY = '6BM1yLKk1jcJLKIpEvyKVc_jyCggOKij'\n"
   ]
  },
  {
   "cell_type": "code",
   "execution_count": 3,
   "id": "d08f372a-3473-4e3c-a512-1403a2eb6422",
   "metadata": {},
   "outputs": [],
   "source": [
    "def shift_date(given_date='2020-10-25',n_months=1):\n",
    "    date_format = '%Y-%m-%d'\n",
    "    dtObj = datetime.strptime(given_date, date_format)\n",
    "    future_date = dtObj + relativedelta(months=n_months)\n",
    "    # Convert datetime object to string in required format\n",
    "    future_date_str = future_date.strftime(date_format)\n",
    "    return future_date_str\n",
    "\n",
    "def compare_dates(start,end,date_format='%Y-%m-%d'):\n",
    "    start = datetime.strptime(start, date_format)\n",
    "    end = datetime.strptime(end, date_format)\n",
    "    return start>end"
   ]
  },
  {
   "cell_type": "markdown",
   "id": "006bb0ae-d169-4c00-8c5e-bd9686703c39",
   "metadata": {},
   "source": [
    "## get symbols"
   ]
  },
  {
   "cell_type": "code",
   "execution_count": 4,
   "id": "d5d9c2fe-e8fa-4c46-b757-b2e84a003d32",
   "metadata": {},
   "outputs": [
    {
     "ename": "FileNotFoundError",
     "evalue": "[Errno 2] No such file or directory: 'data/ndxt.xlsx'",
     "output_type": "error",
     "traceback": [
      "\u001B[1;31m---------------------------------------------------------------------------\u001B[0m",
      "\u001B[1;31mFileNotFoundError\u001B[0m                         Traceback (most recent call last)",
      "Cell \u001B[1;32mIn [4], line 1\u001B[0m\n\u001B[1;32m----> 1\u001B[0m ndxt_df \u001B[38;5;241m=\u001B[39m \u001B[43mpd\u001B[49m\u001B[38;5;241;43m.\u001B[39;49m\u001B[43mread_excel\u001B[49m\u001B[43m(\u001B[49m\u001B[38;5;124;43m'\u001B[39;49m\u001B[38;5;124;43mdata/ndxt.xlsx\u001B[39;49m\u001B[38;5;124;43m'\u001B[39;49m\u001B[43m,\u001B[49m\u001B[43mindex_col\u001B[49m\u001B[38;5;241;43m=\u001B[39;49m\u001B[38;5;241;43m0\u001B[39;49m\u001B[43m)\u001B[49m\n\u001B[0;32m      2\u001B[0m ndxt_df\u001B[38;5;241m.\u001B[39mcolumns \u001B[38;5;241m=\u001B[39m [n\u001B[38;5;241m.\u001B[39msplit(\u001B[38;5;124m'\u001B[39m\u001B[38;5;124m \u001B[39m\u001B[38;5;124m'\u001B[39m)[\u001B[38;5;241m0\u001B[39m] \u001B[38;5;28;01mfor\u001B[39;00m n \u001B[38;5;129;01min\u001B[39;00m ndxt_df\u001B[38;5;241m.\u001B[39mcolumns]\n\u001B[0;32m      3\u001B[0m ndxt_df\u001B[38;5;241m.\u001B[39mindex \u001B[38;5;241m=\u001B[39m pd\u001B[38;5;241m.\u001B[39mto_datetime(ndxt_df\u001B[38;5;241m.\u001B[39mindex)\n",
      "File \u001B[1;32mc:\\users\\moneybag mike\\desktop\\fintech540-group_project\\venv\\lib\\site-packages\\pandas\\util\\_decorators.py:211\u001B[0m, in \u001B[0;36mdeprecate_kwarg.<locals>._deprecate_kwarg.<locals>.wrapper\u001B[1;34m(*args, **kwargs)\u001B[0m\n\u001B[0;32m    209\u001B[0m     \u001B[38;5;28;01melse\u001B[39;00m:\n\u001B[0;32m    210\u001B[0m         kwargs[new_arg_name] \u001B[38;5;241m=\u001B[39m new_arg_value\n\u001B[1;32m--> 211\u001B[0m \u001B[38;5;28;01mreturn\u001B[39;00m func(\u001B[38;5;241m*\u001B[39margs, \u001B[38;5;241m*\u001B[39m\u001B[38;5;241m*\u001B[39mkwargs)\n",
      "File \u001B[1;32mc:\\users\\moneybag mike\\desktop\\fintech540-group_project\\venv\\lib\\site-packages\\pandas\\util\\_decorators.py:331\u001B[0m, in \u001B[0;36mdeprecate_nonkeyword_arguments.<locals>.decorate.<locals>.wrapper\u001B[1;34m(*args, **kwargs)\u001B[0m\n\u001B[0;32m    325\u001B[0m \u001B[38;5;28;01mif\u001B[39;00m \u001B[38;5;28mlen\u001B[39m(args) \u001B[38;5;241m>\u001B[39m num_allow_args:\n\u001B[0;32m    326\u001B[0m     warnings\u001B[38;5;241m.\u001B[39mwarn(\n\u001B[0;32m    327\u001B[0m         msg\u001B[38;5;241m.\u001B[39mformat(arguments\u001B[38;5;241m=\u001B[39m_format_argument_list(allow_args)),\n\u001B[0;32m    328\u001B[0m         \u001B[38;5;167;01mFutureWarning\u001B[39;00m,\n\u001B[0;32m    329\u001B[0m         stacklevel\u001B[38;5;241m=\u001B[39mfind_stack_level(),\n\u001B[0;32m    330\u001B[0m     )\n\u001B[1;32m--> 331\u001B[0m \u001B[38;5;28;01mreturn\u001B[39;00m func(\u001B[38;5;241m*\u001B[39margs, \u001B[38;5;241m*\u001B[39m\u001B[38;5;241m*\u001B[39mkwargs)\n",
      "File \u001B[1;32mc:\\users\\moneybag mike\\desktop\\fintech540-group_project\\venv\\lib\\site-packages\\pandas\\io\\excel\\_base.py:482\u001B[0m, in \u001B[0;36mread_excel\u001B[1;34m(io, sheet_name, header, names, index_col, usecols, squeeze, dtype, engine, converters, true_values, false_values, skiprows, nrows, na_values, keep_default_na, na_filter, verbose, parse_dates, date_parser, thousands, decimal, comment, skipfooter, convert_float, mangle_dupe_cols, storage_options)\u001B[0m\n\u001B[0;32m    480\u001B[0m \u001B[38;5;28;01mif\u001B[39;00m \u001B[38;5;129;01mnot\u001B[39;00m \u001B[38;5;28misinstance\u001B[39m(io, ExcelFile):\n\u001B[0;32m    481\u001B[0m     should_close \u001B[38;5;241m=\u001B[39m \u001B[38;5;28;01mTrue\u001B[39;00m\n\u001B[1;32m--> 482\u001B[0m     io \u001B[38;5;241m=\u001B[39m \u001B[43mExcelFile\u001B[49m\u001B[43m(\u001B[49m\u001B[43mio\u001B[49m\u001B[43m,\u001B[49m\u001B[43m \u001B[49m\u001B[43mstorage_options\u001B[49m\u001B[38;5;241;43m=\u001B[39;49m\u001B[43mstorage_options\u001B[49m\u001B[43m,\u001B[49m\u001B[43m \u001B[49m\u001B[43mengine\u001B[49m\u001B[38;5;241;43m=\u001B[39;49m\u001B[43mengine\u001B[49m\u001B[43m)\u001B[49m\n\u001B[0;32m    483\u001B[0m \u001B[38;5;28;01melif\u001B[39;00m engine \u001B[38;5;129;01mand\u001B[39;00m engine \u001B[38;5;241m!=\u001B[39m io\u001B[38;5;241m.\u001B[39mengine:\n\u001B[0;32m    484\u001B[0m     \u001B[38;5;28;01mraise\u001B[39;00m \u001B[38;5;167;01mValueError\u001B[39;00m(\n\u001B[0;32m    485\u001B[0m         \u001B[38;5;124m\"\u001B[39m\u001B[38;5;124mEngine should not be specified when passing \u001B[39m\u001B[38;5;124m\"\u001B[39m\n\u001B[0;32m    486\u001B[0m         \u001B[38;5;124m\"\u001B[39m\u001B[38;5;124man ExcelFile - ExcelFile already has the engine set\u001B[39m\u001B[38;5;124m\"\u001B[39m\n\u001B[0;32m    487\u001B[0m     )\n",
      "File \u001B[1;32mc:\\users\\moneybag mike\\desktop\\fintech540-group_project\\venv\\lib\\site-packages\\pandas\\io\\excel\\_base.py:1652\u001B[0m, in \u001B[0;36mExcelFile.__init__\u001B[1;34m(self, path_or_buffer, engine, storage_options)\u001B[0m\n\u001B[0;32m   1650\u001B[0m     ext \u001B[38;5;241m=\u001B[39m \u001B[38;5;124m\"\u001B[39m\u001B[38;5;124mxls\u001B[39m\u001B[38;5;124m\"\u001B[39m\n\u001B[0;32m   1651\u001B[0m \u001B[38;5;28;01melse\u001B[39;00m:\n\u001B[1;32m-> 1652\u001B[0m     ext \u001B[38;5;241m=\u001B[39m \u001B[43minspect_excel_format\u001B[49m\u001B[43m(\u001B[49m\n\u001B[0;32m   1653\u001B[0m \u001B[43m        \u001B[49m\u001B[43mcontent_or_path\u001B[49m\u001B[38;5;241;43m=\u001B[39;49m\u001B[43mpath_or_buffer\u001B[49m\u001B[43m,\u001B[49m\u001B[43m \u001B[49m\u001B[43mstorage_options\u001B[49m\u001B[38;5;241;43m=\u001B[39;49m\u001B[43mstorage_options\u001B[49m\n\u001B[0;32m   1654\u001B[0m \u001B[43m    \u001B[49m\u001B[43m)\u001B[49m\n\u001B[0;32m   1655\u001B[0m     \u001B[38;5;28;01mif\u001B[39;00m ext \u001B[38;5;129;01mis\u001B[39;00m \u001B[38;5;28;01mNone\u001B[39;00m:\n\u001B[0;32m   1656\u001B[0m         \u001B[38;5;28;01mraise\u001B[39;00m \u001B[38;5;167;01mValueError\u001B[39;00m(\n\u001B[0;32m   1657\u001B[0m             \u001B[38;5;124m\"\u001B[39m\u001B[38;5;124mExcel file format cannot be determined, you must specify \u001B[39m\u001B[38;5;124m\"\u001B[39m\n\u001B[0;32m   1658\u001B[0m             \u001B[38;5;124m\"\u001B[39m\u001B[38;5;124man engine manually.\u001B[39m\u001B[38;5;124m\"\u001B[39m\n\u001B[0;32m   1659\u001B[0m         )\n",
      "File \u001B[1;32mc:\\users\\moneybag mike\\desktop\\fintech540-group_project\\venv\\lib\\site-packages\\pandas\\io\\excel\\_base.py:1525\u001B[0m, in \u001B[0;36minspect_excel_format\u001B[1;34m(content_or_path, storage_options)\u001B[0m\n\u001B[0;32m   1522\u001B[0m \u001B[38;5;28;01mif\u001B[39;00m \u001B[38;5;28misinstance\u001B[39m(content_or_path, \u001B[38;5;28mbytes\u001B[39m):\n\u001B[0;32m   1523\u001B[0m     content_or_path \u001B[38;5;241m=\u001B[39m BytesIO(content_or_path)\n\u001B[1;32m-> 1525\u001B[0m \u001B[38;5;28;01mwith\u001B[39;00m \u001B[43mget_handle\u001B[49m\u001B[43m(\u001B[49m\n\u001B[0;32m   1526\u001B[0m \u001B[43m    \u001B[49m\u001B[43mcontent_or_path\u001B[49m\u001B[43m,\u001B[49m\u001B[43m \u001B[49m\u001B[38;5;124;43m\"\u001B[39;49m\u001B[38;5;124;43mrb\u001B[39;49m\u001B[38;5;124;43m\"\u001B[39;49m\u001B[43m,\u001B[49m\u001B[43m \u001B[49m\u001B[43mstorage_options\u001B[49m\u001B[38;5;241;43m=\u001B[39;49m\u001B[43mstorage_options\u001B[49m\u001B[43m,\u001B[49m\u001B[43m \u001B[49m\u001B[43mis_text\u001B[49m\u001B[38;5;241;43m=\u001B[39;49m\u001B[38;5;28;43;01mFalse\u001B[39;49;00m\n\u001B[0;32m   1527\u001B[0m \u001B[43m\u001B[49m\u001B[43m)\u001B[49m \u001B[38;5;28;01mas\u001B[39;00m handle:\n\u001B[0;32m   1528\u001B[0m     stream \u001B[38;5;241m=\u001B[39m handle\u001B[38;5;241m.\u001B[39mhandle\n\u001B[0;32m   1529\u001B[0m     stream\u001B[38;5;241m.\u001B[39mseek(\u001B[38;5;241m0\u001B[39m)\n",
      "File \u001B[1;32mc:\\users\\moneybag mike\\desktop\\fintech540-group_project\\venv\\lib\\site-packages\\pandas\\io\\common.py:865\u001B[0m, in \u001B[0;36mget_handle\u001B[1;34m(path_or_buf, mode, encoding, compression, memory_map, is_text, errors, storage_options)\u001B[0m\n\u001B[0;32m    856\u001B[0m         handle \u001B[38;5;241m=\u001B[39m \u001B[38;5;28mopen\u001B[39m(\n\u001B[0;32m    857\u001B[0m             handle,\n\u001B[0;32m    858\u001B[0m             ioargs\u001B[38;5;241m.\u001B[39mmode,\n\u001B[1;32m   (...)\u001B[0m\n\u001B[0;32m    861\u001B[0m             newline\u001B[38;5;241m=\u001B[39m\u001B[38;5;124m\"\u001B[39m\u001B[38;5;124m\"\u001B[39m,\n\u001B[0;32m    862\u001B[0m         )\n\u001B[0;32m    863\u001B[0m     \u001B[38;5;28;01melse\u001B[39;00m:\n\u001B[0;32m    864\u001B[0m         \u001B[38;5;66;03m# Binary mode\u001B[39;00m\n\u001B[1;32m--> 865\u001B[0m         handle \u001B[38;5;241m=\u001B[39m \u001B[38;5;28;43mopen\u001B[39;49m\u001B[43m(\u001B[49m\u001B[43mhandle\u001B[49m\u001B[43m,\u001B[49m\u001B[43m \u001B[49m\u001B[43mioargs\u001B[49m\u001B[38;5;241;43m.\u001B[39;49m\u001B[43mmode\u001B[49m\u001B[43m)\u001B[49m\n\u001B[0;32m    866\u001B[0m     handles\u001B[38;5;241m.\u001B[39mappend(handle)\n\u001B[0;32m    868\u001B[0m \u001B[38;5;66;03m# Convert BytesIO or file objects passed with an encoding\u001B[39;00m\n",
      "\u001B[1;31mFileNotFoundError\u001B[0m: [Errno 2] No such file or directory: 'data/ndxt.xlsx'"
     ]
    }
   ],
   "source": [
    "ndxt_df = pd.read_excel('data/ndxt.xlsx',index_col=0)\n",
    "ndxt_df.columns = [n.split(' ')[0] for n in ndxt_df.columns]\n",
    "ndxt_df.index = pd.to_datetime(ndxt_df.index)"
   ]
  },
  {
   "cell_type": "code",
   "execution_count": 4,
   "id": "517d5c11-3c76-44d8-ba80-bf9294e19bb0",
   "metadata": {},
   "outputs": [],
   "source": [
    "symbols = ndxt_df.loc['2020-10-20':].dropna(axis=1).columns.to_list()"
   ]
  },
  {
   "cell_type": "markdown",
   "id": "3dc3cdc2-91ca-4f2f-9ac5-bacce69c0b2d",
   "metadata": {},
   "source": [
    "# check symbols"
   ]
  },
  {
   "cell_type": "code",
   "execution_count": null,
   "id": "977e5c75-3bb5-4d84-97d3-a61cbe228ce4",
   "metadata": {
    "tags": []
   },
   "outputs": [],
   "source": [
    "for s in symbols:\n",
    "    r = requests.get('https://api.polygon.io/v3/reference/tickers?ticker={}&active=true&sort=ticker&order=asc&limit=10&apiKey=sj7HkePTuhQrvnm35uWmgmOUNVOcwtnn'.format(s))\n",
    "    print(s)\n",
    "    print(resp)"
   ]
  },
  {
   "cell_type": "code",
   "execution_count": 11,
   "id": "ab890b62-bd17-43a5-a0f0-27ab0c45cf3f",
   "metadata": {},
   "outputs": [
    {
     "data": {
      "text/plain": [
       "['FTNT',\n",
       " 'GOOG',\n",
       " 'GOOGL',\n",
       " 'INTC',\n",
       " 'INTU',\n",
       " 'KLAC',\n",
       " 'LRCX',\n",
       " 'MCHP',\n",
       " 'MRVL',\n",
       " 'MSFT',\n",
       " 'MTCH',\n",
       " 'MU',\n",
       " 'NVDA',\n",
       " 'NXPI',\n",
       " 'OKTA',\n",
       " 'QCOM',\n",
       " 'SNPS',\n",
       " 'SPLK',\n",
       " 'SWKS',\n",
       " 'TEAM',\n",
       " 'TXN',\n",
       " 'VRSN',\n",
       " 'WDAY',\n",
       " 'ZM',\n",
       " 'ZS']"
      ]
     },
     "execution_count": 11,
     "metadata": {},
     "output_type": "execute_result"
    }
   ],
   "source": [
    "symbols[16:]"
   ]
  },
  {
   "cell_type": "markdown",
   "id": "06716532-6502-4dbc-a5b6-f9a119371e5b",
   "metadata": {},
   "source": [
    "# get data"
   ]
  },
  {
   "cell_type": "code",
   "execution_count": 12,
   "id": "4d75f855-5526-4ea7-9d32-543dea1c6742",
   "metadata": {
    "tags": []
   },
   "outputs": [
    {
     "name": "stderr",
     "output_type": "stream",
     "text": [
      "  0%|                                                                                           | 0/25 [00:00<?, ?it/s]"
     ]
    },
    {
     "name": "stdout",
     "output_type": "stream",
     "text": [
      "FTNT\n",
      "FTNT\n",
      "FTNT\n",
      "FTNT\n",
      "FTNT\n",
      "FTNT\n",
      "FTNT\n",
      "FTNT\n",
      "FTNT\n",
      "FTNT\n",
      "FTNT\n",
      "FTNT\n",
      "FTNT\n",
      "FTNT\n",
      "FTNT\n",
      "FTNT\n",
      "FTNT\n",
      "FTNT\n",
      "FTNT\n",
      "FTNT\n",
      "FTNT\n",
      "FTNT\n",
      "FTNT\n",
      "FTNT\n"
     ]
    },
    {
     "name": "stderr",
     "output_type": "stream",
     "text": [
      "  4%|███▏                                                                            | 1/25 [10:37<4:15:07, 637.80s/it]"
     ]
    },
    {
     "name": "stdout",
     "output_type": "stream",
     "text": [
      "GOOG\n",
      "GOOG\n",
      "GOOG\n",
      "GOOG\n",
      "GOOG\n",
      "GOOG\n",
      "GOOG\n",
      "GOOG\n",
      "GOOG\n",
      "GOOG\n",
      "GOOG\n",
      "GOOG\n",
      "GOOG\n",
      "GOOG\n",
      "GOOG\n",
      "GOOG\n",
      "GOOG\n",
      "GOOG\n",
      "GOOG\n",
      "GOOG\n",
      "GOOG\n",
      "GOOG\n",
      "GOOG\n",
      "GOOG\n"
     ]
    },
    {
     "name": "stderr",
     "output_type": "stream",
     "text": [
      "  8%|██████▍                                                                         | 2/25 [21:19<4:05:18, 639.95s/it]"
     ]
    },
    {
     "name": "stdout",
     "output_type": "stream",
     "text": [
      "GOOGL\n",
      "GOOGL\n",
      "GOOGL\n",
      "GOOGL\n",
      "GOOGL\n",
      "GOOGL\n",
      "GOOGL\n",
      "GOOGL\n",
      "GOOGL\n",
      "GOOGL\n",
      "GOOGL\n",
      "GOOGL\n",
      "GOOGL\n",
      "GOOGL\n",
      "GOOGL\n",
      "GOOGL\n",
      "GOOGL\n",
      "GOOGL\n",
      "GOOGL\n",
      "GOOGL\n",
      "GOOGL\n",
      "GOOGL\n",
      "GOOGL\n",
      "GOOGL\n"
     ]
    },
    {
     "name": "stderr",
     "output_type": "stream",
     "text": [
      " 12%|█████████▌                                                                      | 3/25 [31:59<3:54:39, 639.97s/it]"
     ]
    },
    {
     "name": "stdout",
     "output_type": "stream",
     "text": [
      "INTC\n",
      "INTC\n",
      "INTC\n",
      "INTC\n",
      "INTC\n",
      "INTC\n",
      "INTC\n",
      "INTC\n",
      "INTC\n",
      "INTC\n",
      "INTC\n",
      "INTC\n",
      "INTC\n",
      "INTC\n",
      "INTC\n",
      "INTC\n",
      "INTC\n",
      "INTC\n",
      "INTC\n",
      "INTC\n",
      "INTC\n",
      "INTC\n",
      "INTC\n",
      "INTC\n"
     ]
    },
    {
     "name": "stderr",
     "output_type": "stream",
     "text": [
      " 16%|████████████▊                                                                   | 4/25 [42:43<3:44:38, 641.84s/it]"
     ]
    },
    {
     "name": "stdout",
     "output_type": "stream",
     "text": [
      "INTU\n",
      "INTU\n",
      "INTU\n",
      "INTU\n",
      "INTU\n",
      "INTU\n",
      "INTU\n",
      "INTU\n",
      "INTU\n",
      "INTU\n",
      "INTU\n",
      "INTU\n",
      "INTU\n",
      "INTU\n",
      "INTU\n",
      "INTU\n",
      "INTU\n",
      "INTU\n",
      "INTU\n",
      "INTU\n",
      "INTU\n",
      "INTU\n",
      "INTU\n",
      "INTU\n"
     ]
    },
    {
     "name": "stderr",
     "output_type": "stream",
     "text": [
      " 20%|████████████████                                                                | 5/25 [53:20<3:33:20, 640.02s/it]"
     ]
    },
    {
     "name": "stdout",
     "output_type": "stream",
     "text": [
      "KLAC\n",
      "KLAC\n",
      "KLAC\n",
      "KLAC\n",
      "KLAC\n",
      "KLAC\n",
      "KLAC\n",
      "KLAC\n",
      "KLAC\n",
      "KLAC\n",
      "KLAC\n",
      "KLAC\n",
      "KLAC\n",
      "KLAC\n",
      "KLAC\n",
      "KLAC\n",
      "KLAC\n",
      "KLAC\n",
      "KLAC\n",
      "KLAC\n",
      "KLAC\n",
      "KLAC\n",
      "KLAC\n",
      "KLAC\n"
     ]
    },
    {
     "name": "stderr",
     "output_type": "stream",
     "text": [
      " 24%|██████████████████▋                                                           | 6/25 [1:03:59<3:22:29, 639.46s/it]"
     ]
    },
    {
     "name": "stdout",
     "output_type": "stream",
     "text": [
      "LRCX\n",
      "LRCX\n",
      "LRCX\n",
      "LRCX\n",
      "LRCX\n",
      "LRCX\n",
      "LRCX\n",
      "LRCX\n",
      "LRCX\n",
      "LRCX\n",
      "LRCX\n",
      "LRCX\n",
      "LRCX\n",
      "LRCX\n",
      "LRCX\n",
      "LRCX\n",
      "LRCX\n",
      "LRCX\n",
      "LRCX\n",
      "LRCX\n",
      "LRCX\n",
      "LRCX\n",
      "LRCX\n",
      "LRCX\n"
     ]
    },
    {
     "name": "stderr",
     "output_type": "stream",
     "text": [
      " 28%|█████████████████████▊                                                        | 7/25 [1:14:40<3:12:01, 640.10s/it]"
     ]
    },
    {
     "name": "stdout",
     "output_type": "stream",
     "text": [
      "MCHP\n",
      "MCHP\n",
      "MCHP\n",
      "MCHP\n",
      "MCHP\n",
      "MCHP\n",
      "MCHP\n",
      "MCHP\n",
      "MCHP\n",
      "MCHP\n",
      "MCHP\n",
      "MCHP\n",
      "MCHP\n",
      "MCHP\n",
      "MCHP\n",
      "MCHP\n",
      "MCHP\n",
      "MCHP\n",
      "MCHP\n",
      "MCHP\n",
      "MCHP\n",
      "MCHP\n",
      "MCHP\n",
      "MCHP\n"
     ]
    },
    {
     "name": "stderr",
     "output_type": "stream",
     "text": [
      " 32%|████████████████████████▉                                                     | 8/25 [1:25:18<3:01:08, 639.32s/it]"
     ]
    },
    {
     "name": "stdout",
     "output_type": "stream",
     "text": [
      "MRVL\n",
      "MRVL\n",
      "MRVL\n",
      "MRVL\n",
      "MRVL\n",
      "MRVL\n",
      "MRVL\n",
      "MRVL\n",
      "MRVL\n",
      "MRVL\n",
      "MRVL\n",
      "MRVL\n",
      "MRVL\n",
      "MRVL\n",
      "MRVL\n",
      "MRVL\n",
      "MRVL\n",
      "MRVL\n",
      "MRVL\n",
      "MRVL\n",
      "MRVL\n",
      "MRVL\n",
      "MRVL\n",
      "MRVL\n"
     ]
    },
    {
     "name": "stderr",
     "output_type": "stream",
     "text": [
      " 36%|████████████████████████████                                                  | 9/25 [1:35:59<2:50:41, 640.08s/it]"
     ]
    },
    {
     "name": "stdout",
     "output_type": "stream",
     "text": [
      "MSFT\n",
      "MSFT\n",
      "MSFT\n",
      "MSFT\n",
      "MSFT\n",
      "MSFT\n",
      "MSFT\n",
      "MSFT\n",
      "MSFT\n",
      "MSFT\n",
      "MSFT\n",
      "MSFT\n",
      "MSFT\n",
      "MSFT\n",
      "MSFT\n",
      "MSFT\n",
      "MSFT\n",
      "MSFT\n",
      "MSFT\n",
      "MSFT\n",
      "MSFT\n",
      "MSFT\n",
      "MSFT\n",
      "MSFT\n"
     ]
    },
    {
     "name": "stderr",
     "output_type": "stream",
     "text": [
      " 40%|██████████████████████████████▊                                              | 10/25 [1:46:46<2:40:29, 641.94s/it]"
     ]
    },
    {
     "name": "stdout",
     "output_type": "stream",
     "text": [
      "MTCH\n",
      "MTCH\n",
      "MTCH\n",
      "MTCH\n",
      "MTCH\n",
      "MTCH\n",
      "MTCH\n",
      "MTCH\n",
      "MTCH\n",
      "MTCH\n",
      "MTCH\n",
      "MTCH\n",
      "MTCH\n",
      "MTCH\n",
      "MTCH\n",
      "MTCH\n",
      "MTCH\n",
      "MTCH\n",
      "MTCH\n",
      "MTCH\n",
      "MTCH\n",
      "MTCH\n",
      "MTCH\n",
      "MTCH\n"
     ]
    },
    {
     "name": "stderr",
     "output_type": "stream",
     "text": [
      " 44%|█████████████████████████████████▉                                           | 11/25 [1:57:23<2:29:27, 640.51s/it]"
     ]
    },
    {
     "name": "stdout",
     "output_type": "stream",
     "text": [
      "MU\n",
      "MU\n",
      "MU\n",
      "MU\n",
      "MU\n",
      "MU\n",
      "MU\n",
      "MU\n",
      "MU\n",
      "MU\n",
      "MU\n",
      "MU\n",
      "MU\n",
      "MU\n",
      "MU\n",
      "MU\n",
      "MU\n",
      "MU\n",
      "MU\n",
      "MU\n",
      "MU\n",
      "MU\n",
      "MU\n",
      "MU\n"
     ]
    },
    {
     "name": "stderr",
     "output_type": "stream",
     "text": [
      " 48%|████████████████████████████████████▉                                        | 12/25 [2:08:06<2:18:55, 641.23s/it]"
     ]
    },
    {
     "name": "stdout",
     "output_type": "stream",
     "text": [
      "NVDA\n",
      "NVDA\n",
      "NVDA\n",
      "NVDA\n",
      "NVDA\n",
      "NVDA\n",
      "NVDA\n",
      "NVDA\n",
      "NVDA\n",
      "NVDA\n",
      "NVDA\n",
      "NVDA\n",
      "NVDA\n",
      "NVDA\n",
      "NVDA\n",
      "NVDA\n",
      "NVDA\n",
      "NVDA\n",
      "NVDA\n",
      "NVDA\n",
      "NVDA\n",
      "NVDA\n",
      "NVDA\n",
      "NVDA\n"
     ]
    },
    {
     "name": "stderr",
     "output_type": "stream",
     "text": [
      " 52%|████████████████████████████████████████                                     | 13/25 [2:18:53<2:08:36, 643.05s/it]"
     ]
    },
    {
     "name": "stdout",
     "output_type": "stream",
     "text": [
      "NXPI\n",
      "NXPI\n",
      "NXPI\n",
      "NXPI\n",
      "NXPI\n",
      "NXPI\n",
      "NXPI\n",
      "NXPI\n",
      "NXPI\n",
      "NXPI\n",
      "NXPI\n",
      "NXPI\n",
      "NXPI\n",
      "NXPI\n",
      "NXPI\n",
      "NXPI\n",
      "NXPI\n",
      "NXPI\n",
      "NXPI\n",
      "NXPI\n",
      "NXPI\n",
      "NXPI\n",
      "NXPI\n",
      "NXPI\n"
     ]
    },
    {
     "name": "stderr",
     "output_type": "stream",
     "text": [
      " 56%|███████████████████████████████████████████                                  | 14/25 [2:29:31<1:57:36, 641.54s/it]"
     ]
    },
    {
     "name": "stdout",
     "output_type": "stream",
     "text": [
      "OKTA\n",
      "OKTA\n",
      "OKTA\n",
      "OKTA\n",
      "OKTA\n",
      "OKTA\n",
      "OKTA\n",
      "OKTA\n",
      "OKTA\n",
      "OKTA\n",
      "OKTA\n",
      "OKTA\n",
      "OKTA\n",
      "OKTA\n",
      "OKTA\n",
      "OKTA\n",
      "OKTA\n",
      "OKTA\n",
      "OKTA\n",
      "OKTA\n",
      "OKTA\n",
      "OKTA\n",
      "OKTA\n",
      "OKTA\n"
     ]
    },
    {
     "name": "stderr",
     "output_type": "stream",
     "text": [
      " 60%|██████████████████████████████████████████████▏                              | 15/25 [2:40:10<1:46:46, 640.65s/it]"
     ]
    },
    {
     "name": "stdout",
     "output_type": "stream",
     "text": [
      "QCOM\n",
      "QCOM\n",
      "QCOM\n",
      "QCOM\n",
      "QCOM\n",
      "QCOM\n",
      "QCOM\n",
      "QCOM\n",
      "QCOM\n",
      "QCOM\n",
      "QCOM\n",
      "QCOM\n",
      "QCOM\n",
      "QCOM\n",
      "QCOM\n",
      "QCOM\n",
      "QCOM\n",
      "QCOM\n",
      "QCOM\n",
      "QCOM\n",
      "QCOM\n",
      "QCOM\n",
      "QCOM\n",
      "QCOM\n"
     ]
    },
    {
     "name": "stderr",
     "output_type": "stream",
     "text": [
      " 64%|█████████████████████████████████████████████████▎                           | 16/25 [2:50:50<1:36:03, 640.44s/it]"
     ]
    },
    {
     "name": "stdout",
     "output_type": "stream",
     "text": [
      "SNPS\n",
      "SNPS\n",
      "SNPS\n",
      "SNPS\n",
      "SNPS\n",
      "SNPS\n",
      "SNPS\n",
      "SNPS\n",
      "SNPS\n",
      "SNPS\n",
      "SNPS\n",
      "SNPS\n",
      "SNPS\n",
      "SNPS\n",
      "SNPS\n",
      "SNPS\n",
      "SNPS\n",
      "SNPS\n",
      "SNPS\n",
      "SNPS\n",
      "SNPS\n",
      "SNPS\n",
      "SNPS\n",
      "SNPS\n"
     ]
    },
    {
     "name": "stderr",
     "output_type": "stream",
     "text": [
      " 68%|████████████████████████████████████████████████████▎                        | 17/25 [3:01:27<1:25:15, 639.45s/it]"
     ]
    },
    {
     "name": "stdout",
     "output_type": "stream",
     "text": [
      "SPLK\n",
      "SPLK\n",
      "SPLK\n",
      "SPLK\n",
      "SPLK\n",
      "SPLK\n",
      "SPLK\n",
      "SPLK\n",
      "SPLK\n",
      "SPLK\n",
      "SPLK\n",
      "SPLK\n",
      "SPLK\n",
      "SPLK\n",
      "SPLK\n",
      "SPLK\n",
      "SPLK\n",
      "SPLK\n",
      "SPLK\n",
      "SPLK\n",
      "SPLK\n",
      "SPLK\n",
      "SPLK\n",
      "SPLK\n"
     ]
    },
    {
     "name": "stderr",
     "output_type": "stream",
     "text": [
      " 72%|███████████████████████████████████████████████████████▍                     | 18/25 [3:12:05<1:14:33, 639.07s/it]"
     ]
    },
    {
     "name": "stdout",
     "output_type": "stream",
     "text": [
      "SWKS\n",
      "SWKS\n",
      "SWKS\n",
      "SWKS\n",
      "SWKS\n",
      "SWKS\n",
      "SWKS\n",
      "SWKS\n",
      "SWKS\n",
      "SWKS\n",
      "SWKS\n",
      "SWKS\n",
      "SWKS\n",
      "SWKS\n",
      "SWKS\n",
      "SWKS\n",
      "SWKS\n",
      "SWKS\n",
      "SWKS\n",
      "SWKS\n",
      "SWKS\n",
      "SWKS\n",
      "SWKS\n",
      "SWKS\n"
     ]
    },
    {
     "name": "stderr",
     "output_type": "stream",
     "text": [
      " 76%|██████████████████████████████████████████████████████████▌                  | 19/25 [3:22:46<1:03:57, 639.56s/it]"
     ]
    },
    {
     "name": "stdout",
     "output_type": "stream",
     "text": [
      "TEAM\n",
      "TEAM\n",
      "TEAM\n",
      "TEAM\n",
      "TEAM\n",
      "TEAM\n",
      "TEAM\n",
      "TEAM\n",
      "TEAM\n",
      "TEAM\n",
      "TEAM\n",
      "TEAM\n",
      "TEAM\n",
      "TEAM\n",
      "TEAM\n",
      "TEAM\n",
      "TEAM\n",
      "TEAM\n",
      "TEAM\n",
      "TEAM\n",
      "TEAM\n",
      "TEAM\n",
      "TEAM\n",
      "TEAM\n"
     ]
    },
    {
     "name": "stderr",
     "output_type": "stream",
     "text": [
      " 80%|███████████████████████████████████████████████████████████████▏               | 20/25 [3:33:25<53:16, 639.37s/it]"
     ]
    },
    {
     "name": "stdout",
     "output_type": "stream",
     "text": [
      "TXN\n",
      "TXN\n",
      "TXN\n",
      "TXN\n",
      "TXN\n",
      "TXN\n",
      "TXN\n",
      "TXN\n",
      "TXN\n",
      "TXN\n",
      "TXN\n",
      "TXN\n",
      "TXN\n",
      "TXN\n",
      "TXN\n",
      "TXN\n",
      "TXN\n",
      "TXN\n",
      "TXN\n",
      "TXN\n",
      "TXN\n",
      "TXN\n",
      "TXN\n",
      "TXN\n"
     ]
    },
    {
     "name": "stderr",
     "output_type": "stream",
     "text": [
      " 84%|██████████████████████████████████████████████████████████████████▎            | 21/25 [3:44:02<42:35, 638.86s/it]"
     ]
    },
    {
     "name": "stdout",
     "output_type": "stream",
     "text": [
      "VRSN\n",
      "VRSN\n",
      "VRSN\n",
      "VRSN\n",
      "VRSN\n",
      "VRSN\n",
      "VRSN\n",
      "VRSN\n",
      "VRSN\n",
      "VRSN\n",
      "VRSN\n",
      "VRSN\n",
      "VRSN\n",
      "VRSN\n",
      "VRSN\n",
      "VRSN\n",
      "VRSN\n",
      "VRSN\n",
      "VRSN\n",
      "VRSN\n",
      "VRSN\n",
      "VRSN\n",
      "VRSN\n",
      "VRSN\n"
     ]
    },
    {
     "name": "stderr",
     "output_type": "stream",
     "text": [
      " 88%|█████████████████████████████████████████████████████████████████████▌         | 22/25 [3:54:40<31:55, 638.46s/it]"
     ]
    },
    {
     "name": "stdout",
     "output_type": "stream",
     "text": [
      "WDAY\n",
      "WDAY\n",
      "WDAY\n",
      "WDAY\n",
      "WDAY\n",
      "WDAY\n",
      "WDAY\n",
      "WDAY\n",
      "WDAY\n",
      "WDAY\n",
      "WDAY\n",
      "WDAY\n",
      "WDAY\n",
      "WDAY\n",
      "WDAY\n",
      "WDAY\n",
      "WDAY\n",
      "WDAY\n",
      "WDAY\n",
      "WDAY\n",
      "WDAY\n",
      "WDAY\n",
      "WDAY\n",
      "WDAY\n"
     ]
    },
    {
     "name": "stderr",
     "output_type": "stream",
     "text": [
      " 92%|████████████████████████████████████████████████████████████████████████▋      | 23/25 [4:05:18<21:16, 638.37s/it]"
     ]
    },
    {
     "name": "stdout",
     "output_type": "stream",
     "text": [
      "ZM\n",
      "ZM\n",
      "ZM\n",
      "ZM\n",
      "ZM\n",
      "ZM\n",
      "ZM\n",
      "ZM\n",
      "ZM\n",
      "ZM\n",
      "ZM\n",
      "ZM\n",
      "ZM\n",
      "ZM\n",
      "ZM\n",
      "ZM\n",
      "ZM\n",
      "ZM\n",
      "ZM\n",
      "ZM\n",
      "ZM\n",
      "ZM\n",
      "ZM\n",
      "ZM\n"
     ]
    },
    {
     "name": "stderr",
     "output_type": "stream",
     "text": [
      " 96%|███████████████████████████████████████████████████████████████████████████▊   | 24/25 [4:15:59<10:39, 639.33s/it]"
     ]
    },
    {
     "name": "stdout",
     "output_type": "stream",
     "text": [
      "ZS\n",
      "ZS\n",
      "ZS\n",
      "ZS\n",
      "ZS\n",
      "ZS\n",
      "ZS\n",
      "ZS\n",
      "ZS\n",
      "ZS\n",
      "ZS\n",
      "ZS\n",
      "ZS\n",
      "ZS\n",
      "ZS\n",
      "ZS\n",
      "ZS\n",
      "ZS\n",
      "ZS\n",
      "ZS\n",
      "ZS\n",
      "ZS\n",
      "ZS\n",
      "ZS\n"
     ]
    },
    {
     "name": "stderr",
     "output_type": "stream",
     "text": [
      "100%|███████████████████████████████████████████████████████████████████████████████| 25/25 [4:26:43<00:00, 640.12s/it]\n"
     ]
    }
   ],
   "source": [
    "full_df_to_concat = []\n",
    "for symbol in tqdm(symbols[16:]):\n",
    "    df_to_concat = []\n",
    "    start, end = '2020-10-25', '2022-10-19'\n",
    "    print(symbol)\n",
    "    while not compare_dates(start,end):\n",
    "        startstep = shift_date(start,n_months=1)\n",
    "        # print(start,startstep)\n",
    "        URL = 'https://api.polygon.io/v2/aggs/ticker/{}/range/5/minute/{}/{}?adjusted=true&sort=asc&limit=50000&apiKey={}'.format(symbol,\n",
    "                                                                                                                                start,\n",
    "                                                                                                                                startstep,\n",
    "                                                                                                                                API_KEY)\n",
    "\n",
    "        resp = requests.get(URL)\n",
    "\n",
    "        # decode data into pandas dataframe\n",
    "        df = pd.DataFrame(resp.json()['results'])\n",
    "        df.columns = ['volume','vwap','open','close','high','low','timestamp','transactions']\n",
    "        df['ticker'] = resp.json()['ticker']\n",
    "        df['timestamp'] = pd.to_datetime(df['timestamp'],unit='ms')\n",
    "        df_to_concat.append(df)\n",
    "        start = startstep\n",
    "        time.sleep(25)\n",
    "\n",
    "    cdf = pd.concat(df_to_concat) \n",
    "    cdf.to_csv('data/hf_polygon/5min_unstructured/{}.csv'.format(symbol))\n",
    "    full_df_to_concat.append(cdf)\n",
    "    \n",
    "panel = pd.concat(full_df_to_concat)\n",
    "# then save\n",
    "panel.to_parquet('data/hf_polygon/panels/5min_polygon_ndtx.parquet.gzip',compression='gzip')"
   ]
  },
  {
   "cell_type": "code",
   "execution_count": null,
   "id": "dee71980-9bf7-4be6-8706-d3928fddcd59",
   "metadata": {},
   "outputs": [],
   "source": [
    "resp.raise_for_status()"
   ]
  },
  {
   "cell_type": "code",
   "execution_count": null,
   "id": "313e5a3f-2845-4c18-8d59-82671fa1f5e3",
   "metadata": {},
   "outputs": [],
   "source": [
    "cdf"
   ]
  },
  {
   "cell_type": "code",
   "execution_count": null,
   "id": "ed2ad74e-ae73-4494-a5ad-683fa2ca4641",
   "metadata": {},
   "outputs": [],
   "source": []
  },
  {
   "cell_type": "code",
   "execution_count": null,
   "id": "ec7fa1f3-c8b3-40bd-bbe0-56f077160a9b",
   "metadata": {},
   "outputs": [],
   "source": []
  },
  {
   "cell_type": "code",
   "execution_count": null,
   "id": "dc731fc0-7ce9-4255-9b27-f0d5ea7d13fd",
   "metadata": {},
   "outputs": [],
   "source": []
  },
  {
   "cell_type": "code",
   "execution_count": null,
   "id": "815c95ed-2f27-4ebe-a275-63c3f65f5d17",
   "metadata": {},
   "outputs": [],
   "source": []
  },
  {
   "cell_type": "code",
   "execution_count": null,
   "id": "b3ee73aa-6d2a-471d-a950-72cd11846605",
   "metadata": {},
   "outputs": [],
   "source": []
  },
  {
   "cell_type": "code",
   "execution_count": null,
   "id": "42312fd2-0fd9-4c5d-afdd-9a848e3bad96",
   "metadata": {},
   "outputs": [],
   "source": []
  },
  {
   "cell_type": "code",
   "execution_count": null,
   "id": "71c93d0a-182c-48fd-9db1-4e1236003621",
   "metadata": {},
   "outputs": [],
   "source": []
  },
  {
   "cell_type": "code",
   "execution_count": null,
   "id": "b986ab38-6714-4eb9-84dc-c1d80fafe18e",
   "metadata": {},
   "outputs": [],
   "source": []
  },
  {
   "cell_type": "code",
   "execution_count": null,
   "id": "daf571ec-b74e-4581-86d0-e48f58f20966",
   "metadata": {},
   "outputs": [],
   "source": []
  },
  {
   "cell_type": "code",
   "execution_count": null,
   "id": "ad2040cb-39d0-4887-9526-475de19be1a4",
   "metadata": {},
   "outputs": [],
   "source": []
  }
 ],
 "metadata": {
  "kernelspec": {
   "display_name": "Python 3 (ipykernel)",
   "language": "python",
   "name": "python3"
  },
  "language_info": {
   "codemirror_mode": {
    "name": "ipython",
    "version": 3
   },
   "file_extension": ".py",
   "mimetype": "text/x-python",
   "name": "python",
   "nbconvert_exporter": "python",
   "pygments_lexer": "ipython3",
   "version": "3.9.7"
  }
 },
 "nbformat": 4,
 "nbformat_minor": 5
}