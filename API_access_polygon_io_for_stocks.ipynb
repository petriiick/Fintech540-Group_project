{
 "cells": [
  {
   "cell_type": "markdown",
   "id": "d8ed63b9-d668-4e15-9306-943181f15bc8",
   "metadata": {},
   "source": [
    "# IEX Cloud\n",
    "\n",
    "https://algotrading101.com/learn/iex-api-guide/\n",
    "\n",
    "Guide for getting data"
   ]
  },
  {
   "cell_type": "code",
   "execution_count": null,
   "id": "538b4ece-3a42-48e7-9d65-7ad09e402ee5",
   "metadata": {},
   "outputs": [],
   "source": [
    "import os\n",
    "import requests\n",
    "\n",
    "base_url = 'https://workspace.iex.cloud/v1'\n",
    "API_KEY = 'sk_b1349c1a99d7473aa22b6142a112ef3c'\n",
    "token = os.environ.get(API_KEY)\n",
    "params = {'token': token}\n",
    "\n"
   ]
  },
  {
   "cell_type": "code",
   "execution_count": null,
   "id": "0a85a13e-4f9b-49d6-bd23-7f2488837d72",
   "metadata": {},
   "outputs": [],
   "source": [
    "resp = requests.get(base_url + '/status')"
   ]
  },
  {
   "cell_type": "markdown",
   "id": "1b793fb2-3391-4467-9ce4-4509f3196309",
   "metadata": {},
   "source": [
    "GET /stock/{symbol}/intraday-prices"
   ]
  },
  {
   "cell_type": "code",
   "execution_count": null,
   "id": "0cb412af-1b44-4412-b168-1d27e5e405fa",
   "metadata": {},
   "outputs": [],
   "source": [
    "# endpoint = '/data/CORE/MINUTEBAR/AAPL/??from=2022-10-22??to=2022-10-23??token={}'.format(API_KEY)\n",
    "# endpoint = '/data/CORE/MINUTEBAR/AAPL/??from=2022-10-22??to=2022-10-23??token={}'.format(API_KEY)\n",
    "endpoint = '/stock/twtr/chart/{range}/{date}'\n",
    "resp = requests.get(base_url+endpoint)"
   ]
  },
  {
   "cell_type": "code",
   "execution_count": null,
   "id": "fc63d3ac-efb3-4ddf-844c-cc7ef3813b77",
   "metadata": {},
   "outputs": [],
   "source": [
    "resp.raise_for_status()"
   ]
  },
  {
   "cell_type": "code",
   "execution_count": null,
   "id": "8ab4be43-6326-4a15-a70c-3ee7084426dc",
   "metadata": {},
   "outputs": [],
   "source": [
    "resp"
   ]
  },
  {
   "cell_type": "code",
   "execution_count": null,
   "id": "97efca34-e1e9-4527-ac18-c26e4f416263",
   "metadata": {},
   "outputs": [],
   "source": [
    "import pandas as pd\n",
    "df = pd.DataFrame(resp.json())"
   ]
  },
  {
   "cell_type": "code",
   "execution_count": null,
   "id": "e9bfb9f4-c70e-4f23-be85-a0d3f102ed04",
   "metadata": {},
   "outputs": [],
   "source": [
    "resp.json()"
   ]
  },
  {
   "cell_type": "code",
   "execution_count": null,
   "id": "4f65b545-493c-41e1-97f0-f681354fe742",
   "metadata": {},
   "outputs": [],
   "source": [
    "df.head()"
   ]
  },
  {
   "cell_type": "markdown",
   "id": "ff2740ef-f5c2-407e-862a-877f843c5509",
   "metadata": {},
   "source": [
    "# Polygon\n",
    "\n",
    "https://polygon.io/dashboard\n",
    "\n",
    "The aggregates endpoint has a max limit of 50,000. If querying 5 minute bars, it uses one minute as its base limit. This means that querying 5 minute bars with a max limit of 50k, will return 50k minutes worth of 5 minute bars. This is roughly 1-2 months. I recommend breaking up your aggregate requests into one to two month time frames."
   ]
  },
  {
   "cell_type": "code",
   "execution_count": 3,
   "id": "fb76d7bd-cc0a-465f-afa4-c79a8c6eff98",
   "metadata": {},
   "outputs": [],
   "source": [
    "import os\n",
    "import time\n",
    "import requests\n",
    "import pandas as pd\n",
    "import openpyxl\n",
    "from datetime import datetime\n",
    "from dateutil.relativedelta import relativedelta\n",
    "from tqdm import tqdm\n",
    "\n",
    "API_KEY = '6BM1yLKk1jcJLKIpEvyKVc_jyCggOKij'\n"
   ]
  },
  {
   "cell_type": "code",
   "execution_count": 4,
   "id": "d08f372a-3473-4e3c-a512-1403a2eb6422",
   "metadata": {},
   "outputs": [],
   "source": [
    "def shift_date(given_date='2020-10-25',n_months=1):\n",
    "    date_format = '%Y-%m-%d'\n",
    "    dtObj = datetime.strptime(given_date, date_format)\n",
    "    future_date = dtObj + relativedelta(months=n_months)\n",
    "    # Convert datetime object to string in required format\n",
    "    future_date_str = future_date.strftime(date_format)\n",
    "    return future_date_str\n",
    "\n",
    "def compare_dates(start,end,date_format='%Y-%m-%d'):\n",
    "    start = datetime.strptime(start, date_format)\n",
    "    end = datetime.strptime(end, date_format)\n",
    "    return start>end"
   ]
  },
  {
   "cell_type": "markdown",
   "id": "006bb0ae-d169-4c00-8c5e-bd9686703c39",
   "metadata": {},
   "source": [
    "## get symbols"
   ]
  },
  {
   "cell_type": "code",
   "execution_count": 5,
   "id": "d5d9c2fe-e8fa-4c46-b757-b2e84a003d32",
   "metadata": {},
   "outputs": [],
   "source": [
    "ndxt_df = pd.read_excel('data/tickerblock.xlsx',index_col=0)\n",
    "ndxt_df.columns = [n.split(' ')[0] for n in ndxt_df.columns]\n",
    "ndxt_df.index = pd.to_datetime(ndxt_df.index)"
   ]
  },
  {
   "cell_type": "code",
   "execution_count": 6,
   "id": "517d5c11-3c76-44d8-ba80-bf9294e19bb0",
   "metadata": {},
   "outputs": [],
   "source": [
    "symbols = ndxt_df.loc['2020-10-20':].dropna(axis=1).columns.to_list()"
   ]
  },
  {
   "cell_type": "markdown",
   "id": "3dc3cdc2-91ca-4f2f-9ac5-bacce69c0b2d",
   "metadata": {},
   "source": [
    "# check symbols"
   ]
  },
  {
   "cell_type": "code",
   "execution_count": 7,
   "id": "977e5c75-3bb5-4d84-97d3-a61cbe228ce4",
   "metadata": {
    "tags": []
   },
   "outputs": [
    {
     "name": "stdout",
     "output_type": "stream",
     "text": [
      "AMZN\n",
      "FB\n",
      "RIOT\n",
      "TSLA\n",
      "BA\n",
      "PLTR\n",
      "GME\n",
      "AMC\n",
      "BBBY\n",
      "COIN\n"
     ]
    }
   ],
   "source": [
    "for s in symbols:\n",
    "    r = requests.get('https://api.polygon.io/v3/reference/tickers?ticker={}&active=true&sort=ticker&order=asc&limit=10&apiKey=6BM1yLKk1jcJLKIpEvyKVc_jyCggOKij'.format(s))\n",
    "    print(s)\n",
    "# print(resp)"
   ]
  },
  {
   "cell_type": "code",
   "execution_count": 8,
   "outputs": [
    {
     "data": {
      "text/plain": "['AMZN', 'FB', 'RIOT', 'TSLA', 'BA', 'PLTR', 'GME', 'AMC', 'BBBY', 'COIN']"
     },
     "execution_count": 8,
     "metadata": {},
     "output_type": "execute_result"
    }
   ],
   "source": [
    "symbols[0:]"
   ],
   "metadata": {
    "collapsed": false,
    "pycharm": {
     "name": "#%%\n"
    }
   }
  },
  {
   "cell_type": "markdown",
   "id": "06716532-6502-4dbc-a5b6-f9a119371e5b",
   "metadata": {},
   "source": [
    "# get data"
   ]
  },
  {
   "cell_type": "code",
   "execution_count": 9,
   "id": "4d75f855-5526-4ea7-9d32-543dea1c6742",
   "metadata": {
    "tags": []
   },
   "outputs": [
    {
     "name": "stderr",
     "output_type": "stream",
     "text": [
      "  0%|          | 0/10 [00:00<?, ?it/s]"
     ]
    },
    {
     "name": "stdout",
     "output_type": "stream",
     "text": [
      "AMZN\n"
     ]
    },
    {
     "name": "stderr",
     "output_type": "stream",
     "text": [
      "  0%|          | 0/10 [00:25<?, ?it/s]\n"
     ]
    },
    {
     "ename": "KeyboardInterrupt",
     "evalue": "",
     "output_type": "error",
     "traceback": [
      "\u001B[1;31m---------------------------------------------------------------------------\u001B[0m",
      "\u001B[1;31mKeyboardInterrupt\u001B[0m                         Traceback (most recent call last)",
      "Cell \u001B[1;32mIn [9], line 23\u001B[0m\n\u001B[0;32m     21\u001B[0m     df_to_concat\u001B[38;5;241m.\u001B[39mappend(df)\n\u001B[0;32m     22\u001B[0m     start \u001B[38;5;241m=\u001B[39m startstep\n\u001B[1;32m---> 23\u001B[0m     \u001B[43mtime\u001B[49m\u001B[38;5;241;43m.\u001B[39;49m\u001B[43msleep\u001B[49m\u001B[43m(\u001B[49m\u001B[38;5;241;43m25\u001B[39;49m\u001B[43m)\u001B[49m\n\u001B[0;32m     25\u001B[0m cdf \u001B[38;5;241m=\u001B[39m pd\u001B[38;5;241m.\u001B[39mconcat(df_to_concat) \n\u001B[0;32m     26\u001B[0m cdf\u001B[38;5;241m.\u001B[39mto_csv(\u001B[38;5;124m'\u001B[39m\u001B[38;5;124mdata/5min_unstructured/\u001B[39m\u001B[38;5;132;01m{}\u001B[39;00m\u001B[38;5;124m.csv\u001B[39m\u001B[38;5;124m'\u001B[39m\u001B[38;5;241m.\u001B[39mformat(symbol))\n",
      "\u001B[1;31mKeyboardInterrupt\u001B[0m: "
     ]
    }
   ],
   "source": [
    "full_df_to_concat = []\n",
    "for symbol in tqdm(symbols[0:]):\n",
    "    df_to_concat = []\n",
    "    start, end = '2020-10-25', '2022-10-19'\n",
    "    print(symbol)\n",
    "    while not compare_dates(start,end):\n",
    "        startstep = shift_date(start,n_months=1)\n",
    "        # print(start,startstep)\n",
    "        URL = 'https://api.polygon.io/v2/aggs/ticker/{}/range/1/day/{}/{}?adjusted=true&sort=asc&limit=50000&apiKey={}'.format(symbol,\n",
    "                                                                                                                                start,\n",
    "                                                                                                                                startstep,\n",
    "                                                                                                                                API_KEY)\n",
    "\n",
    "        resp = requests.get(URL)\n",
    "\n",
    "        # decode data into pandas dataframe\n",
    "        df = pd.DataFrame(resp.json()['results'])\n",
    "        df.columns = ['volume','vwap','open','close','high','low','timestamp','transactions']\n",
    "        df['ticker'] = resp.json()['ticker']\n",
    "        df['timestamp'] = pd.to_datetime(df['timestamp'],unit='ms')\n",
    "        df_to_concat.append(df)\n",
    "        start = startstep\n",
    "        time.sleep(25)\n",
    "\n",
    "    cdf = pd.concat(df_to_concat) \n",
    "    cdf.to_csv('data/5min_unstructured/{}.csv'.format(symbol))\n",
    "    full_df_to_concat.append(cdf)\n",
    "    \n",
    "panel = pd.concat(full_df_to_concat)\n",
    "# then save\n",
    "panel.to_parquet('data/hf_polygon/panels/5min_polygon_tickerblock.parquet.gzip',compression='gzip')"
   ]
  },
  {
   "cell_type": "code",
   "execution_count": null,
   "id": "dee71980-9bf7-4be6-8706-d3928fddcd59",
   "metadata": {},
   "outputs": [],
   "source": [
    "resp.raise_for_status()"
   ]
  },
  {
   "cell_type": "code",
   "execution_count": null,
   "id": "313e5a3f-2845-4c18-8d59-82671fa1f5e3",
   "metadata": {},
   "outputs": [],
   "source": [
    "cdf"
   ]
  },
  {
   "cell_type": "code",
   "execution_count": null,
   "id": "ed2ad74e-ae73-4494-a5ad-683fa2ca4641",
   "metadata": {},
   "outputs": [],
   "source": []
  },
  {
   "cell_type": "code",
   "execution_count": null,
   "id": "ec7fa1f3-c8b3-40bd-bbe0-56f077160a9b",
   "metadata": {},
   "outputs": [],
   "source": []
  },
  {
   "cell_type": "code",
   "execution_count": null,
   "id": "dc731fc0-7ce9-4255-9b27-f0d5ea7d13fd",
   "metadata": {},
   "outputs": [],
   "source": []
  },
  {
   "cell_type": "code",
   "execution_count": null,
   "id": "815c95ed-2f27-4ebe-a275-63c3f65f5d17",
   "metadata": {},
   "outputs": [],
   "source": []
  },
  {
   "cell_type": "code",
   "execution_count": null,
   "id": "b3ee73aa-6d2a-471d-a950-72cd11846605",
   "metadata": {},
   "outputs": [],
   "source": []
  },
  {
   "cell_type": "code",
   "execution_count": null,
   "id": "42312fd2-0fd9-4c5d-afdd-9a848e3bad96",
   "metadata": {},
   "outputs": [],
   "source": []
  },
  {
   "cell_type": "code",
   "execution_count": null,
   "id": "71c93d0a-182c-48fd-9db1-4e1236003621",
   "metadata": {},
   "outputs": [],
   "source": []
  },
  {
   "cell_type": "code",
   "execution_count": null,
   "id": "b986ab38-6714-4eb9-84dc-c1d80fafe18e",
   "metadata": {},
   "outputs": [],
   "source": []
  },
  {
   "cell_type": "code",
   "execution_count": null,
   "id": "daf571ec-b74e-4581-86d0-e48f58f20966",
   "metadata": {},
   "outputs": [],
   "source": []
  },
  {
   "cell_type": "code",
   "execution_count": null,
   "id": "ad2040cb-39d0-4887-9526-475de19be1a4",
   "metadata": {},
   "outputs": [],
   "source": []
  }
 ],
 "metadata": {
  "kernelspec": {
   "display_name": "Python 3 (ipykernel)",
   "language": "python",
   "name": "python3"
  },
  "language_info": {
   "codemirror_mode": {
    "name": "ipython",
    "version": 3
   },
   "file_extension": ".py",
   "mimetype": "text/x-python",
   "name": "python",
   "nbconvert_exporter": "python",
   "pygments_lexer": "ipython3",
   "version": "3.9.7"
  }
 },
 "nbformat": 4,
 "nbformat_minor": 5
}