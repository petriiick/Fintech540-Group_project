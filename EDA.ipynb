{
 "cells": [
  {
   "cell_type": "code",
   "execution_count": 1,
   "id": "a181b336-6eb9-48d8-85ae-01d9dc47fde5",
   "metadata": {},
   "outputs": [
    {
     "name": "stderr",
     "output_type": "stream",
     "text": [
      "/var/folders/4q/rq930f513t9ct674p8_0zly80000gn/T/ipykernel_3836/4254133157.py:17: DeprecationWarning: Importing display from IPython.core.display is deprecated since IPython 7.14, please import from IPython display\n",
      "  from IPython.core.display import display, HTML\n"
     ]
    },
    {
     "data": {
      "text/html": [
       "<style>.container { width:90% !important; }</style>"
      ],
      "text/plain": [
       "<IPython.core.display.HTML object>"
      ]
     },
     "metadata": {},
     "output_type": "display_data"
    }
   ],
   "source": [
    "import datetime\n",
    "from tqdm import tqdm\n",
    "\n",
    "import numpy as np\n",
    "import pandas as pd\n",
    "import matplotlib as mpl\n",
    "import statsmodels.api as sm\n",
    "import pylab as py\n",
    "import matplotlib.pyplot as plt\n",
    "import seaborn as sb\n",
    "import missingno as msno\n",
    "import altair as alt\n",
    "\n",
    "\n",
    "from utils.figsize import *\n",
    "\n",
    "from IPython.core.display import display, HTML\n",
    "display(HTML(\"<style>.container { width:90% !important; }</style>\"))"
   ]
  },
  {
   "cell_type": "code",
   "execution_count": 2,
   "id": "7ed6e88f",
   "metadata": {},
   "outputs": [
    {
     "data": {
      "text/html": [
       "<div>\n",
       "<style scoped>\n",
       "    .dataframe tbody tr th:only-of-type {\n",
       "        vertical-align: middle;\n",
       "    }\n",
       "\n",
       "    .dataframe tbody tr th {\n",
       "        vertical-align: top;\n",
       "    }\n",
       "\n",
       "    .dataframe thead th {\n",
       "        text-align: right;\n",
       "    }\n",
       "</style>\n",
       "<table border=\"1\" class=\"dataframe\">\n",
       "  <thead>\n",
       "    <tr style=\"text-align: right;\">\n",
       "      <th></th>\n",
       "      <th></th>\n",
       "      <th>time_open</th>\n",
       "      <th>time_high</th>\n",
       "      <th>time_low</th>\n",
       "      <th>quote.USD.open</th>\n",
       "      <th>quote.USD.high</th>\n",
       "      <th>quote.USD.low</th>\n",
       "      <th>quote.USD.close</th>\n",
       "      <th>quote.USD.volume</th>\n",
       "      <th>quote.USD.market_cap</th>\n",
       "      <th>quote.USD.timestamp</th>\n",
       "      <th>symbol</th>\n",
       "      <th>id</th>\n",
       "    </tr>\n",
       "    <tr>\n",
       "      <th>symbol_id</th>\n",
       "      <th>time_close</th>\n",
       "      <th></th>\n",
       "      <th></th>\n",
       "      <th></th>\n",
       "      <th></th>\n",
       "      <th></th>\n",
       "      <th></th>\n",
       "      <th></th>\n",
       "      <th></th>\n",
       "      <th></th>\n",
       "      <th></th>\n",
       "      <th></th>\n",
       "      <th></th>\n",
       "    </tr>\n",
       "  </thead>\n",
       "  <tbody>\n",
       "    <tr>\n",
       "      <th rowspan=\"5\" valign=\"top\">MPH_7742</th>\n",
       "      <th>2020-11-23T00:59:59.999Z</th>\n",
       "      <td>2020-11-23T00:00:00.000Z</td>\n",
       "      <td>2020-11-23T00:00:07.000Z</td>\n",
       "      <td>2020-11-23T00:37:05.000Z</td>\n",
       "      <td>90.554933</td>\n",
       "      <td>90.554933</td>\n",
       "      <td>79.852330</td>\n",
       "      <td>85.599205</td>\n",
       "      <td>1.600851e+07</td>\n",
       "      <td>0.0</td>\n",
       "      <td>2020-11-23T00:59:59.999Z</td>\n",
       "      <td>MPH</td>\n",
       "      <td>7742</td>\n",
       "    </tr>\n",
       "    <tr>\n",
       "      <th>2020-11-24T00:59:59.999Z</th>\n",
       "      <td>2020-11-24T00:00:00.000Z</td>\n",
       "      <td>2020-11-24T00:00:07.000Z</td>\n",
       "      <td>2020-11-24T00:40:06.000Z</td>\n",
       "      <td>85.161030</td>\n",
       "      <td>85.161030</td>\n",
       "      <td>80.694133</td>\n",
       "      <td>81.645754</td>\n",
       "      <td>1.009738e+07</td>\n",
       "      <td>0.0</td>\n",
       "      <td>2020-11-24T00:59:59.999Z</td>\n",
       "      <td>MPH</td>\n",
       "      <td>7742</td>\n",
       "    </tr>\n",
       "    <tr>\n",
       "      <th>2020-11-25T00:59:59.999Z</th>\n",
       "      <td>2020-11-25T00:00:00.000Z</td>\n",
       "      <td>2020-11-25T00:00:06.000Z</td>\n",
       "      <td>2020-11-25T00:58:05.000Z</td>\n",
       "      <td>57.527366</td>\n",
       "      <td>57.527366</td>\n",
       "      <td>53.679986</td>\n",
       "      <td>53.704963</td>\n",
       "      <td>8.899399e+06</td>\n",
       "      <td>0.0</td>\n",
       "      <td>2020-11-25T00:59:59.999Z</td>\n",
       "      <td>MPH</td>\n",
       "      <td>7742</td>\n",
       "    </tr>\n",
       "    <tr>\n",
       "      <th>2020-11-26T00:59:59.999Z</th>\n",
       "      <td>2020-11-26T00:00:00.000Z</td>\n",
       "      <td>2020-11-26T00:56:05.000Z</td>\n",
       "      <td>2020-11-26T00:13:06.000Z</td>\n",
       "      <td>39.466839</td>\n",
       "      <td>40.121814</td>\n",
       "      <td>38.980499</td>\n",
       "      <td>40.056399</td>\n",
       "      <td>4.225065e+06</td>\n",
       "      <td>0.0</td>\n",
       "      <td>2020-11-26T00:59:59.999Z</td>\n",
       "      <td>MPH</td>\n",
       "      <td>7742</td>\n",
       "    </tr>\n",
       "    <tr>\n",
       "      <th>2020-11-27T00:59:59.999Z</th>\n",
       "      <td>2020-11-27T00:00:00.000Z</td>\n",
       "      <td>2020-11-27T00:57:05.000Z</td>\n",
       "      <td>2020-11-27T00:16:05.000Z</td>\n",
       "      <td>30.002092</td>\n",
       "      <td>30.391962</td>\n",
       "      <td>29.690305</td>\n",
       "      <td>30.383005</td>\n",
       "      <td>2.933446e+06</td>\n",
       "      <td>0.0</td>\n",
       "      <td>2020-11-27T00:59:59.999Z</td>\n",
       "      <td>MPH</td>\n",
       "      <td>7742</td>\n",
       "    </tr>\n",
       "  </tbody>\n",
       "</table>\n",
       "</div>"
      ],
      "text/plain": [
       "                                                   time_open  \\\n",
       "symbol_id time_close                                           \n",
       "MPH_7742  2020-11-23T00:59:59.999Z  2020-11-23T00:00:00.000Z   \n",
       "          2020-11-24T00:59:59.999Z  2020-11-24T00:00:00.000Z   \n",
       "          2020-11-25T00:59:59.999Z  2020-11-25T00:00:00.000Z   \n",
       "          2020-11-26T00:59:59.999Z  2020-11-26T00:00:00.000Z   \n",
       "          2020-11-27T00:59:59.999Z  2020-11-27T00:00:00.000Z   \n",
       "\n",
       "                                                   time_high  \\\n",
       "symbol_id time_close                                           \n",
       "MPH_7742  2020-11-23T00:59:59.999Z  2020-11-23T00:00:07.000Z   \n",
       "          2020-11-24T00:59:59.999Z  2020-11-24T00:00:07.000Z   \n",
       "          2020-11-25T00:59:59.999Z  2020-11-25T00:00:06.000Z   \n",
       "          2020-11-26T00:59:59.999Z  2020-11-26T00:56:05.000Z   \n",
       "          2020-11-27T00:59:59.999Z  2020-11-27T00:57:05.000Z   \n",
       "\n",
       "                                                    time_low  quote.USD.open  \\\n",
       "symbol_id time_close                                                           \n",
       "MPH_7742  2020-11-23T00:59:59.999Z  2020-11-23T00:37:05.000Z       90.554933   \n",
       "          2020-11-24T00:59:59.999Z  2020-11-24T00:40:06.000Z       85.161030   \n",
       "          2020-11-25T00:59:59.999Z  2020-11-25T00:58:05.000Z       57.527366   \n",
       "          2020-11-26T00:59:59.999Z  2020-11-26T00:13:06.000Z       39.466839   \n",
       "          2020-11-27T00:59:59.999Z  2020-11-27T00:16:05.000Z       30.002092   \n",
       "\n",
       "                                    quote.USD.high  quote.USD.low  \\\n",
       "symbol_id time_close                                                \n",
       "MPH_7742  2020-11-23T00:59:59.999Z       90.554933      79.852330   \n",
       "          2020-11-24T00:59:59.999Z       85.161030      80.694133   \n",
       "          2020-11-25T00:59:59.999Z       57.527366      53.679986   \n",
       "          2020-11-26T00:59:59.999Z       40.121814      38.980499   \n",
       "          2020-11-27T00:59:59.999Z       30.391962      29.690305   \n",
       "\n",
       "                                    quote.USD.close  quote.USD.volume  \\\n",
       "symbol_id time_close                                                    \n",
       "MPH_7742  2020-11-23T00:59:59.999Z        85.599205      1.600851e+07   \n",
       "          2020-11-24T00:59:59.999Z        81.645754      1.009738e+07   \n",
       "          2020-11-25T00:59:59.999Z        53.704963      8.899399e+06   \n",
       "          2020-11-26T00:59:59.999Z        40.056399      4.225065e+06   \n",
       "          2020-11-27T00:59:59.999Z        30.383005      2.933446e+06   \n",
       "\n",
       "                                    quote.USD.market_cap  \\\n",
       "symbol_id time_close                                       \n",
       "MPH_7742  2020-11-23T00:59:59.999Z                   0.0   \n",
       "          2020-11-24T00:59:59.999Z                   0.0   \n",
       "          2020-11-25T00:59:59.999Z                   0.0   \n",
       "          2020-11-26T00:59:59.999Z                   0.0   \n",
       "          2020-11-27T00:59:59.999Z                   0.0   \n",
       "\n",
       "                                         quote.USD.timestamp symbol    id  \n",
       "symbol_id time_close                                                       \n",
       "MPH_7742  2020-11-23T00:59:59.999Z  2020-11-23T00:59:59.999Z    MPH  7742  \n",
       "          2020-11-24T00:59:59.999Z  2020-11-24T00:59:59.999Z    MPH  7742  \n",
       "          2020-11-25T00:59:59.999Z  2020-11-25T00:59:59.999Z    MPH  7742  \n",
       "          2020-11-26T00:59:59.999Z  2020-11-26T00:59:59.999Z    MPH  7742  \n",
       "          2020-11-27T00:59:59.999Z  2020-11-27T00:59:59.999Z    MPH  7742  "
      ]
     },
     "execution_count": 2,
     "metadata": {},
     "output_type": "execute_result"
    }
   ],
   "source": [
    "df = pd.read_parquet('daily_20221004.parquet.gzip')\n",
    "df.head()"
   ]
  },
  {
   "cell_type": "code",
   "execution_count": 3,
   "id": "21666be9-d232-4f77-b95b-118cfb5beaef",
   "metadata": {},
   "outputs": [
    {
     "data": {
      "text/plain": [
       "MultiIndex([('MPH_7742', '2020-11-23T00:59:59.999Z'),\n",
       "            ('MPH_7742', '2020-11-24T00:59:59.999Z'),\n",
       "            ('MPH_7742', '2020-11-25T00:59:59.999Z'),\n",
       "            ('MPH_7742', '2020-11-26T00:59:59.999Z'),\n",
       "            ('MPH_7742', '2020-11-27T00:59:59.999Z'),\n",
       "            ('MPH_7742', '2020-11-28T00:59:59.999Z'),\n",
       "            ('MPH_7742', '2020-11-29T00:59:59.999Z'),\n",
       "            ('MPH_7742', '2020-11-30T00:59:59.999Z'),\n",
       "            ('MPH_7742', '2020-12-01T00:59:59.999Z'),\n",
       "            ('MPH_7742', '2020-12-02T00:59:59.999Z'),\n",
       "            ...\n",
       "            ('CXO_2490', '2022-06-26T00:59:59.999Z'),\n",
       "            ('CXO_2490', '2022-06-27T00:59:59.999Z'),\n",
       "            ('CXO_2490', '2022-06-28T00:59:59.999Z'),\n",
       "            ('CXO_2490', '2022-06-29T00:59:59.999Z'),\n",
       "            ('CXO_2490', '2022-06-30T00:59:59.999Z'),\n",
       "            ('CXO_2490', '2022-07-01T00:59:59.999Z'),\n",
       "            ('CXO_2490', '2022-07-02T00:59:59.999Z'),\n",
       "            ('CXO_2490', '2022-07-03T00:59:59.999Z'),\n",
       "            ('CXO_2490', '2022-07-04T00:59:59.999Z'),\n",
       "            ('CXO_2490', '2022-07-05T00:59:59.999Z')],\n",
       "           names=['symbol_id', 'time_close'], length=1243591)"
      ]
     },
     "execution_count": 3,
     "metadata": {},
     "output_type": "execute_result"
    }
   ],
   "source": [
    "df.index"
   ]
  },
  {
   "cell_type": "code",
   "execution_count": 4,
   "id": "625e959a-4bef-4949-b9d6-a2c23efa8a70",
   "metadata": {},
   "outputs": [
    {
     "data": {
      "text/plain": [
       "<AxesSubplot:>"
      ]
     },
     "execution_count": 4,
     "metadata": {},
     "output_type": "execute_result"
    },
    {
     "data": {
      "image/png": "[encoded data removed]",
      "text/plain": [
       "<Figure size 1800x720 with 2 Axes>"
      ]
     },
     "metadata": {
      "needs_background": "light"
     },
     "output_type": "display_data"
    }
   ],
   "source": [
    "msno.matrix(df)\n",
    "##check missing data"
   ]
  },
  {
   "cell_type": "code",
   "execution_count": 5,
   "id": "399f3af3-1b09-41a6-b389-1013112ad7b9",
   "metadata": {
    "scrolled": true
   },
   "outputs": [
    {
     "data": {
      "text/html": [
       "<div>\n",
       "<style scoped>\n",
       "    .dataframe tbody tr th:only-of-type {\n",
       "        vertical-align: middle;\n",
       "    }\n",
       "\n",
       "    .dataframe tbody tr th {\n",
       "        vertical-align: top;\n",
       "    }\n",
       "\n",
       "    .dataframe thead th {\n",
       "        text-align: right;\n",
       "    }\n",
       "</style>\n",
       "<table border=\"1\" class=\"dataframe\">\n",
       "  <thead>\n",
       "    <tr style=\"text-align: right;\">\n",
       "      <th></th>\n",
       "      <th></th>\n",
       "      <th>time_open</th>\n",
       "      <th>time_high</th>\n",
       "      <th>time_low</th>\n",
       "      <th>quote.USD.open</th>\n",
       "      <th>quote.USD.high</th>\n",
       "      <th>quote.USD.low</th>\n",
       "      <th>quote.USD.close</th>\n",
       "      <th>quote.USD.volume</th>\n",
       "      <th>quote.USD.market_cap</th>\n",
       "      <th>quote.USD.timestamp</th>\n",
       "      <th>symbol</th>\n",
       "      <th>id</th>\n",
       "      <th>uid</th>\n",
       "    </tr>\n",
       "    <tr>\n",
       "      <th>symbol_id</th>\n",
       "      <th>time_close</th>\n",
       "      <th></th>\n",
       "      <th></th>\n",
       "      <th></th>\n",
       "      <th></th>\n",
       "      <th></th>\n",
       "      <th></th>\n",
       "      <th></th>\n",
       "      <th></th>\n",
       "      <th></th>\n",
       "      <th></th>\n",
       "      <th></th>\n",
       "      <th></th>\n",
       "      <th></th>\n",
       "    </tr>\n",
       "  </thead>\n",
       "  <tbody>\n",
       "    <tr>\n",
       "      <th rowspan=\"5\" valign=\"top\">MPH_7742</th>\n",
       "      <th>2020-11-23T00:59:59.999Z</th>\n",
       "      <td>2020-11-23T00:00:00.000Z</td>\n",
       "      <td>2020-11-23T00:00:07.000Z</td>\n",
       "      <td>2020-11-23T00:37:05.000Z</td>\n",
       "      <td>90.554933</td>\n",
       "      <td>90.554933</td>\n",
       "      <td>79.852330</td>\n",
       "      <td>85.599205</td>\n",
       "      <td>1.600851e+07</td>\n",
       "      <td>0.0</td>\n",
       "      <td>2020-11-23T00:59:59.999Z</td>\n",
       "      <td>MPH</td>\n",
       "      <td>7742</td>\n",
       "      <td>MPH7742</td>\n",
       "    </tr>\n",
       "    <tr>\n",
       "      <th>2020-11-24T00:59:59.999Z</th>\n",
       "      <td>2020-11-24T00:00:00.000Z</td>\n",
       "      <td>2020-11-24T00:00:07.000Z</td>\n",
       "      <td>2020-11-24T00:40:06.000Z</td>\n",
       "      <td>85.161030</td>\n",
       "      <td>85.161030</td>\n",
       "      <td>80.694133</td>\n",
       "      <td>81.645754</td>\n",
       "      <td>1.009738e+07</td>\n",
       "      <td>0.0</td>\n",
       "      <td>2020-11-24T00:59:59.999Z</td>\n",
       "      <td>MPH</td>\n",
       "      <td>7742</td>\n",
       "      <td>MPH7742</td>\n",
       "    </tr>\n",
       "    <tr>\n",
       "      <th>2020-11-25T00:59:59.999Z</th>\n",
       "      <td>2020-11-25T00:00:00.000Z</td>\n",
       "      <td>2020-11-25T00:00:06.000Z</td>\n",
       "      <td>2020-11-25T00:58:05.000Z</td>\n",
       "      <td>57.527366</td>\n",
       "      <td>57.527366</td>\n",
       "      <td>53.679986</td>\n",
       "      <td>53.704963</td>\n",
       "      <td>8.899399e+06</td>\n",
       "      <td>0.0</td>\n",
       "      <td>2020-11-25T00:59:59.999Z</td>\n",
       "      <td>MPH</td>\n",
       "      <td>7742</td>\n",
       "      <td>MPH7742</td>\n",
       "    </tr>\n",
       "    <tr>\n",
       "      <th>2020-11-26T00:59:59.999Z</th>\n",
       "      <td>2020-11-26T00:00:00.000Z</td>\n",
       "      <td>2020-11-26T00:56:05.000Z</td>\n",
       "      <td>2020-11-26T00:13:06.000Z</td>\n",
       "      <td>39.466839</td>\n",
       "      <td>40.121814</td>\n",
       "      <td>38.980499</td>\n",
       "      <td>40.056399</td>\n",
       "      <td>4.225065e+06</td>\n",
       "      <td>0.0</td>\n",
       "      <td>2020-11-26T00:59:59.999Z</td>\n",
       "      <td>MPH</td>\n",
       "      <td>7742</td>\n",
       "      <td>MPH7742</td>\n",
       "    </tr>\n",
       "    <tr>\n",
       "      <th>2020-11-27T00:59:59.999Z</th>\n",
       "      <td>2020-11-27T00:00:00.000Z</td>\n",
       "      <td>2020-11-27T00:57:05.000Z</td>\n",
       "      <td>2020-11-27T00:16:05.000Z</td>\n",
       "      <td>30.002092</td>\n",
       "      <td>30.391962</td>\n",
       "      <td>29.690305</td>\n",
       "      <td>30.383005</td>\n",
       "      <td>2.933446e+06</td>\n",
       "      <td>0.0</td>\n",
       "      <td>2020-11-27T00:59:59.999Z</td>\n",
       "      <td>MPH</td>\n",
       "      <td>7742</td>\n",
       "      <td>MPH7742</td>\n",
       "    </tr>\n",
       "  </tbody>\n",
       "</table>\n",
       "</div>"
      ],
      "text/plain": [
       "                                                   time_open  \\\n",
       "symbol_id time_close                                           \n",
       "MPH_7742  2020-11-23T00:59:59.999Z  2020-11-23T00:00:00.000Z   \n",
       "          2020-11-24T00:59:59.999Z  2020-11-24T00:00:00.000Z   \n",
       "          2020-11-25T00:59:59.999Z  2020-11-25T00:00:00.000Z   \n",
       "          2020-11-26T00:59:59.999Z  2020-11-26T00:00:00.000Z   \n",
       "          2020-11-27T00:59:59.999Z  2020-11-27T00:00:00.000Z   \n",
       "\n",
       "                                                   time_high  \\\n",
       "symbol_id time_close                                           \n",
       "MPH_7742  2020-11-23T00:59:59.999Z  2020-11-23T00:00:07.000Z   \n",
       "          2020-11-24T00:59:59.999Z  2020-11-24T00:00:07.000Z   \n",
       "          2020-11-25T00:59:59.999Z  2020-11-25T00:00:06.000Z   \n",
       "          2020-11-26T00:59:59.999Z  2020-11-26T00:56:05.000Z   \n",
       "          2020-11-27T00:59:59.999Z  2020-11-27T00:57:05.000Z   \n",
       "\n",
       "                                                    time_low  quote.USD.open  \\\n",
       "symbol_id time_close                                                           \n",
       "MPH_7742  2020-11-23T00:59:59.999Z  2020-11-23T00:37:05.000Z       90.554933   \n",
       "          2020-11-24T00:59:59.999Z  2020-11-24T00:40:06.000Z       85.161030   \n",
       "          2020-11-25T00:59:59.999Z  2020-11-25T00:58:05.000Z       57.527366   \n",
       "          2020-11-26T00:59:59.999Z  2020-11-26T00:13:06.000Z       39.466839   \n",
       "          2020-11-27T00:59:59.999Z  2020-11-27T00:16:05.000Z       30.002092   \n",
       "\n",
       "                                    quote.USD.high  quote.USD.low  \\\n",
       "symbol_id time_close                                                \n",
       "MPH_7742  2020-11-23T00:59:59.999Z       90.554933      79.852330   \n",
       "          2020-11-24T00:59:59.999Z       85.161030      80.694133   \n",
       "          2020-11-25T00:59:59.999Z       57.527366      53.679986   \n",
       "          2020-11-26T00:59:59.999Z       40.121814      38.980499   \n",
       "          2020-11-27T00:59:59.999Z       30.391962      29.690305   \n",
       "\n",
       "                                    quote.USD.close  quote.USD.volume  \\\n",
       "symbol_id time_close                                                    \n",
       "MPH_7742  2020-11-23T00:59:59.999Z        85.599205      1.600851e+07   \n",
       "          2020-11-24T00:59:59.999Z        81.645754      1.009738e+07   \n",
       "          2020-11-25T00:59:59.999Z        53.704963      8.899399e+06   \n",
       "          2020-11-26T00:59:59.999Z        40.056399      4.225065e+06   \n",
       "          2020-11-27T00:59:59.999Z        30.383005      2.933446e+06   \n",
       "\n",
       "                                    quote.USD.market_cap  \\\n",
       "symbol_id time_close                                       \n",
       "MPH_7742  2020-11-23T00:59:59.999Z                   0.0   \n",
       "          2020-11-24T00:59:59.999Z                   0.0   \n",
       "          2020-11-25T00:59:59.999Z                   0.0   \n",
       "          2020-11-26T00:59:59.999Z                   0.0   \n",
       "          2020-11-27T00:59:59.999Z                   0.0   \n",
       "\n",
       "                                         quote.USD.timestamp symbol    id  \\\n",
       "symbol_id time_close                                                        \n",
       "MPH_7742  2020-11-23T00:59:59.999Z  2020-11-23T00:59:59.999Z    MPH  7742   \n",
       "          2020-11-24T00:59:59.999Z  2020-11-24T00:59:59.999Z    MPH  7742   \n",
       "          2020-11-25T00:59:59.999Z  2020-11-25T00:59:59.999Z    MPH  7742   \n",
       "          2020-11-26T00:59:59.999Z  2020-11-26T00:59:59.999Z    MPH  7742   \n",
       "          2020-11-27T00:59:59.999Z  2020-11-27T00:59:59.999Z    MPH  7742   \n",
       "\n",
       "                                        uid  \n",
       "symbol_id time_close                         \n",
       "MPH_7742  2020-11-23T00:59:59.999Z  MPH7742  \n",
       "          2020-11-24T00:59:59.999Z  MPH7742  \n",
       "          2020-11-25T00:59:59.999Z  MPH7742  \n",
       "          2020-11-26T00:59:59.999Z  MPH7742  \n",
       "          2020-11-27T00:59:59.999Z  MPH7742  "
      ]
     },
     "execution_count": 5,
     "metadata": {},
     "output_type": "execute_result"
    }
   ],
   "source": [
    "df['uid'] = df.symbol.astype(str)+df['id'].astype(str)\n",
    "df_volmiss = df.loc[pd.isnull(df['quote.USD.volume'])]\n",
    "df_nomiss = df.loc[~ pd.isnull(df['quote.USD.volume'])]\n",
    "df.head()"
   ]
  },
  {
   "cell_type": "markdown",
   "id": "5c210b78",
   "metadata": {},
   "source": [
    "Check whether the symbol ids of missing and not missing volume are clapped"
   ]
  },
  {
   "cell_type": "code",
   "execution_count": 6,
   "id": "cb9ae422",
   "metadata": {},
   "outputs": [
    {
     "data": {
      "text/plain": [
       "[]"
      ]
     },
     "execution_count": 6,
     "metadata": {},
     "output_type": "execute_result"
    }
   ],
   "source": [
    "clap_id = []\n",
    "for id in df_volmiss['uid']:\n",
    "    if id in df_nomiss['uid']:\n",
    "        clap_id.append(id)\n",
    "        \n",
    "clap_id"
   ]
  },
  {
   "cell_type": "code",
   "execution_count": 7,
   "id": "603d15d3",
   "metadata": {},
   "outputs": [
    {
     "name": "stderr",
     "output_type": "stream",
     "text": [
      "/var/folders/4q/rq930f513t9ct674p8_0zly80000gn/T/ipykernel_3836/60781690.py:2: SettingWithCopyWarning: \n",
      "A value is trying to be set on a copy of a slice from a DataFrame.\n",
      "Try using .loc[row_indexer,col_indexer] = value instead\n",
      "\n",
      "See the caveats in the documentation: https://pandas.pydata.org/pandas-docs/stable/user_guide/indexing.html#returning-a-view-versus-a-copy\n",
      "  df_nomiss['uid'] = df_nomiss['symbol'].astype(str)+\"_\"+df_nomiss['id'].astype(str)\n"
     ]
    }
   ],
   "source": [
    "#make unique idea totally same as symbol id\n",
    "df_nomiss['uid'] = df_nomiss['symbol'].astype(str)+\"_\"+df_nomiss['id'].astype(str)"
   ]
  },
  {
   "cell_type": "code",
   "execution_count": 8,
   "id": "89da79e3",
   "metadata": {},
   "outputs": [
    {
     "data": {
      "text/plain": [
       "array(['MPH_7742', 'EWT_5268', 'BAKE_7064', ..., 'UNI_7083', 'QC_2319',\n",
       "       'CXO_2490'], dtype=object)"
      ]
     },
     "execution_count": 8,
     "metadata": {},
     "output_type": "execute_result"
    }
   ],
   "source": [
    "df_nomiss.uid.unique()"
   ]
  },
  {
   "cell_type": "code",
   "execution_count": 9,
   "id": "c543dc44",
   "metadata": {},
   "outputs": [
    {
     "data": {
      "text/plain": [
       "1373"
      ]
     },
     "execution_count": 9,
     "metadata": {},
     "output_type": "execute_result"
    }
   ],
   "source": [
    "len(df_nomiss.uid.unique())"
   ]
  },
  {
   "cell_type": "code",
   "execution_count": 10,
   "id": "fb27ff96",
   "metadata": {},
   "outputs": [
    {
     "data": {
      "text/plain": [
       "time_open                object\n",
       "time_high                object\n",
       "time_low                 object\n",
       "quote.USD.open          float64\n",
       "quote.USD.high          float64\n",
       "quote.USD.low           float64\n",
       "quote.USD.close         float64\n",
       "quote.USD.volume        float64\n",
       "quote.USD.market_cap    float64\n",
       "quote.USD.timestamp      object\n",
       "symbol                   object\n",
       "id                        int64\n",
       "uid                      object\n",
       "dtype: object"
      ]
     },
     "execution_count": 10,
     "metadata": {},
     "output_type": "execute_result"
    }
   ],
   "source": [
    "df_nomiss.dtypes"
   ]
  },
  {
   "cell_type": "code",
   "execution_count": 11,
   "id": "fa8d3bc0",
   "metadata": {},
   "outputs": [
    {
     "data": {
      "text/html": [
       "<div>\n",
       "<style scoped>\n",
       "    .dataframe tbody tr th:only-of-type {\n",
       "        vertical-align: middle;\n",
       "    }\n",
       "\n",
       "    .dataframe tbody tr th {\n",
       "        vertical-align: top;\n",
       "    }\n",
       "\n",
       "    .dataframe thead th {\n",
       "        text-align: right;\n",
       "    }\n",
       "</style>\n",
       "<table border=\"1\" class=\"dataframe\">\n",
       "  <thead>\n",
       "    <tr style=\"text-align: right;\">\n",
       "      <th></th>\n",
       "      <th>quote.USD.open</th>\n",
       "      <th>quote.USD.high</th>\n",
       "      <th>quote.USD.low</th>\n",
       "      <th>quote.USD.close</th>\n",
       "      <th>quote.USD.volume</th>\n",
       "      <th>quote.USD.market_cap</th>\n",
       "      <th>id</th>\n",
       "    </tr>\n",
       "  </thead>\n",
       "  <tbody>\n",
       "    <tr>\n",
       "      <th>count</th>\n",
       "      <td>742019.000000</td>\n",
       "      <td>742019.000000</td>\n",
       "      <td>742019.000000</td>\n",
       "      <td>742019.000000</td>\n",
       "      <td>7.420190e+05</td>\n",
       "      <td>7.420190e+05</td>\n",
       "      <td>742019.000000</td>\n",
       "    </tr>\n",
       "    <tr>\n",
       "      <th>mean</th>\n",
       "      <td>383.585019</td>\n",
       "      <td>386.354827</td>\n",
       "      <td>380.577230</td>\n",
       "      <td>383.491923</td>\n",
       "      <td>1.212272e+10</td>\n",
       "      <td>1.659988e+09</td>\n",
       "      <td>5578.673820</td>\n",
       "    </tr>\n",
       "    <tr>\n",
       "      <th>std</th>\n",
       "      <td>4119.116415</td>\n",
       "      <td>4149.026474</td>\n",
       "      <td>4085.289680</td>\n",
       "      <td>4117.638080</td>\n",
       "      <td>5.749468e+12</td>\n",
       "      <td>2.628066e+10</td>\n",
       "      <td>3256.601799</td>\n",
       "    </tr>\n",
       "    <tr>\n",
       "      <th>min</th>\n",
       "      <td>0.000000</td>\n",
       "      <td>0.000000</td>\n",
       "      <td>0.000000</td>\n",
       "      <td>0.000000</td>\n",
       "      <td>0.000000e+00</td>\n",
       "      <td>-1.366289e+09</td>\n",
       "      <td>1.000000</td>\n",
       "    </tr>\n",
       "    <tr>\n",
       "      <th>25%</th>\n",
       "      <td>0.033748</td>\n",
       "      <td>0.034197</td>\n",
       "      <td>0.033309</td>\n",
       "      <td>0.033730</td>\n",
       "      <td>2.212874e+05</td>\n",
       "      <td>8.464712e+06</td>\n",
       "      <td>2861.000000</td>\n",
       "    </tr>\n",
       "    <tr>\n",
       "      <th>50%</th>\n",
       "      <td>0.287513</td>\n",
       "      <td>0.290885</td>\n",
       "      <td>0.283841</td>\n",
       "      <td>0.287182</td>\n",
       "      <td>1.460568e+06</td>\n",
       "      <td>3.178227e+07</td>\n",
       "      <td>5224.000000</td>\n",
       "    </tr>\n",
       "    <tr>\n",
       "      <th>75%</th>\n",
       "      <td>2.014665</td>\n",
       "      <td>2.038999</td>\n",
       "      <td>1.987739</td>\n",
       "      <td>2.011999</td>\n",
       "      <td>1.147851e+07</td>\n",
       "      <td>1.387857e+08</td>\n",
       "      <td>7805.000000</td>\n",
       "    </tr>\n",
       "    <tr>\n",
       "      <th>max</th>\n",
       "      <td>171010.561474</td>\n",
       "      <td>173384.631108</td>\n",
       "      <td>170383.538156</td>\n",
       "      <td>173384.631108</td>\n",
       "      <td>3.665774e+15</td>\n",
       "      <td>1.276428e+12</td>\n",
       "      <td>20701.000000</td>\n",
       "    </tr>\n",
       "  </tbody>\n",
       "</table>\n",
       "</div>"
      ],
      "text/plain": [
       "       quote.USD.open  quote.USD.high  quote.USD.low  quote.USD.close  \\\n",
       "count   742019.000000   742019.000000  742019.000000    742019.000000   \n",
       "mean       383.585019      386.354827     380.577230       383.491923   \n",
       "std       4119.116415     4149.026474    4085.289680      4117.638080   \n",
       "min          0.000000        0.000000       0.000000         0.000000   \n",
       "25%          0.033748        0.034197       0.033309         0.033730   \n",
       "50%          0.287513        0.290885       0.283841         0.287182   \n",
       "75%          2.014665        2.038999       1.987739         2.011999   \n",
       "max     171010.561474   173384.631108  170383.538156    173384.631108   \n",
       "\n",
       "       quote.USD.volume  quote.USD.market_cap             id  \n",
       "count      7.420190e+05          7.420190e+05  742019.000000  \n",
       "mean       1.212272e+10          1.659988e+09    5578.673820  \n",
       "std        5.749468e+12          2.628066e+10    3256.601799  \n",
       "min        0.000000e+00         -1.366289e+09       1.000000  \n",
       "25%        2.212874e+05          8.464712e+06    2861.000000  \n",
       "50%        1.460568e+06          3.178227e+07    5224.000000  \n",
       "75%        1.147851e+07          1.387857e+08    7805.000000  \n",
       "max        3.665774e+15          1.276428e+12   20701.000000  "
      ]
     },
     "execution_count": 11,
     "metadata": {},
     "output_type": "execute_result"
    }
   ],
   "source": [
    "df_nomiss.describe()"
   ]
  },
  {
   "cell_type": "code",
   "execution_count": 12,
   "id": "0000216d",
   "metadata": {},
   "outputs": [
    {
     "name": "stderr",
     "output_type": "stream",
     "text": [
      "/var/folders/4q/rq930f513t9ct674p8_0zly80000gn/T/ipykernel_3836/1850348949.py:2: SettingWithCopyWarning: \n",
      "A value is trying to be set on a copy of a slice from a DataFrame.\n",
      "Try using .loc[row_indexer,col_indexer] = value instead\n",
      "\n",
      "See the caveats in the documentation: https://pandas.pydata.org/pandas-docs/stable/user_guide/indexing.html#returning-a-view-versus-a-copy\n",
      "  df_nomiss['date'] = df_nomiss['quote.USD.timestamp'].str[:10]\n",
      "/var/folders/4q/rq930f513t9ct674p8_0zly80000gn/T/ipykernel_3836/1850348949.py:3: SettingWithCopyWarning: \n",
      "A value is trying to be set on a copy of a slice from a DataFrame.\n",
      "Try using .loc[row_indexer,col_indexer] = value instead\n",
      "\n",
      "See the caveats in the documentation: https://pandas.pydata.org/pandas-docs/stable/user_guide/indexing.html#returning-a-view-versus-a-copy\n",
      "  df_nomiss['date'] = pd.to_datetime(df_nomiss['date'])\n"
     ]
    }
   ],
   "source": [
    "## add the date (adjust the form of timestamp)\n",
    "df_nomiss['date'] = df_nomiss['quote.USD.timestamp'].str[:10]\n",
    "df_nomiss['date'] = pd.to_datetime(df_nomiss['date'])"
   ]
  },
  {
   "cell_type": "code",
   "execution_count": 13,
   "id": "a293e700",
   "metadata": {
    "scrolled": true
   },
   "outputs": [
    {
     "data": {
      "text/html": [
       "<div>\n",
       "<style scoped>\n",
       "    .dataframe tbody tr th:only-of-type {\n",
       "        vertical-align: middle;\n",
       "    }\n",
       "\n",
       "    .dataframe tbody tr th {\n",
       "        vertical-align: top;\n",
       "    }\n",
       "\n",
       "    .dataframe thead th {\n",
       "        text-align: right;\n",
       "    }\n",
       "</style>\n",
       "<table border=\"1\" class=\"dataframe\">\n",
       "  <thead>\n",
       "    <tr style=\"text-align: right;\">\n",
       "      <th></th>\n",
       "      <th></th>\n",
       "      <th>time_open</th>\n",
       "      <th>time_high</th>\n",
       "      <th>time_low</th>\n",
       "      <th>quote.USD.open</th>\n",
       "      <th>quote.USD.high</th>\n",
       "      <th>quote.USD.low</th>\n",
       "      <th>quote.USD.close</th>\n",
       "      <th>quote.USD.volume</th>\n",
       "      <th>quote.USD.market_cap</th>\n",
       "      <th>quote.USD.timestamp</th>\n",
       "      <th>symbol</th>\n",
       "      <th>id</th>\n",
       "      <th>uid</th>\n",
       "      <th>date</th>\n",
       "    </tr>\n",
       "    <tr>\n",
       "      <th>symbol_id</th>\n",
       "      <th>time_close</th>\n",
       "      <th></th>\n",
       "      <th></th>\n",
       "      <th></th>\n",
       "      <th></th>\n",
       "      <th></th>\n",
       "      <th></th>\n",
       "      <th></th>\n",
       "      <th></th>\n",
       "      <th></th>\n",
       "      <th></th>\n",
       "      <th></th>\n",
       "      <th></th>\n",
       "      <th></th>\n",
       "      <th></th>\n",
       "    </tr>\n",
       "  </thead>\n",
       "  <tbody>\n",
       "    <tr>\n",
       "      <th rowspan=\"5\" valign=\"top\">MPH_7742</th>\n",
       "      <th>2020-11-23T00:59:59.999Z</th>\n",
       "      <td>2020-11-23T00:00:00.000Z</td>\n",
       "      <td>2020-11-23T00:00:07.000Z</td>\n",
       "      <td>2020-11-23T00:37:05.000Z</td>\n",
       "      <td>90.554933</td>\n",
       "      <td>90.554933</td>\n",
       "      <td>79.852330</td>\n",
       "      <td>85.599205</td>\n",
       "      <td>1.600851e+07</td>\n",
       "      <td>0.0</td>\n",
       "      <td>2020-11-23T00:59:59.999Z</td>\n",
       "      <td>MPH</td>\n",
       "      <td>7742</td>\n",
       "      <td>MPH_7742</td>\n",
       "      <td>2020-11-23</td>\n",
       "    </tr>\n",
       "    <tr>\n",
       "      <th>2020-11-24T00:59:59.999Z</th>\n",
       "      <td>2020-11-24T00:00:00.000Z</td>\n",
       "      <td>2020-11-24T00:00:07.000Z</td>\n",
       "      <td>2020-11-24T00:40:06.000Z</td>\n",
       "      <td>85.161030</td>\n",
       "      <td>85.161030</td>\n",
       "      <td>80.694133</td>\n",
       "      <td>81.645754</td>\n",
       "      <td>1.009738e+07</td>\n",
       "      <td>0.0</td>\n",
       "      <td>2020-11-24T00:59:59.999Z</td>\n",
       "      <td>MPH</td>\n",
       "      <td>7742</td>\n",
       "      <td>MPH_7742</td>\n",
       "      <td>2020-11-24</td>\n",
       "    </tr>\n",
       "    <tr>\n",
       "      <th>2020-11-25T00:59:59.999Z</th>\n",
       "      <td>2020-11-25T00:00:00.000Z</td>\n",
       "      <td>2020-11-25T00:00:06.000Z</td>\n",
       "      <td>2020-11-25T00:58:05.000Z</td>\n",
       "      <td>57.527366</td>\n",
       "      <td>57.527366</td>\n",
       "      <td>53.679986</td>\n",
       "      <td>53.704963</td>\n",
       "      <td>8.899399e+06</td>\n",
       "      <td>0.0</td>\n",
       "      <td>2020-11-25T00:59:59.999Z</td>\n",
       "      <td>MPH</td>\n",
       "      <td>7742</td>\n",
       "      <td>MPH_7742</td>\n",
       "      <td>2020-11-25</td>\n",
       "    </tr>\n",
       "    <tr>\n",
       "      <th>2020-11-26T00:59:59.999Z</th>\n",
       "      <td>2020-11-26T00:00:00.000Z</td>\n",
       "      <td>2020-11-26T00:56:05.000Z</td>\n",
       "      <td>2020-11-26T00:13:06.000Z</td>\n",
       "      <td>39.466839</td>\n",
       "      <td>40.121814</td>\n",
       "      <td>38.980499</td>\n",
       "      <td>40.056399</td>\n",
       "      <td>4.225065e+06</td>\n",
       "      <td>0.0</td>\n",
       "      <td>2020-11-26T00:59:59.999Z</td>\n",
       "      <td>MPH</td>\n",
       "      <td>7742</td>\n",
       "      <td>MPH_7742</td>\n",
       "      <td>2020-11-26</td>\n",
       "    </tr>\n",
       "    <tr>\n",
       "      <th>2020-11-27T00:59:59.999Z</th>\n",
       "      <td>2020-11-27T00:00:00.000Z</td>\n",
       "      <td>2020-11-27T00:57:05.000Z</td>\n",
       "      <td>2020-11-27T00:16:05.000Z</td>\n",
       "      <td>30.002092</td>\n",
       "      <td>30.391962</td>\n",
       "      <td>29.690305</td>\n",
       "      <td>30.383005</td>\n",
       "      <td>2.933446e+06</td>\n",
       "      <td>0.0</td>\n",
       "      <td>2020-11-27T00:59:59.999Z</td>\n",
       "      <td>MPH</td>\n",
       "      <td>7742</td>\n",
       "      <td>MPH_7742</td>\n",
       "      <td>2020-11-27</td>\n",
       "    </tr>\n",
       "  </tbody>\n",
       "</table>\n",
       "</div>"
      ],
      "text/plain": [
       "                                                   time_open  \\\n",
       "symbol_id time_close                                           \n",
       "MPH_7742  2020-11-23T00:59:59.999Z  2020-11-23T00:00:00.000Z   \n",
       "          2020-11-24T00:59:59.999Z  2020-11-24T00:00:00.000Z   \n",
       "          2020-11-25T00:59:59.999Z  2020-11-25T00:00:00.000Z   \n",
       "          2020-11-26T00:59:59.999Z  2020-11-26T00:00:00.000Z   \n",
       "          2020-11-27T00:59:59.999Z  2020-11-27T00:00:00.000Z   \n",
       "\n",
       "                                                   time_high  \\\n",
       "symbol_id time_close                                           \n",
       "MPH_7742  2020-11-23T00:59:59.999Z  2020-11-23T00:00:07.000Z   \n",
       "          2020-11-24T00:59:59.999Z  2020-11-24T00:00:07.000Z   \n",
       "          2020-11-25T00:59:59.999Z  2020-11-25T00:00:06.000Z   \n",
       "          2020-11-26T00:59:59.999Z  2020-11-26T00:56:05.000Z   \n",
       "          2020-11-27T00:59:59.999Z  2020-11-27T00:57:05.000Z   \n",
       "\n",
       "                                                    time_low  quote.USD.open  \\\n",
       "symbol_id time_close                                                           \n",
       "MPH_7742  2020-11-23T00:59:59.999Z  2020-11-23T00:37:05.000Z       90.554933   \n",
       "          2020-11-24T00:59:59.999Z  2020-11-24T00:40:06.000Z       85.161030   \n",
       "          2020-11-25T00:59:59.999Z  2020-11-25T00:58:05.000Z       57.527366   \n",
       "          2020-11-26T00:59:59.999Z  2020-11-26T00:13:06.000Z       39.466839   \n",
       "          2020-11-27T00:59:59.999Z  2020-11-27T00:16:05.000Z       30.002092   \n",
       "\n",
       "                                    quote.USD.high  quote.USD.low  \\\n",
       "symbol_id time_close                                                \n",
       "MPH_7742  2020-11-23T00:59:59.999Z       90.554933      79.852330   \n",
       "          2020-11-24T00:59:59.999Z       85.161030      80.694133   \n",
       "          2020-11-25T00:59:59.999Z       57.527366      53.679986   \n",
       "          2020-11-26T00:59:59.999Z       40.121814      38.980499   \n",
       "          2020-11-27T00:59:59.999Z       30.391962      29.690305   \n",
       "\n",
       "                                    quote.USD.close  quote.USD.volume  \\\n",
       "symbol_id time_close                                                    \n",
       "MPH_7742  2020-11-23T00:59:59.999Z        85.599205      1.600851e+07   \n",
       "          2020-11-24T00:59:59.999Z        81.645754      1.009738e+07   \n",
       "          2020-11-25T00:59:59.999Z        53.704963      8.899399e+06   \n",
       "          2020-11-26T00:59:59.999Z        40.056399      4.225065e+06   \n",
       "          2020-11-27T00:59:59.999Z        30.383005      2.933446e+06   \n",
       "\n",
       "                                    quote.USD.market_cap  \\\n",
       "symbol_id time_close                                       \n",
       "MPH_7742  2020-11-23T00:59:59.999Z                   0.0   \n",
       "          2020-11-24T00:59:59.999Z                   0.0   \n",
       "          2020-11-25T00:59:59.999Z                   0.0   \n",
       "          2020-11-26T00:59:59.999Z                   0.0   \n",
       "          2020-11-27T00:59:59.999Z                   0.0   \n",
       "\n",
       "                                         quote.USD.timestamp symbol    id  \\\n",
       "symbol_id time_close                                                        \n",
       "MPH_7742  2020-11-23T00:59:59.999Z  2020-11-23T00:59:59.999Z    MPH  7742   \n",
       "          2020-11-24T00:59:59.999Z  2020-11-24T00:59:59.999Z    MPH  7742   \n",
       "          2020-11-25T00:59:59.999Z  2020-11-25T00:59:59.999Z    MPH  7742   \n",
       "          2020-11-26T00:59:59.999Z  2020-11-26T00:59:59.999Z    MPH  7742   \n",
       "          2020-11-27T00:59:59.999Z  2020-11-27T00:59:59.999Z    MPH  7742   \n",
       "\n",
       "                                         uid       date  \n",
       "symbol_id time_close                                     \n",
       "MPH_7742  2020-11-23T00:59:59.999Z  MPH_7742 2020-11-23  \n",
       "          2020-11-24T00:59:59.999Z  MPH_7742 2020-11-24  \n",
       "          2020-11-25T00:59:59.999Z  MPH_7742 2020-11-25  \n",
       "          2020-11-26T00:59:59.999Z  MPH_7742 2020-11-26  \n",
       "          2020-11-27T00:59:59.999Z  MPH_7742 2020-11-27  "
      ]
     },
     "execution_count": 13,
     "metadata": {},
     "output_type": "execute_result"
    }
   ],
   "source": [
    "df_nomiss.head()"
   ]
  },
  {
   "cell_type": "code",
   "execution_count": 14,
   "id": "4dcd076a",
   "metadata": {},
   "outputs": [
    {
     "data": {
      "text/plain": [
       "time_open                       object\n",
       "time_high                       object\n",
       "time_low                        object\n",
       "quote.USD.open                 float64\n",
       "quote.USD.high                 float64\n",
       "quote.USD.low                  float64\n",
       "quote.USD.close                float64\n",
       "quote.USD.volume               float64\n",
       "quote.USD.market_cap           float64\n",
       "quote.USD.timestamp             object\n",
       "symbol                          object\n",
       "id                               int64\n",
       "uid                             object\n",
       "date                    datetime64[ns]\n",
       "dtype: object"
      ]
     },
     "execution_count": 14,
     "metadata": {},
     "output_type": "execute_result"
    }
   ],
   "source": [
    "df_nomiss.dtypes"
   ]
  },
  {
   "cell_type": "markdown",
   "id": "331d3e7d",
   "metadata": {},
   "source": [
    "There is no any symbol and id clapped, so we decide to use **df_nomiss** as our dataset because volume is an important parameter to do the analysis."
   ]
  },
  {
   "cell_type": "code",
   "execution_count": 15,
   "id": "e4de645f",
   "metadata": {},
   "outputs": [],
   "source": [
    "CoinL=[]\n",
    "len(df_nomiss.uid.unique())\n",
    "curI =df_nomiss.uid.unique()\n",
    "#df_nomiss.loc[str(curI[0])]\n",
    "#CoinL.append(df_nomiss.loc[str(curI[0])])\n",
    "for i in range(len(df_nomiss.uid.unique())):\n",
    "    curD=df_nomiss.loc[curI[i]]\n",
    "    CoinL.append(curD)\n"
   ]
  },
  {
   "cell_type": "code",
   "execution_count": 16,
   "id": "76c9ac73",
   "metadata": {},
   "outputs": [
    {
     "data": {
      "image/png": "[encoded data removed]",
      "text/plain": [
       "<Figure size 432x288 with 1 Axes>"
      ]
     },
     "metadata": {
      "needs_background": "light"
     },
     "output_type": "display_data"
    }
   ],
   "source": [
    "n=len(df_nomiss.uid.unique())\n",
    "colors = plt.cm.rainbow(np.linspace(0, 1, n))\n",
    "\n",
    "for i in range(len((df_nomiss.uid.unique()))):\n",
    "    plt.plot(CoinL[i]['date'],CoinL[i]['quote.USD.market_cap'],color=colors[i])\n",
    "plt.show()\n"
   ]
  },
  {
   "cell_type": "code",
   "execution_count": 17,
   "id": "a7606c4f",
   "metadata": {},
   "outputs": [],
   "source": [
    "curD=df_nomiss.loc[curI[0]]\n",
    "curDM=curD['quote.USD.market_cap'].max()\n"
   ]
  },
  {
   "cell_type": "code",
   "execution_count": 18,
   "id": "16c09a87",
   "metadata": {},
   "outputs": [],
   "source": [
    "Sel_C=[]\n",
    "for i in range(len(df_nomiss.uid.unique())):\n",
    "    curD=df_nomiss.loc[curI[i]]\n",
    "    curDM=curD['quote.USD.market_cap'].max()\n",
    "    Sel_C.append((curDM,i))\n",
    "    \n",
    "Sel_C.sort()"
   ]
  },
  {
   "cell_type": "code",
   "execution_count": 19,
   "id": "a541b0b7",
   "metadata": {},
   "outputs": [
    {
     "data": {
      "text/plain": [
       "(1276427719704.95, 1129)"
      ]
     },
     "execution_count": 19,
     "metadata": {},
     "output_type": "execute_result"
    }
   ],
   "source": [
    "Sel_C[-1]"
   ]
  },
  {
   "cell_type": "code",
   "execution_count": 20,
   "id": "61838a90-13de-4e38-b493-a5ef0d4efd09",
   "metadata": {
    "scrolled": true
   },
   "outputs": [
    {
     "data": {
      "image/png": "[encoded data removed]",
      "text/plain": [
       "<Figure size 432x288 with 1 Axes>"
      ]
     },
     "metadata": {
      "needs_background": "light"
     },
     "output_type": "display_data"
    }
   ],
   "source": [
    "# df_nomiss.query('symbol == \"BTC\"')\n",
    "\n",
    "\n",
    "colors = plt.cm.rainbow(np.linspace(0, 1, 5))\n",
    "\n",
    "for i in range(1,5):\n",
    "    plt.plot(CoinL[Sel_C[0-i][1]]['date'],CoinL[Sel_C[0-i][1]]['quote.USD.market_cap'],color=colors[i],label=CoinL[Sel_C[0-i][1]]['uid'][0])\n",
    "plt.legend()\n",
    "plt.show()\n"
   ]
  },
  {
   "cell_type": "code",
   "execution_count": 48,
   "id": "0d8260ff",
   "metadata": {},
   "outputs": [
    {
     "data": {
      "image/png": "[encoded data removed]",
      "text/plain": [
       "<Figure size 432x288 with 1 Axes>"
      ]
     },
     "metadata": {
      "needs_background": "light"
     },
     "output_type": "display_data"
    }
   ],
   "source": [
    "colors = plt.cm.rainbow(np.linspace(0, 1, 15))\n",
    "\n",
    "for i in range(10,15):\n",
    "    plt.plot(CoinL[Sel_C[i][1]]['date'],CoinL[Sel_C[i][1]]['quote.USD.market_cap'],color=colors[i],label=CoinL[Sel_C[i][1]]['uid'][0])\n",
    "plt.legend()\n",
    "plt.show()\n"
   ]
  },
  {
   "cell_type": "code",
   "execution_count": 49,
   "id": "281bf05f",
   "metadata": {},
   "outputs": [
    {
     "data": {
      "text/plain": [
       "(742019, 14)"
      ]
     },
     "execution_count": 49,
     "metadata": {},
     "output_type": "execute_result"
    }
   ],
   "source": [
    "df_nomiss.shape"
   ]
  },
  {
   "cell_type": "code",
   "execution_count": 50,
   "id": "65d55c09",
   "metadata": {},
   "outputs": [
    {
     "data": {
      "text/plain": [
       "(742019, 14)"
      ]
     },
     "execution_count": 50,
     "metadata": {},
     "output_type": "execute_result"
    }
   ],
   "source": [
    "df_nomiss.dropna().shape"
   ]
  },
  {
   "cell_type": "code",
   "execution_count": 51,
   "id": "638f015e",
   "metadata": {},
   "outputs": [
    {
     "data": {
      "text/plain": [
       "time_open                       object\n",
       "time_high                       object\n",
       "time_low                        object\n",
       "quote.USD.open                 float64\n",
       "quote.USD.high                 float64\n",
       "quote.USD.low                  float64\n",
       "quote.USD.close                float64\n",
       "quote.USD.volume               float64\n",
       "quote.USD.market_cap           float64\n",
       "quote.USD.timestamp             object\n",
       "symbol                          object\n",
       "id                               int64\n",
       "uid                             object\n",
       "date                    datetime64[ns]\n",
       "dtype: object"
      ]
     },
     "execution_count": 51,
     "metadata": {},
     "output_type": "execute_result"
    }
   ],
   "source": [
    "df_nomiss.dtypes"
   ]
  },
  {
   "cell_type": "code",
   "execution_count": 52,
   "id": "8f81cba6",
   "metadata": {},
   "outputs": [
    {
     "data": {
      "text/plain": [
       "time_open               False\n",
       "time_high               False\n",
       "time_low                False\n",
       "quote.USD.open          False\n",
       "quote.USD.high          False\n",
       "quote.USD.low           False\n",
       "quote.USD.close         False\n",
       "quote.USD.volume        False\n",
       "quote.USD.market_cap    False\n",
       "quote.USD.timestamp     False\n",
       "symbol                  False\n",
       "id                      False\n",
       "uid                     False\n",
       "date                    False\n",
       "dtype: bool"
      ]
     },
     "execution_count": 52,
     "metadata": {},
     "output_type": "execute_result"
    }
   ],
   "source": [
    "df_nomiss.isnull().any()"
   ]
  },
  {
   "cell_type": "code",
   "execution_count": 53,
   "id": "21fb504a",
   "metadata": {},
   "outputs": [
    {
     "data": {
      "text/html": [
       "<div>\n",
       "<style scoped>\n",
       "    .dataframe tbody tr th:only-of-type {\n",
       "        vertical-align: middle;\n",
       "    }\n",
       "\n",
       "    .dataframe tbody tr th {\n",
       "        vertical-align: top;\n",
       "    }\n",
       "\n",
       "    .dataframe thead th {\n",
       "        text-align: right;\n",
       "    }\n",
       "</style>\n",
       "<table border=\"1\" class=\"dataframe\">\n",
       "  <thead>\n",
       "    <tr style=\"text-align: right;\">\n",
       "      <th></th>\n",
       "      <th>count</th>\n",
       "      <th>mean</th>\n",
       "      <th>std</th>\n",
       "      <th>min</th>\n",
       "      <th>25%</th>\n",
       "      <th>50%</th>\n",
       "      <th>75%</th>\n",
       "      <th>max</th>\n",
       "    </tr>\n",
       "  </thead>\n",
       "  <tbody>\n",
       "    <tr>\n",
       "      <th>quote.USD.open</th>\n",
       "      <td>742019.0</td>\n",
       "      <td>3.835850e+02</td>\n",
       "      <td>4.119116e+03</td>\n",
       "      <td>0.000000e+00</td>\n",
       "      <td>3.374760e-02</td>\n",
       "      <td>2.875130e-01</td>\n",
       "      <td>2.014665e+00</td>\n",
       "      <td>1.710106e+05</td>\n",
       "    </tr>\n",
       "    <tr>\n",
       "      <th>quote.USD.high</th>\n",
       "      <td>742019.0</td>\n",
       "      <td>3.863548e+02</td>\n",
       "      <td>4.149026e+03</td>\n",
       "      <td>0.000000e+00</td>\n",
       "      <td>3.419714e-02</td>\n",
       "      <td>2.908852e-01</td>\n",
       "      <td>2.038999e+00</td>\n",
       "      <td>1.733846e+05</td>\n",
       "    </tr>\n",
       "    <tr>\n",
       "      <th>quote.USD.low</th>\n",
       "      <td>742019.0</td>\n",
       "      <td>3.805772e+02</td>\n",
       "      <td>4.085290e+03</td>\n",
       "      <td>0.000000e+00</td>\n",
       "      <td>3.330915e-02</td>\n",
       "      <td>2.838410e-01</td>\n",
       "      <td>1.987739e+00</td>\n",
       "      <td>1.703835e+05</td>\n",
       "    </tr>\n",
       "    <tr>\n",
       "      <th>quote.USD.close</th>\n",
       "      <td>742019.0</td>\n",
       "      <td>3.834919e+02</td>\n",
       "      <td>4.117638e+03</td>\n",
       "      <td>0.000000e+00</td>\n",
       "      <td>3.373030e-02</td>\n",
       "      <td>2.871819e-01</td>\n",
       "      <td>2.011999e+00</td>\n",
       "      <td>1.733846e+05</td>\n",
       "    </tr>\n",
       "    <tr>\n",
       "      <th>quote.USD.volume</th>\n",
       "      <td>742019.0</td>\n",
       "      <td>1.212272e+10</td>\n",
       "      <td>5.749468e+12</td>\n",
       "      <td>0.000000e+00</td>\n",
       "      <td>2.212874e+05</td>\n",
       "      <td>1.460568e+06</td>\n",
       "      <td>1.147851e+07</td>\n",
       "      <td>3.665774e+15</td>\n",
       "    </tr>\n",
       "    <tr>\n",
       "      <th>quote.USD.market_cap</th>\n",
       "      <td>742019.0</td>\n",
       "      <td>1.659988e+09</td>\n",
       "      <td>2.628066e+10</td>\n",
       "      <td>-1.366289e+09</td>\n",
       "      <td>8.464712e+06</td>\n",
       "      <td>3.178227e+07</td>\n",
       "      <td>1.387857e+08</td>\n",
       "      <td>1.276428e+12</td>\n",
       "    </tr>\n",
       "    <tr>\n",
       "      <th>id</th>\n",
       "      <td>742019.0</td>\n",
       "      <td>5.578674e+03</td>\n",
       "      <td>3.256602e+03</td>\n",
       "      <td>1.000000e+00</td>\n",
       "      <td>2.861000e+03</td>\n",
       "      <td>5.224000e+03</td>\n",
       "      <td>7.805000e+03</td>\n",
       "      <td>2.070100e+04</td>\n",
       "    </tr>\n",
       "  </tbody>\n",
       "</table>\n",
       "</div>"
      ],
      "text/plain": [
       "                         count          mean           std           min  \\\n",
       "quote.USD.open        742019.0  3.835850e+02  4.119116e+03  0.000000e+00   \n",
       "quote.USD.high        742019.0  3.863548e+02  4.149026e+03  0.000000e+00   \n",
       "quote.USD.low         742019.0  3.805772e+02  4.085290e+03  0.000000e+00   \n",
       "quote.USD.close       742019.0  3.834919e+02  4.117638e+03  0.000000e+00   \n",
       "quote.USD.volume      742019.0  1.212272e+10  5.749468e+12  0.000000e+00   \n",
       "quote.USD.market_cap  742019.0  1.659988e+09  2.628066e+10 -1.366289e+09   \n",
       "id                    742019.0  5.578674e+03  3.256602e+03  1.000000e+00   \n",
       "\n",
       "                               25%           50%           75%           max  \n",
       "quote.USD.open        3.374760e-02  2.875130e-01  2.014665e+00  1.710106e+05  \n",
       "quote.USD.high        3.419714e-02  2.908852e-01  2.038999e+00  1.733846e+05  \n",
       "quote.USD.low         3.330915e-02  2.838410e-01  1.987739e+00  1.703835e+05  \n",
       "quote.USD.close       3.373030e-02  2.871819e-01  2.011999e+00  1.733846e+05  \n",
       "quote.USD.volume      2.212874e+05  1.460568e+06  1.147851e+07  3.665774e+15  \n",
       "quote.USD.market_cap  8.464712e+06  3.178227e+07  1.387857e+08  1.276428e+12  \n",
       "id                    2.861000e+03  5.224000e+03  7.805000e+03  2.070100e+04  "
      ]
     },
     "execution_count": 53,
     "metadata": {},
     "output_type": "execute_result"
    }
   ],
   "source": [
    "df_nomiss.describe().transpose()"
   ]
  },
  {
   "cell_type": "code",
   "execution_count": 55,
   "id": "75c8f8d8",
   "metadata": {},
   "outputs": [
    {
     "data": {
      "image/png": "[encoded data removed]",
      "text/plain": [
       "<Figure size 432x288 with 1 Axes>"
      ]
     },
     "metadata": {
      "needs_background": "light"
     },
     "output_type": "display_data"
    }
   ],
   "source": [
    "top4 = [\"BTC_1\",\"ETH_1027\", \"BNB_1839\", \"ADA_2010\"]\n",
    "\n",
    "BTC = df_nomiss.loc[top4[0]]['quote.USD.market_cap']\n",
    "ETH = df_nomiss.loc[top4[1]]['quote.USD.market_cap']\n",
    "BNB = df_nomiss.loc[top4[2]]['quote.USD.market_cap']\n",
    "ADA = df_nomiss.loc[top4[3]]['quote.USD.market_cap']\n",
    "\n",
    "data= [BTC,ETH,BNB,ADA]\n",
    "\n",
    "plt.boxplot(data,vert=True, patch_artist=True, labels=top4) \n",
    "plt.show()"
   ]
  },
  {
   "cell_type": "code",
   "execution_count": 61,
   "id": "c56a78f1",
   "metadata": {},
   "outputs": [
    {
     "name": "stdout",
     "output_type": "stream",
     "text": [
      "BTC_1\n",
      "count    7.680000e+02\n",
      "mean     6.973923e+11\n",
      "std      2.696439e+11\n",
      "min      1.904390e+11\n",
      "25%      4.354616e+11\n",
      "50%      7.253307e+11\n",
      "75%      8.929815e+11\n",
      "max      1.276428e+12\n",
      "Name: quote.USD.market_cap, dtype: float64\n",
      "\n",
      "\n",
      "ETH_1027\n",
      "count    8.480000e+02\n",
      "mean     2.625158e+11\n",
      "std      1.309961e+11\n",
      "min      3.638855e+10\n",
      "25%      1.634626e+11\n",
      "50%      2.460583e+11\n",
      "75%      3.637090e+11\n",
      "max      5.664594e+11\n",
      "Name: quote.USD.market_cap, dtype: float64\n",
      "\n",
      "\n",
      "BNB_1839\n",
      "count    7.670000e+02\n",
      "mean     5.130495e+10\n",
      "std      2.803531e+10\n",
      "min      3.328067e+09\n",
      "25%      3.828743e+10\n",
      "50%      5.188302e+10\n",
      "75%      7.009700e+10\n",
      "max      1.096421e+11\n",
      "Name: quote.USD.market_cap, dtype: float64\n",
      "\n",
      "\n",
      "ADA_2010\n",
      "count    7.680000e+02\n",
      "mean     3.327544e+10\n",
      "std      2.185936e+10\n",
      "min      2.398939e+09\n",
      "25%      1.569942e+10\n",
      "50%      3.314008e+10\n",
      "75%      4.455630e+10\n",
      "max      9.442598e+10\n",
      "Name: quote.USD.market_cap, dtype: float64\n",
      "\n",
      "\n"
     ]
    }
   ],
   "source": [
    "for i in range(4):\n",
    "    print(top4[i])\n",
    "    print(data[i].describe().transpose())\n",
    "    print('\\n')"
   ]
  },
  {
   "cell_type": "code",
   "execution_count": null,
   "id": "91df229b",
   "metadata": {},
   "outputs": [],
   "source": []
  }
 ],
 "metadata": {
  "kernelspec": {
   "display_name": "Python 3 (ipykernel)",
   "language": "python",
   "name": "python3"
  },
  "language_info": {
   "codemirror_mode": {
    "name": "ipython",
    "version": 3
   },
   "file_extension": ".py",
   "mimetype": "text/x-python",
   "name": "python",
   "nbconvert_exporter": "python",
   "pygments_lexer": "ipython3",
   "version": "3.9.12"
  },
  "vscode": {
   "interpreter": {
    "hash": "af8259ad5c1c9c7a69bd6ea085234cf8fd3a6a37a71ca551828b314c4d89b0ad"
   }
  }
 },
 "nbformat": 4,
 "nbformat_minor": 5
}
